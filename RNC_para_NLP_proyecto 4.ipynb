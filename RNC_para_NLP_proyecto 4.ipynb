{
 "cells": [
  {
   "cell_type": "markdown",
   "metadata": {},
   "source": [
    "# INFORME \n"
   ]
  },
  {
   "cell_type": "markdown",
   "metadata": {
    "ExecuteTime": {
     "end_time": "2020-11-13T15:35:27.720861Z",
     "start_time": "2020-11-13T15:35:27.706863Z"
    }
   },
   "source": [
    "<img src=\"https://drive.google.com/file/d/1RZSq3E9XntAA3mcFvH6RQO1K0_7Ww7yo/view?usp=sharing\" width=\"800\" />\n"
   ]
  },
  {
   "cell_type": "markdown",
   "metadata": {},
   "source": [
    "<img src=\"intro.jpg\" width=\"800\" />"
   ]
  },
  {
   "cell_type": "markdown",
   "metadata": {},
   "source": [
    "# <font color=green> Utilización Redes neuronales convolucionales\n",
    "   Aplicación de Redes Neuronales convolucionales para problema multiclase"
   ]
  },
  {
   "cell_type": "markdown",
   "metadata": {},
   "source": [
    "## Descripción\n",
    "En este informe se realizará un análisis de reseñas de Amazon diseñadas específicamente para ayudar a la investigación en la clasificación de textos. El conjunto de datos contiene reseñas en español. Cada registro del conjunto de datos contiene el texto de la reseña, el título de la reseña, la calificación por estrellas (1-5) y un revisor anónimo ID, una ID de producto anónima y la categoría de producto."
   ]
  },
  {
   "cell_type": "markdown",
   "metadata": {},
   "source": [
    "## Objetivo\n",
    "\n",
    "Utilizar redes neuronales convolucionales para la clasificación multiclase en el problema de reseñas de amazón con sus calificaciones (1-5)\n"
   ]
  },
  {
   "cell_type": "markdown",
   "metadata": {
    "id": "EJ6zhycx-LJa"
   },
   "source": [
    "# Fase 1: Importar las dependencias\n"
   ]
  },
  {
   "cell_type": "code",
   "execution_count": 1,
   "metadata": {
    "ExecuteTime": {
     "end_time": "2020-11-14T01:27:01.592605Z",
     "start_time": "2020-11-14T01:27:00.622340Z"
    },
    "id": "NON9giQ1_eZy"
   },
   "outputs": [],
   "source": [
    "import numpy as np\n",
    "import math\n",
    "import re\n",
    "import pandas as pd\n",
    "from bs4 import BeautifulSoup\n",
    "\n",
    "#from google.colab import drive"
   ]
  },
  {
   "cell_type": "code",
   "execution_count": 2,
   "metadata": {
    "ExecuteTime": {
     "end_time": "2020-11-14T01:27:06.117740Z",
     "start_time": "2020-11-14T01:27:01.594607Z"
    },
    "id": "Un7jTbQNedR6"
   },
   "outputs": [
    {
     "name": "stderr",
     "output_type": "stream",
     "text": [
      "C:\\ProgramData\\Anaconda3\\lib\\site-packages\\tensorflow\\python\\framework\\dtypes.py:516: FutureWarning: Passing (type, 1) or '1type' as a synonym of type is deprecated; in a future version of numpy, it will be understood as (type, (1,)) / '(1,)type'.\n",
      "  _np_qint8 = np.dtype([(\"qint8\", np.int8, 1)])\n",
      "C:\\ProgramData\\Anaconda3\\lib\\site-packages\\tensorflow\\python\\framework\\dtypes.py:517: FutureWarning: Passing (type, 1) or '1type' as a synonym of type is deprecated; in a future version of numpy, it will be understood as (type, (1,)) / '(1,)type'.\n",
      "  _np_quint8 = np.dtype([(\"quint8\", np.uint8, 1)])\n",
      "C:\\ProgramData\\Anaconda3\\lib\\site-packages\\tensorflow\\python\\framework\\dtypes.py:518: FutureWarning: Passing (type, 1) or '1type' as a synonym of type is deprecated; in a future version of numpy, it will be understood as (type, (1,)) / '(1,)type'.\n",
      "  _np_qint16 = np.dtype([(\"qint16\", np.int16, 1)])\n",
      "C:\\ProgramData\\Anaconda3\\lib\\site-packages\\tensorflow\\python\\framework\\dtypes.py:519: FutureWarning: Passing (type, 1) or '1type' as a synonym of type is deprecated; in a future version of numpy, it will be understood as (type, (1,)) / '(1,)type'.\n",
      "  _np_quint16 = np.dtype([(\"quint16\", np.uint16, 1)])\n",
      "C:\\ProgramData\\Anaconda3\\lib\\site-packages\\tensorflow\\python\\framework\\dtypes.py:520: FutureWarning: Passing (type, 1) or '1type' as a synonym of type is deprecated; in a future version of numpy, it will be understood as (type, (1,)) / '(1,)type'.\n",
      "  _np_qint32 = np.dtype([(\"qint32\", np.int32, 1)])\n",
      "C:\\ProgramData\\Anaconda3\\lib\\site-packages\\tensorflow\\python\\framework\\dtypes.py:525: FutureWarning: Passing (type, 1) or '1type' as a synonym of type is deprecated; in a future version of numpy, it will be understood as (type, (1,)) / '(1,)type'.\n",
      "  np_resource = np.dtype([(\"resource\", np.ubyte, 1)])\n",
      "C:\\ProgramData\\Anaconda3\\lib\\site-packages\\tensorboard\\compat\\tensorflow_stub\\dtypes.py:541: FutureWarning: Passing (type, 1) or '1type' as a synonym of type is deprecated; in a future version of numpy, it will be understood as (type, (1,)) / '(1,)type'.\n",
      "  _np_qint8 = np.dtype([(\"qint8\", np.int8, 1)])\n",
      "C:\\ProgramData\\Anaconda3\\lib\\site-packages\\tensorboard\\compat\\tensorflow_stub\\dtypes.py:542: FutureWarning: Passing (type, 1) or '1type' as a synonym of type is deprecated; in a future version of numpy, it will be understood as (type, (1,)) / '(1,)type'.\n",
      "  _np_quint8 = np.dtype([(\"quint8\", np.uint8, 1)])\n",
      "C:\\ProgramData\\Anaconda3\\lib\\site-packages\\tensorboard\\compat\\tensorflow_stub\\dtypes.py:543: FutureWarning: Passing (type, 1) or '1type' as a synonym of type is deprecated; in a future version of numpy, it will be understood as (type, (1,)) / '(1,)type'.\n",
      "  _np_qint16 = np.dtype([(\"qint16\", np.int16, 1)])\n",
      "C:\\ProgramData\\Anaconda3\\lib\\site-packages\\tensorboard\\compat\\tensorflow_stub\\dtypes.py:544: FutureWarning: Passing (type, 1) or '1type' as a synonym of type is deprecated; in a future version of numpy, it will be understood as (type, (1,)) / '(1,)type'.\n",
      "  _np_quint16 = np.dtype([(\"quint16\", np.uint16, 1)])\n",
      "C:\\ProgramData\\Anaconda3\\lib\\site-packages\\tensorboard\\compat\\tensorflow_stub\\dtypes.py:545: FutureWarning: Passing (type, 1) or '1type' as a synonym of type is deprecated; in a future version of numpy, it will be understood as (type, (1,)) / '(1,)type'.\n",
      "  _np_qint32 = np.dtype([(\"qint32\", np.int32, 1)])\n",
      "C:\\ProgramData\\Anaconda3\\lib\\site-packages\\tensorboard\\compat\\tensorflow_stub\\dtypes.py:550: FutureWarning: Passing (type, 1) or '1type' as a synonym of type is deprecated; in a future version of numpy, it will be understood as (type, (1,)) / '(1,)type'.\n",
      "  np_resource = np.dtype([(\"resource\", np.ubyte, 1)])\n"
     ]
    }
   ],
   "source": [
    "try:\n",
    "    %tensorflow_version 2.x\n",
    "except Exception:\n",
    "    pass\n",
    "import tensorflow as tf\n",
    "\n",
    "from tensorflow.keras import layers\n"
   ]
  },
  {
   "cell_type": "code",
   "execution_count": 3,
   "metadata": {
    "ExecuteTime": {
     "end_time": "2020-11-14T01:27:08.842047Z",
     "start_time": "2020-11-14T01:27:06.120741Z"
    }
   },
   "outputs": [
    {
     "name": "stdout",
     "output_type": "stream",
     "text": [
      "WARNING:tensorflow:\n",
      "The TensorFlow contrib module will not be included in TensorFlow 2.0.\n",
      "For more information, please see:\n",
      "  * https://github.com/tensorflow/community/blob/master/rfcs/20180907-contrib-sunset.md\n",
      "  * https://github.com/tensorflow/addons\n",
      "  * https://github.com/tensorflow/io (for I/O related ops)\n",
      "If you depend on functionality not listed there, please file an issue.\n",
      "\n"
     ]
    }
   ],
   "source": [
    "import tensorflow_datasets as tfds"
   ]
  },
  {
   "cell_type": "code",
   "execution_count": 4,
   "metadata": {
    "ExecuteTime": {
     "end_time": "2020-11-14T01:27:10.002183Z",
     "start_time": "2020-11-14T01:27:08.845048Z"
    }
   },
   "outputs": [
    {
     "name": "stderr",
     "output_type": "stream",
     "text": [
      "[nltk_data] Downloading package punkt to\n",
      "[nltk_data]     C:\\Users\\romil\\AppData\\Roaming\\nltk_data...\n",
      "[nltk_data]   Package punkt is already up-to-date!\n",
      "[nltk_data] Downloading package stopwords to\n",
      "[nltk_data]     C:\\Users\\romil\\AppData\\Roaming\\nltk_data...\n",
      "[nltk_data]   Package stopwords is already up-to-date!\n"
     ]
    }
   ],
   "source": [
    "from wordcloud import WordCloud  # esto es para la nube de palabras\n",
    "import re\n",
    "from nltk.stem import WordNetLemmatizer\n",
    "import itertools\n",
    "\n",
    "import numpy as np\n",
    "import pandas as pd\n",
    "import matplotlib.pyplot as plt\n",
    "import seaborn as sns\n",
    "\n",
    "import nltk  # es una popular librería de Python que se utiliza para NLP.\n",
    "\n",
    "# Esto sirve para configurar NLTK. La primera vez puede tardar un poco\n",
    "nltk.download('punkt')\n",
    "nltk.download('stopwords')\n",
    "\n",
    "# Importamos el lemmatizar de NLTK, y creamos el objeto\n",
    "wordnet_lemmatizer = WordNetLemmatizer()\n",
    "\n",
    "# Importamos esta libreria que nos permite reemplzar caracteres\n",
    "\n",
    "\n",
    "from textblob import TextBlob #análisis de sentimientos"
   ]
  },
  {
   "cell_type": "code",
   "execution_count": 5,
   "metadata": {
    "ExecuteTime": {
     "end_time": "2020-11-14T01:27:10.018185Z",
     "start_time": "2020-11-14T01:27:10.004186Z"
    }
   },
   "outputs": [],
   "source": [
    "#Importación de los stopwords del español e impresión\n",
    "stopwords = nltk.corpus.stopwords\n",
    "stopwords = stopwords.words('spanish')"
   ]
  },
  {
   "cell_type": "code",
   "execution_count": 6,
   "metadata": {
    "ExecuteTime": {
     "end_time": "2020-11-14T01:27:11.741333Z",
     "start_time": "2020-11-14T01:27:10.020185Z"
    }
   },
   "outputs": [],
   "source": [
    "#Importación del archivo train\n",
    "dataset3 = pd.read_json('datos\\dataset_es_train.json', lines=True)"
   ]
  },
  {
   "cell_type": "markdown",
   "metadata": {
    "id": "WN8EilQG-cwa"
   },
   "source": [
    "# Fase 2: Pre Procesado de Datos"
   ]
  },
  {
   "cell_type": "code",
   "execution_count": 7,
   "metadata": {
    "ExecuteTime": {
     "end_time": "2020-11-14T01:27:11.773004Z",
     "start_time": "2020-11-14T01:27:11.742324Z"
    },
    "colab": {
     "base_uri": "https://localhost:8080/",
     "height": 202
    },
    "id": "DAwqYIO259aZ",
    "outputId": "b479b79e-54a1-43b0-bcb1-a476f5fa50ba"
   },
   "outputs": [
    {
     "data": {
      "text/html": [
       "<div>\n",
       "<style scoped>\n",
       "    .dataframe tbody tr th:only-of-type {\n",
       "        vertical-align: middle;\n",
       "    }\n",
       "\n",
       "    .dataframe tbody tr th {\n",
       "        vertical-align: top;\n",
       "    }\n",
       "\n",
       "    .dataframe thead th {\n",
       "        text-align: right;\n",
       "    }\n",
       "</style>\n",
       "<table border=\"1\" class=\"dataframe\">\n",
       "  <thead>\n",
       "    <tr style=\"text-align: right;\">\n",
       "      <th></th>\n",
       "      <th>review_id</th>\n",
       "      <th>product_id</th>\n",
       "      <th>reviewer_id</th>\n",
       "      <th>stars</th>\n",
       "      <th>review_body</th>\n",
       "      <th>review_title</th>\n",
       "      <th>language</th>\n",
       "      <th>product_category</th>\n",
       "    </tr>\n",
       "  </thead>\n",
       "  <tbody>\n",
       "    <tr>\n",
       "      <th>0</th>\n",
       "      <td>es_0491108</td>\n",
       "      <td>product_es_0296024</td>\n",
       "      <td>reviewer_es_0999081</td>\n",
       "      <td>1</td>\n",
       "      <td>Nada bueno se me fue ka pantalla en menos de 8...</td>\n",
       "      <td>television Nevir</td>\n",
       "      <td>es</td>\n",
       "      <td>electronics</td>\n",
       "    </tr>\n",
       "    <tr>\n",
       "      <th>1</th>\n",
       "      <td>es_0869872</td>\n",
       "      <td>product_es_0922286</td>\n",
       "      <td>reviewer_es_0216771</td>\n",
       "      <td>1</td>\n",
       "      <td>Horrible, nos tuvimos que comprar otro porque ...</td>\n",
       "      <td>Dinero tirado a la basura con esta compra</td>\n",
       "      <td>es</td>\n",
       "      <td>electronics</td>\n",
       "    </tr>\n",
       "    <tr>\n",
       "      <th>2</th>\n",
       "      <td>es_0811721</td>\n",
       "      <td>product_es_0474543</td>\n",
       "      <td>reviewer_es_0929213</td>\n",
       "      <td>1</td>\n",
       "      <td>Te obligan a comprar dos unidades y te llega s...</td>\n",
       "      <td>solo llega una unidad cuando te obligan a comp...</td>\n",
       "      <td>es</td>\n",
       "      <td>drugstore</td>\n",
       "    </tr>\n",
       "    <tr>\n",
       "      <th>3</th>\n",
       "      <td>es_0359921</td>\n",
       "      <td>product_es_0656090</td>\n",
       "      <td>reviewer_es_0224702</td>\n",
       "      <td>1</td>\n",
       "      <td>No entro en descalificar al vendedor, solo pue...</td>\n",
       "      <td>PRODUCTO NO RECIBIDO.</td>\n",
       "      <td>es</td>\n",
       "      <td>wireless</td>\n",
       "    </tr>\n",
       "    <tr>\n",
       "      <th>4</th>\n",
       "      <td>es_0068940</td>\n",
       "      <td>product_es_0662544</td>\n",
       "      <td>reviewer_es_0224827</td>\n",
       "      <td>1</td>\n",
       "      <td>Llega tarde y co la talla equivocada</td>\n",
       "      <td>Devuelto</td>\n",
       "      <td>es</td>\n",
       "      <td>shoes</td>\n",
       "    </tr>\n",
       "  </tbody>\n",
       "</table>\n",
       "</div>"
      ],
      "text/plain": [
       "    review_id          product_id          reviewer_id  stars  \\\n",
       "0  es_0491108  product_es_0296024  reviewer_es_0999081      1   \n",
       "1  es_0869872  product_es_0922286  reviewer_es_0216771      1   \n",
       "2  es_0811721  product_es_0474543  reviewer_es_0929213      1   \n",
       "3  es_0359921  product_es_0656090  reviewer_es_0224702      1   \n",
       "4  es_0068940  product_es_0662544  reviewer_es_0224827      1   \n",
       "\n",
       "                                         review_body  \\\n",
       "0  Nada bueno se me fue ka pantalla en menos de 8...   \n",
       "1  Horrible, nos tuvimos que comprar otro porque ...   \n",
       "2  Te obligan a comprar dos unidades y te llega s...   \n",
       "3  No entro en descalificar al vendedor, solo pue...   \n",
       "4               Llega tarde y co la talla equivocada   \n",
       "\n",
       "                                        review_title language product_category  \n",
       "0                                   television Nevir       es      electronics  \n",
       "1          Dinero tirado a la basura con esta compra       es      electronics  \n",
       "2  solo llega una unidad cuando te obligan a comp...       es        drugstore  \n",
       "3                              PRODUCTO NO RECIBIDO.       es         wireless  \n",
       "4                                           Devuelto       es            shoes  "
      ]
     },
     "execution_count": 7,
     "metadata": {},
     "output_type": "execute_result"
    }
   ],
   "source": [
    "dataset3.head(5)"
   ]
  },
  {
   "cell_type": "markdown",
   "metadata": {
    "id": "M5Md2zOM-SPH"
   },
   "source": [
    "El conjunto de datos de testing tiene 3 etiquetas diferentes (una negativa, una positiva y una neutra), mientras que el conjunto de datos de entrenamiento tiene solo dos, por lo que no usaremos el archivo de testing y dividiremos el archivo de entrenamiento más tarde nosotros mismos."
   ]
  },
  {
   "cell_type": "code",
   "execution_count": 8,
   "metadata": {
    "ExecuteTime": {
     "end_time": "2020-11-14T01:27:11.820006Z",
     "start_time": "2020-11-14T01:27:11.776007Z"
    },
    "id": "N-6BBPb3-OfY"
   },
   "outputs": [],
   "source": [
    "data = dataset3.copy()"
   ]
  },
  {
   "cell_type": "markdown",
   "metadata": {
    "id": "6CsZKJx1-2Ep"
   },
   "source": [
    "## Pre Procesado"
   ]
  },
  {
   "cell_type": "markdown",
   "metadata": {
    "id": "FLWayJ-5-7nN"
   },
   "source": [
    "### Limpieza"
   ]
  },
  {
   "cell_type": "code",
   "execution_count": 9,
   "metadata": {
    "ExecuteTime": {
     "end_time": "2020-11-14T01:27:11.943015Z",
     "start_time": "2020-11-14T01:27:11.823011Z"
    }
   },
   "outputs": [],
   "source": [
    "data['opiniones'] = data['review_title'] +','+ data['review_body']"
   ]
  },
  {
   "cell_type": "code",
   "execution_count": 10,
   "metadata": {
    "ExecuteTime": {
     "end_time": "2020-11-14T01:27:11.959017Z",
     "start_time": "2020-11-14T01:27:11.945017Z"
    }
   },
   "outputs": [
    {
     "data": {
      "text/html": [
       "<div>\n",
       "<style scoped>\n",
       "    .dataframe tbody tr th:only-of-type {\n",
       "        vertical-align: middle;\n",
       "    }\n",
       "\n",
       "    .dataframe tbody tr th {\n",
       "        vertical-align: top;\n",
       "    }\n",
       "\n",
       "    .dataframe thead th {\n",
       "        text-align: right;\n",
       "    }\n",
       "</style>\n",
       "<table border=\"1\" class=\"dataframe\">\n",
       "  <thead>\n",
       "    <tr style=\"text-align: right;\">\n",
       "      <th></th>\n",
       "      <th>review_id</th>\n",
       "      <th>product_id</th>\n",
       "      <th>reviewer_id</th>\n",
       "      <th>stars</th>\n",
       "      <th>review_body</th>\n",
       "      <th>review_title</th>\n",
       "      <th>language</th>\n",
       "      <th>product_category</th>\n",
       "      <th>opiniones</th>\n",
       "    </tr>\n",
       "  </thead>\n",
       "  <tbody>\n",
       "    <tr>\n",
       "      <th>199995</th>\n",
       "      <td>es_0715276</td>\n",
       "      <td>product_es_0317036</td>\n",
       "      <td>reviewer_es_0643604</td>\n",
       "      <td>5</td>\n",
       "      <td>Mando funciona perfectamente y cumple con toda...</td>\n",
       "      <td>Tal y como se describe</td>\n",
       "      <td>es</td>\n",
       "      <td>electronics</td>\n",
       "      <td>Tal y como se describe,Mando funciona perfecta...</td>\n",
       "    </tr>\n",
       "    <tr>\n",
       "      <th>199996</th>\n",
       "      <td>es_0085190</td>\n",
       "      <td>product_es_0622919</td>\n",
       "      <td>reviewer_es_0466173</td>\n",
       "      <td>5</td>\n",
       "      <td>Compré la batería con cierta reticencia, pero ...</td>\n",
       "      <td>Funciona perfectamente</td>\n",
       "      <td>es</td>\n",
       "      <td>electronics</td>\n",
       "      <td>Funciona perfectamente,Compré la batería con c...</td>\n",
       "    </tr>\n",
       "    <tr>\n",
       "      <th>199997</th>\n",
       "      <td>es_0484496</td>\n",
       "      <td>product_es_0358101</td>\n",
       "      <td>reviewer_es_0330744</td>\n",
       "      <td>5</td>\n",
       "      <td>Buena calidad. Satisfecha con la compra.</td>\n",
       "      <td>Buena calidad.</td>\n",
       "      <td>es</td>\n",
       "      <td>apparel</td>\n",
       "      <td>Buena calidad.,Buena calidad. Satisfecha con l...</td>\n",
       "    </tr>\n",
       "    <tr>\n",
       "      <th>199998</th>\n",
       "      <td>es_0930141</td>\n",
       "      <td>product_es_0788855</td>\n",
       "      <td>reviewer_es_0694290</td>\n",
       "      <td>5</td>\n",
       "      <td>Perfecto para el cumple de mi hijo</td>\n",
       "      <td>Recomendado</td>\n",
       "      <td>es</td>\n",
       "      <td>toy</td>\n",
       "      <td>Recomendado,Perfecto para el cumple de mi hijo</td>\n",
       "    </tr>\n",
       "    <tr>\n",
       "      <th>199999</th>\n",
       "      <td>es_0859809</td>\n",
       "      <td>product_es_0378794</td>\n",
       "      <td>reviewer_es_0141717</td>\n",
       "      <td>5</td>\n",
       "      <td>Súper bien! Las brochas son buenas, no sé meno...</td>\n",
       "      <td>Preciosas</td>\n",
       "      <td>es</td>\n",
       "      <td>home</td>\n",
       "      <td>Preciosas,Súper bien! Las brochas son buenas, ...</td>\n",
       "    </tr>\n",
       "  </tbody>\n",
       "</table>\n",
       "</div>"
      ],
      "text/plain": [
       "         review_id          product_id          reviewer_id  stars  \\\n",
       "199995  es_0715276  product_es_0317036  reviewer_es_0643604      5   \n",
       "199996  es_0085190  product_es_0622919  reviewer_es_0466173      5   \n",
       "199997  es_0484496  product_es_0358101  reviewer_es_0330744      5   \n",
       "199998  es_0930141  product_es_0788855  reviewer_es_0694290      5   \n",
       "199999  es_0859809  product_es_0378794  reviewer_es_0141717      5   \n",
       "\n",
       "                                              review_body  \\\n",
       "199995  Mando funciona perfectamente y cumple con toda...   \n",
       "199996  Compré la batería con cierta reticencia, pero ...   \n",
       "199997           Buena calidad. Satisfecha con la compra.   \n",
       "199998                 Perfecto para el cumple de mi hijo   \n",
       "199999  Súper bien! Las brochas son buenas, no sé meno...   \n",
       "\n",
       "                  review_title language product_category  \\\n",
       "199995  Tal y como se describe       es      electronics   \n",
       "199996  Funciona perfectamente       es      electronics   \n",
       "199997          Buena calidad.       es          apparel   \n",
       "199998             Recomendado       es              toy   \n",
       "199999               Preciosas       es             home   \n",
       "\n",
       "                                                opiniones  \n",
       "199995  Tal y como se describe,Mando funciona perfecta...  \n",
       "199996  Funciona perfectamente,Compré la batería con c...  \n",
       "199997  Buena calidad.,Buena calidad. Satisfecha con l...  \n",
       "199998     Recomendado,Perfecto para el cumple de mi hijo  \n",
       "199999  Preciosas,Súper bien! Las brochas son buenas, ...  "
      ]
     },
     "execution_count": 10,
     "metadata": {},
     "output_type": "execute_result"
    }
   ],
   "source": [
    "data.tail()"
   ]
  },
  {
   "cell_type": "code",
   "execution_count": 11,
   "metadata": {
    "ExecuteTime": {
     "end_time": "2020-11-14T01:27:12.117276Z",
     "start_time": "2020-11-14T01:27:11.961020Z"
    },
    "id": "Qa1v91RSkgz1"
   },
   "outputs": [],
   "source": [
    "data.drop([\"review_id\", \"product_id\", \"reviewer_id\", \"language\",\"product_category\",\"review_body\",\"review_title\"], # No te olvides de ejecutar data = train_data antes de nada!\n",
    "          axis=1,\n",
    "          inplace=True)"
   ]
  },
  {
   "cell_type": "code",
   "execution_count": 12,
   "metadata": {
    "ExecuteTime": {
     "end_time": "2020-11-14T01:27:12.132953Z",
     "start_time": "2020-11-14T01:27:12.119276Z"
    }
   },
   "outputs": [],
   "source": [
    "#función para que realice la limpieza del texto\n",
    "def clean_review(texto):\n",
    "    texto = BeautifulSoup(texto, \"lxml\").get_text()\n",
    "    # Eliminamos la @ y su mención\n",
    "    texto = re.sub(r\"@[A-Za-z0-9]+\", ' ', texto)\n",
    "    # Eliminamos los links de las URLs\n",
    "    texto = re.sub(r\"https?://[A-Za-z0-9./]+\", ' ', texto)\n",
    "    # Nos quedamos solamente con los caracteres\n",
    "    texto = re.sub(r\"[^a-zA-Z.!?']\", ' ', texto)\n",
    "    # Eliminamos espacios en blanco adicionales\n",
    "    texto = re.sub(r\" +\", ' ', texto)\n",
    "    texto = texto.lower()\n",
    "    # texto = [palabra for palabra in texto if len(texto)>3]\n",
    "    texto = re.sub(r\" +\", ' ', texto)\n",
    "     \n",
    "    # sacamos los puntos seguidos\n",
    "    texto = re.sub(r\"[.2-5]\", ' ', texto)\n",
    "    # sacamos los signos admiración seguidos\n",
    "    texto = re.sub(r\"[!2-5]\", ' ', texto)\n",
    "   \n",
    "    \n",
    "    return texto"
   ]
  },
  {
   "cell_type": "code",
   "execution_count": 13,
   "metadata": {
    "ExecuteTime": {
     "end_time": "2020-11-14T01:28:03.898138Z",
     "start_time": "2020-11-14T01:27:12.133954Z"
    },
    "id": "vq-mIZNdAUjE"
   },
   "outputs": [],
   "source": [
    "#aplicacmos la función limpia el texto\n",
    "data_clean = [clean_review(texto) for texto in data.opiniones]"
   ]
  },
  {
   "cell_type": "code",
   "execution_count": 14,
   "metadata": {
    "ExecuteTime": {
     "end_time": "2020-11-14T01:28:04.520188Z",
     "start_time": "2020-11-14T01:28:03.900138Z"
    }
   },
   "outputs": [],
   "source": [
    "# Sacamos las Stopwords\n",
    "data_clean = [palabra for palabra in data_clean if not palabra in stopwords]"
   ]
  },
  {
   "cell_type": "code",
   "execution_count": 15,
   "metadata": {
    "ExecuteTime": {
     "end_time": "2020-11-14T01:28:04.566730Z",
     "start_time": "2020-11-14T01:28:04.522189Z"
    },
    "colab": {
     "base_uri": "https://localhost:8080/",
     "height": 1000
    },
    "id": "NHrc3O6HlGjB",
    "outputId": "0814941c-e36a-477d-bfa9-6228b7dd31f7"
   },
   "outputs": [
    {
     "data": {
      "text/plain": [
       "['television nevir nada bueno se me fue ka pantalla en menos de meses y no he recibido respuesta del fabricante',\n",
       " 'dinero tirado a la basura con esta compra horrible nos tuvimos que comprar otro porque ni nosotros que sabemos ingl s ni un inform tico despu s de una hora fue capaz de instalarlo',\n",
       " 'solo llega una unidad cuando te obligan a comprar dos te obligan a comprar dos unidades y te llega solo una y no hay forma de reclamar una autentica estafa no compreis  ',\n",
       " 'producto no recibido  no entro en descalificar al vendedor solo puedo decir que tras dos meses de espera     sigo sin el producto y tuve que contactar con amazon para reclamar su reembolso  amazon un   se hace cargo del problema pero yo e desembolsado mi dinero y en dos meses me lo devuelven perdida de tiempo total  sin palabras  y ustedes deciden',\n",
       " 'devuelto llega tarde y co la talla equivocada',\n",
       " 'jam s me lleg jam s me lleg y el vendedor nunca contacto conmigo a pesar de intentarlo veces',\n",
       " 'horroroso    el paraguas es de muy mala calidad da la sensaci n que se va a romper cuando lo abres  es muy cutre ',\n",
       " 'poco funcional tuve que devolverla porque al ser triangular no se agarra de forma c moda para la escritura  bonita calidad precio aceptable pero poco funcional ',\n",
       " 'no me llego estoy esperando despues de protestar varias veces pero veo que no hay solucion y no haceis caso me dicen de un reembolso pero yo quiero el auricular',\n",
       " 'mala calidad defectuoso defectuoso  en apariencia muy bien producto pero al tercer uso del vaso mezclador m s grande ha dejado de funcionar  intentaba hacer un pur nada que requiera una fuerza excesiva y las cuchillas dejaron de girar  una pena porque es una herramienta en principio muy funcional  al final lo barato sale caro  tres meses de vida  decepcionada ',\n",
       " 'mala descripci n pone que son piezas y la realidad es que es de piezas',\n",
       " 'saltan los plomos al utilizarla saltan los plomos al tercer d a de uso  a devolver',\n",
       " 'el pegamento es pesimo el pegamento es como de pos it  despu s de pegar el protector y poner la funda se despega solo  no entiendo c mo se puede fabricar algo tan pesimo  es un aut ntico enga o ',\n",
       " 'mariposa se retuerce no me gusta es de un plastico blando que se retuerce y no funciona bien  estoy descontento voy a tener que comprar otra  pongo una estrella por que no me deja quitarla ',\n",
       " 'roto me ven a el producto y embalaje roto',\n",
       " 'nada recomendable es una estafa  no lo compreis  copias los archivos y desaparecen o dice que el formato es corrupto y eso que lo formatee y lo puse en varios formatos por si acaso   una decepci n total  ',\n",
       " 'ojal se acuerden el producto ten a que llegar el de septiembre del aproximada pero no me llego nada contacte con el vendedor y me dio a elegir si quer a el reembolso o un nuevo env o y eleji un nuevo env o    pero hasta el d a de hoy ni reembolso ni env o que triste ',\n",
       " 'demasiado fragil se rompe con much sima facilidad ',\n",
       " 'cristina un timo  lo compr porque no ten a bpa pero el envoltorio es made in china y no hay ning n certificado que indique que es libre de bpa  de hecho he comprado otras cosas que s que lo pone ',\n",
       " 'se aver a al segundo d a parece de buena calidad no hay informaci n de ella en internet  al encender la impresora todo correcto hizo el auto ajuste bien    seleccione el archivo del gato    tard horas en imprimir todo ok    desde sd  el problema viene cuando la quieres conectar al pc    no la detecta despu s de buscar por internet    no hay informaci n de ella    en ning n sitio nada de nada  no puedes usar cura para hacer las impresiones  despu s de varias horas parece que algo se conecta pero hace cosas raras    el extrusor no deja de sacar pla     y cuando va a hacer el auto ajuste    se hunde en la cama dej ndola destrozada    parece que es una impresora de calidad pero me he llevado un chasco que no veas se monta muy r pido puro no se puede configurar  as que la devolv  ',\n",
       " 'despues de meses con apenas uso se esta hundiendo  despues de meses escasos de uso acabo de darme cuenta de que el soporte central se ha hundido de forma considerable  si sigue a este paso en un mes mas tocara el suelo y sera totalmente inutilizable  un desastre  espero que se pongan en contacto conmigo los vendedores para darme una solucion ',\n",
       " 'material malo las roscas si mueves un poco el tubo se salen solas y pierden mucha agua',\n",
       " 'no llego nunca nunca llego el pedido y el vendedor pasa de todo no contestan',\n",
       " 'ha dejado de funcionar desastroso no tiene ni un a o y ha dejado de funcionar por completo y amazon no me da la opci n de devolverlo esto es un timo    ',\n",
       " 'muy descontento no vale para nada la linterna dinero tirado a la basura',\n",
       " 'mal es de pl stico uno vale para nada ',\n",
       " 'pilar lo siento no puedo valorarlo puesto que la agencia de transporte asm no me lo ha entregado todav a  lo podr valorar cuando lo reciba ',\n",
       " 'c psulas reutilizables in tiles este producto no vale para nada   el caf pasa por encima  se sale por otro sitio  se atasca el filtro  dinero perdido  adem s compr caf que no voy a poder utilizar ',\n",
       " 'in til me anim a comprarlo despu s de leer foros y opiniones  ha sido totalmente invisible para las avispas como si nunca lo hubiera comprado    ',\n",
       " 'estafa no me ha llegado el producto y no hay forma de contactar con el vendedor como puedo hacer para que le devuelvan en dinero? no compr is nadie a este vendedor',\n",
       " 'se supon a que era un producto prime     ha tardado en llegar mucho m s de lo esperado  lo compr pensando que llegar a en un d a al ser prime y no ha sido as  ',\n",
       " 'no merece la pena no me ha gustado de hecho la devolv   s per pesada para manejar',\n",
       " 'no me ha llegado me llego un correo diciendo que hab a llegado el paquete hace d as y a n no lo he recibido no se sabe donde est y la p gina pone entregado',\n",
       " 'todav a no ha llegado no s como es porque deber a haber llegado ayer d a de marzo y hoy por la noche sigo esperando que llegue el frontal  y me hab is mandado el formulario de opini n  pues de momento mala no ha cumplido con la fecha de entrega ',\n",
       " 'bajisima calidad y grill muy malo materiales malos aunque el dise o es bonito pero lo m s importante es que el grill viene por venir porque no sirve para nada se apaga cada dos por tres y para hacer una pizza se tira minutos y al final queda casi cruda con mi antiguo micro ondas en minutos estaba bien dorada lo voy a de cambiar y reparar mi viejo microondas porque para calentar cualquier aparato de euros da la talla y no gastarse en este para que la funci n grill vaya mal  ',\n",
       " 'no tiene agujero para rellenar la pi ata por m s que busque no le encuentro el agujero para meter las chuches  en las instrucciones dice que viene tapada con una pegatina transparente pero la mia no la tiene ',\n",
       " 'fatal el env o me lo env an con correos expres y ahora me dicen que vaya a mi oficina de correos a recogerlo si llego a saber esto no lo compro ademas en amazon me pone que est entregado y a mi no me han entregado nada que mala experiencia',\n",
       " 'de los peores protectores que puedes montar en tu op pro el protector es una completa basura solo pega en los bordes con un leve golpe en el protector se nota hueco  la zona donde se pega deja una l nea de colores distorsionados bastante molesta  a m parecer no es un producto que pueda proteger correctamente la pantalla del terminal ya que se puede despegar con bastante facilidad y un leve golpe podr a despegarla y da ar la pantalla real ',\n",
       " 'junta de pl stico no de goma muy mala calidad la junta es de pl stico duro y entra con dificultad  a la primera se despeg la chapa plateada  la he pegado con pegamento haber si hace apa o ',\n",
       " 'porqueria de entrega una porqueria  me lo han entregado roto  el embalaje malisimo la caja rota y logicamente la comoda esta rota',\n",
       " 'malo malo maloooooo vale que es barato yo lo compr como tel fono auxiliar para casa ya que no tengo l nea fija  la bater a no dura nada a n sin usarlo no dura m s de un d a y cada vez que se quiere usar se abre publicidad que no hay manera de sacar entre eso y lo que tarda en abrir cualquier aplicaci n mejor que no tengas que llamar para una urgencia ya que desde que coges el tel fono hasta que consigues marcar un n f cil pasan un par de minutos  en definitiva un asco  no lo devuelvo porque ha pasado el periodo de devoluci n',\n",
       " 'nefasto el primer cristal que saqu se parti por la mitad    y el segundo cristal que instal     ya se est rompiendo por alguna esquina sin darle ning n golpe',\n",
       " 'mala manipulaci n el material est muy duro cuesta moldear  una vez los pekes consiguen hacer una figura no queda s lida al cabo del tiempo como el slime por lo que al final se deforma ',\n",
       " 'ampa llegaron rotas algunas hojas un pena porque los dise os son muy bonitos  se puede recortar los rotos repito una pena',\n",
       " 'fatal una porqueria no sirve para nada lo unico que hace es dejarte la cara mas mal',\n",
       " 'faltaba tap n y estaba roto faltaba tap n y estaba roto',\n",
       " 'guantes de baja calidad guantes c modos no lo niego pero de mala calidad  yo creo que en caso de ca da no valdrian para mucho dos meses de uso y se est n rajando ',\n",
       " 'rosa mal simo protector no se adapta completamente  no lo recomiendo  en la ilustraci n parece que coge toda la pantalla pero no es as  se nota toda la pega por los bordes',\n",
       " 'no compres esta basura al principio funcionaba bien a los dos d as empez a hacer un ruido extra o y finalmente a los pocos meses dejo de funcionar por completo los vinilos ya no giran  una buena tocadiscos de una calidad esperable vale mucho m s dinero  evitad esta basura y ir a por una decente ',\n",
       " 'no entregado como pone pone que me lo han entregado hoy y o es verdad me han tra do una funda del movil note nada mas',\n",
       " 'un timo una decepci n total lo que ha llegado no tiene nada que ver con lo que venden  pensaba que ser a un huevo grande dentro de su cajita bien presentado y lo que llega son varios huevos peque itos sueltos sin estar en una triste bolsa de pl stico  un timo total',\n",
       " 'no los recomiendo volumen de sonido muy bajo y escaso de frecuencias graves para nada lo que yo esperaba de esta marca',\n",
       " 'hojas sueltas el cuaderno esta bien pero llego con hojas sueltas  una pena me gustaba la idea',\n",
       " 'no comprar no se recibe y el proveedor no contesta un timo no lo he recibido y el vendedor no contesta cuando te pones en contacto con l  mal muy mal  no comprar',\n",
       " 'se deforma con mucha facilidad no me ha gustado nada  se deforma nada m s sacarlo del embalaje y ya no se fija bien',\n",
       " 'que llegue el art culo a su destino no me llego la compra as que no puedo valorarla ',\n",
       " 'un cartucho no carga y el otro hace fotocopias no me ha gustado nada  un cartucho me ha hecho fotocopias y se ha gastado y el otro nolo puedo ni instalar ',\n",
       " 'no lo he recibido no puedo opinar porque despu s de unos cuantos meses a n no lo he recibido',\n",
       " 'tarda mucho en calentar s lo la he utilizado una vez y tarda m s de min y no termina de calentar  tendr a que tener un piloto luminoso para avisar de que est caliente la comida  no la recomendar a ',\n",
       " 'la mala calidad el felpudo se deshace todo ',\n",
       " 'no vale para este m vil no se adapta al tel fono  tapa la c mara y no cubre la totalidad de la pantalla',\n",
       " 'muy mala experiencia hasta hoy no he visto el producto  el pedido hace ya casi mes  y notifico que he usado prime para est compra ',\n",
       " 'pesimo meses y meses esperando y decian cada mes que habian enviado uno pero nunca llegaba ',\n",
       " 'enga oso la ped porque pon a que serv a para las tablets lnmbbs y no es cierto se queda grande y no se puede poner por que se apoya en los bordes ',\n",
       " 'no me llega mi pedido estoy esperando mi pedido hace semanas  he contactado veces y nadie me responde  quiero mi libro por favor ',\n",
       " 'un fracaso se despega antes de un d a y cuando se echa una foto se nota que est puesto',\n",
       " 'no merecen lo pagado se rompen en seguida y quedan muchas marcas de lis dedos y quitan lucidez a la pantalla de m vil iphone x',\n",
       " 'no vale para nada el protector no vale  el face id no funciona con el puesto',\n",
       " 'fallo de tama o y encoge compre dos polos de la misma talla y el de color negro vino algo m s peque o  pero a n as me val a  tras el primer lavado el otro se mantuvo igual y este se ha encogido  no me vale',\n",
       " 'problemas o soy idiota o este producto esta muy por debajo de lo que te dicen',\n",
       " 'eva maria son una no las recomiendo ay otras por el mismo precio much simo mejores se le caen las pesta as y no quedan a la l nea del ojo hay que cortarlas',\n",
       " 'mala compra el aviso de movimiento es preciso pero no el de localizaci n  falla el de las veces  teniendo en cuenta que me muevo en ciudad  no vale la pena el producto ',\n",
       " 'ha durado poco ha durado meses  ahora es una alcachofa est ndar sin luz  dejaron de funcionar los leds sin m s  voy a solicitar la sustituci n en garant a ya que el periodo de devoluci n termin hace unas semanas ',\n",
       " 'una porquer a no sirven nada una no funciona y la otra estaba rota',\n",
       " 'no es igual que en la imagen el vestido que he recibido no es el mismo que aparece en las im genes     las mariposas del vestido que parecen tan bonitas en el que me lleg a casa parecen de dibujos   ',\n",
       " 'no comprarlo si no quieren da ar su tel fono el dise o es bueno  pero por dentro tiene una estrellas a relieve que sin darme cuenta da aron el cristal trasero del tel fono  es decir que compre algo para proteger el tel fono y lo que hizo fue da arlo ',\n",
       " 'no envian el pedido nunca llego el articulo y el vendedor no da se al de vida',\n",
       " 'malo  es bastante malo  mal dise o  no vale para una terraza o jard n pues las puertas se abren solas si hace un poco de aire  tampoco vale para exterior porque entra agua cuando llueve  el pl stico es fino y endeble  la parte superior es fina y se dobla por el centro y acumula agua de lluvia ',\n",
       " 'fundas mal se han equivocado y me han mandado algunas fundas de otros m viles',\n",
       " 'paquete perdido? no puedo valorarla porque despu s de casi una semana a n no he recibido mi pedido  pienso que amazon tendr a que valorar las compa as de transporte con que trabaja porque es indignante que pague mi cuota prime y nunca reciba mi pedido el d a que toca',\n",
       " 'mala atencion te a tienden fatal he pedido una devolucion y ni caso no tte atienden y ni te contestan a los mensajes',\n",
       " 'falta cable no vienen ni instrucciones ni cable para cargar adem s te pone en el dibujo que es cable mini usb y el que realmente necesita es un jack ',\n",
       " 'enana es enana la pista y las peonzas',\n",
       " 'servicio prime lo ped con prime y me lleg d as despu s llam ndome la atenci n el repartidor por no estar en el domicilio encima cuando deb a haberme llegado un d a antes ',\n",
       " 'estafa no me gusta nada  no s corresponde con la foto',\n",
       " 'baja calidad pesimo sonido y bajo y conectividad nula',\n",
       " 'paquete abierto de todas las veces que he comprado en amazon sta es la primera vez que me llega el paquete abierto y nada m s y nada menos que el contenido es un complemento nutricional  adjunto foto para que comprueben lo mal que me lleg el paquete ',\n",
       " 'vestido para mi hija hola estoy triste desde agosto del lo ped y hoy ya es octubre y nunca me lleg y que me volver an a enviar otro y nada que mal',\n",
       " 'pegamento malo a los dos dias se ha despegado el pegamento con lo que se ha ca do mala calidad el pegamento el resto est bastante bien',\n",
       " 'te lo cobra pero no llega hola no me ha llegado pero si mo la cobrado  estpy a la espera de recibirlo   pero por ahora se ha quedado con mi diseno ',\n",
       " 'fatal ha llegado con solo tornillo valla estafa',\n",
       " 'no ajusta al mi t no ajusta ni siquiera a la parte plana  lo devuelvo ',\n",
       " 'duran muy poco compr el a o pasado y ya no funcionan  comprar a m s porque iluminan muy bien pero si no duran m s que un a o no voy a pedir m s ',\n",
       " 'vendedor no fiable nunca se nos entreg el producto  vendedor no fiable',\n",
       " 'malo malisimo se despega al poco tiempo  lleva una pelicula en todo el borde que acaba por despegarse  no vale la pena gastarse el dinero',\n",
       " 'no es buena compra para empezar el deposito de agua apenas si envia caudal al filtro para que este se empape y enfrie un poco lo de meter cubitos de los que vienen en bolsas del super casi olvidate pq son mas gruesos que el contenedor de agua tienes que hacerlos mas peque itos en la cubitera del frigo ademas y para colmo es bastante ruidoso y como lo tengas a mas de cm ni notas el aire pues el ventilador es bastante pobre       no es una buena compra no lo era de oferta mucho menos ahora que vale mas de     ',\n",
       " 'lleg pronto eso s pero mal    como digo lleg pronto sin novedad y perfectamente embalado todo bien hasta que le puse las pilas no funcionaba en absoluto solo un peque simo click al ponerlo en marcha pero nada m s  compruebo pilas mediante tester compruebo no haber puesto alguna invertida todo correcto  vuelvo a ponerlo en marcha mismos resultados un d bil click al encender y silencio total  quito las pilas y hago uso del cable de alimentaci n de red mismo resultado el m nimo click de cuando la pilas pero nada m s  desilusionado no me qued m s remedio que embalarlo cuidadosamente y devolverlo al dia siguiente a amazon del cual se hizo cargo inmediatamente  la marca grundig me merece todos los respetos del mundo ya que la considero una de las mejores marcas pero en este caso fall estrepitosamente ',\n",
       " 'no funciona imposible registrarse en la app y hacer que funcione ',\n",
       " 'lo devolv no era lo que necesitaba y lo devolv ',\n",
       " 'nunca lleg ped el producto hace mas de meses y a n no recib nada  no lo recomiendo',\n",
       " 'talla no corresponde la talla es peque a  pone l o xl pero es una m ',\n",
       " 'se han fundido en cuanto ha llegado el invierno puse las luces en el exterior y no ha durado ni los meses del verano y el principio del invierno  en cuanto hubo lluvias se han estropeado ',\n",
       " 'tefl n d bil la primera que me lleg la tuve que devolver ya que no calentaba  cuando la compr por segunda vez comprob que calentaba y cuando la us la primera vez   desastre  el queso se sali por todos lados al tener las placas desmontables se limpia con mucha facilidad pero cuando le estaba dando con la esponja no con el estropajo ya que quiero que me dure cuando m s tiempo mejor el tefl n de las zonas donde hab a queso salt   no voy a proceder a su devoluci n de momento pero si la siguiente vez salta de nuevo el tefl n lo har  ',\n",
       " 'funda peque a pone que vale para y y no es verdad es mas peque o que el m vil y un timo total',\n",
       " ' para qu ? es demasiado peque o no har lo que tenia pensado ',\n",
       " 'lleg averiado no cargaba cuando lleg lo tuve que tirar no encend a ni cargaba ni na no vale la pena no comprar',\n",
       " 'no son funcionales las compr por que no hab a las que compro habitualmente y fue un error son muy malas las devolv despu s de probar se rompen  al rozar los dedos con el suelo se rajan  el pl stico es tan fino que es normal que se rompan ',\n",
       " 'ivan este producto no sirve para nada no lo compr is aparte de que no es igual al de la fotograf a ya que trae una resistencia lateral funciona exactamente dias ',\n",
       " 'de momento nada falla lo estrene hoy cargado y se me enciende y apaga',\n",
       " 'fatal estoy muy disgustada  he comprado telefonos de estos  uno le regale a mi hermana  el otro se me rompio la pantalla por un simple golpe por lo cual me compre otro xke me gustaba el funcionamiento del telefono  y resulta que derrepente un dia se me empezo a correr la tinta de la pantalla por dentro sin darle ningun golpe ni nada  empezo con una mancha peque a y acabo toda la pantalla negra  he escrito tres mensajes al vendedor y nisiquiera me contestan  me parece vergonzoso  aun estoy esperando el reembolso',\n",
       " 'calidad zero aguant ni cinco inmersiones  el bot n oxid y la linterna dej de funcionar  muy mala calidad ',\n",
       " 'no duro ni un mes puse dos puertas basculantes esta en interior y otra un poco mas cara en exterior esta la eleg por el color y fue un error un mes despu s la blanca esta perfectamente y esta ya esta rota  no duro ni un mes ',\n",
       " 'mal cafe utilice tassimo en mi anterior cafetera este no tiene nada que ver mal sabor y caro una decepcion con este producto',\n",
       " 'nada recomendable el art culo nunca ha llegado ahora el vendedor me dice que no puede hacerse responsable de que pueda llegar si lo reenvia ',\n",
       " 'fallos de software y rendimiento  las prestaciones que a priori ofrece son fant sticas sobre todo por el precio que lo hace  en modo tienda se ve espectacular con las im genes que tiene insertadas  el problema es que despu s es imposible conseguir una calidad decente de imagen o bien yo no supe hacerlo  el modo cine d a y cine noche era que todo ser pon a de color rojizo  en el modo din mico o est ndar era imposible conseguir una calidad aceptable sobre todo en color y brillo  se qued colgada al reproducir un episodio de hbo en youtube a mitad de reproducci n fall y se reinici al sintonizar los canales despu s no cambiaba de canal estaba por ejemplo en cuatro le daba para cambiar indicaba tele cinco pero segu a en cuatro    muchos fallos a nivel ser software  no s si es que estaba mal la mis en concreto o es que todas son as   lo cierto es que como ya me lleg la primera con un golpe en la pantalla y en la segunda me pas esto decid que ya no probaba m s  tengo una samsung de que va genial esta iba a ser segunda televisi n pero ya no me la juego y aunque sea por un poco m s casi con toda seguridad comprar una lg o samsung ',\n",
       " 'no funciona por lo menos el qe me toco exteriormente muy chulo  nada mas conectarlo me bloquea los ordenadores ',\n",
       " 'penoso me ha durado meses de muy mala calidad no ha durado nada voy a ver si me lo devuelven',\n",
       " 'caja de la consola abierta la consola viene totalmente des precintada y sin el c digo de juego metro  no la he comprado de segunda mano as que procedo a la devoluci n  he visto que hay mas gente que le ha pasado as que cuidado ',\n",
       " 'muy malo muy duro no sepuede dormir bien se levanta uno cansado',\n",
       " 'rota y sin contestar a los mensajes  me llego el cristal roto y me puse en contacto con el vendedor y ni contestar ',\n",
       " 'mario gal n rom n al cubrir la curva de la pantalla el tactil por los lados no funciona bien se me despego a los dos d as  para nada os compreis este protector es mal simo ',\n",
       " 'no aguanta peso no aguanta nada de peso se despega a la m nima que cuelgas algo ',\n",
       " 'no he recibido el llavero y hace meses q lo compr lo compr y no lo he recibido  les acabo de escribir un segundo mail hoy espero me contesten y me den una soluci n ',\n",
       " 'un poco enga oso el problema es bueno es el de el comprador pues el marketing de venta esta muy mal para lo que real mente se ofrece',\n",
       " 'tarde y mal  no lo recomiendo  no se lo recomiendo a nadie  tarde y mal  a pesar de ser prime me tard d as en llegar y para colmo el producto defectuoso  es como si internamente el abrelatas estuviese bloqueado y no hace nada ',\n",
       " 'no lleg no comprendo muy bien porque me sale que deje mi opinion si no me ha llegado el articulo  eso s amaz n me ha devuelto el dinero  el compraro me pidio por mail que levantara la queja cosa que no he hecho ',\n",
       " 'no es como se describe no es del color del anuncio  s lo es p rpura por la parte interior de la tapa ',\n",
       " 'no cumple con lo que ofrece tras dos meses de uso y lucha con el distribuidor gardena la conclusi n es que no cumple con lo que promete  en mi caso no he conseguido que salte de la salida tres a la cuatro por m s que he probado todas las f rmulas con m s presi n con un limitador cambiando la programaci n y d ndole m s tiempo entre cambios    todo inutil  solo distribuye a tres zonas y no siempre de forma consecutiva porque hay veces que sale por tres a la vez o por dos  en resumen un producto frustrante que no aconsejo en absoluto ',\n",
       " 'laura no s c mo e el producto ya que llevo d as esperando que llegue y ponen que est en reparto y no llega nunca el viernes estuve todo el santo d a esperando el paquete y lo peor que ten a cosas que hacer y me qued sin hacerlas para no dar lugar a perder otro d a cosa que voy a tener que perder ya que sigo sin recibirlo el vendedor me dice encima que pasaron a a la de la tarde me deja por mentirosa ya es lo ltimo a las de la tarde viene mi marido a comer y tengo un bebe de meses a esa hora estoy en mi casa cada d a    no dejan papel ni llaman ni nada una verg enza de compa a de transporte que son envialia y el vendedor que me deje de mentirosa es que ya me da igual el paquete y el dinero s lo quiero que se sepa y que a nadie le pase lo mismo no puedo valorar el saco puesto que si lo recibo alg n d a ser un milagro     ',\n",
       " 'no funciona no ha funcionado bien nunca se va la se al no se conecta mala compra',\n",
       " 'la mala calidad muy mala calidad se despega enseguida',\n",
       " 'elasticidad nula es p sima la calidad no se le puede dar ning n tipo de forma con un secador de calor ya que se cuartea y se raja es imposible de pegar en faros con algo de curva  nada recomendable ',\n",
       " 'elena muy mala calidad no funciona y adem s a venido las letras muy ralladas lo he tirado a la basura igual k el dinero no recomiendo',\n",
       " 'destroza tu rat n si bien la primera impresi n al utilizar la alfombrilla es bastante buena con el paso de los meses se puede apreciar como se mancha continuamente con un polvillo negro resultante de la degradaci n del rat n ',\n",
       " 'juguete caro cuando vuelas este drone no puedes evitar temer por su vida  la se al se va constantemente la calidad esta bastante bien pero se pasa mal  en cuanto tienes un rbol delante vas a perder se al  es tan peque o y fr gil que despegarlo en un lugar con polvo y tierra ya te ensucia la c mara  por mucho que los influencers digan no es un drone para uso profesional  es un juguete caro simplemente  lo bueno es que pasa desapercibido y la gente no se acerca tanto a preguntar ',\n",
       " 'estafa es una estafa lo he comprado ya dos veces y pasan los meses y nunca llega me devolvieron el dinero',\n",
       " 'ma ana calidad malisimas no tienen nada que ver con la foto no son de licra ni se ajustan muy bien y a los dos lavados pierden color compra muy mala',\n",
       " 'no vale la pena ni por lo que valen fatal  los compre hace un a o y estaban bien por lo que valian pero esta vez han llegado fatal se oyen mal y el auricular rasca en el oido',\n",
       " 'pesimo cuesta mucho despegarlo del papel',\n",
       " 'muy malo el protector es muy f cil de colocar pero su experiencia es nefasta  lo he puesto en un oneplus pro y da varios problemas  no queda del todo pegada solamente tiene pegamento en los laterales y no queda bien fijada en la pantalla   debido a ese problema no lee correctamente la huella en la pantalla y el t ctil de la pantalla da error  ',\n",
       " 'no funciona y no consigo devolverlo  no me funcionaba  he iniciado los tr mites de devoluci n  tengo todo listo para devolverlo pero nadie se ha puesto en contacto conmigo para venir a recoger el paquete que as est indicado es decir poca o nula seriedad ',\n",
       " 'malo un dinero mal gastado en un producto que no funciona ya que no alivia el dolor y encima es muy oloroso ',\n",
       " 'no vale tengo un renault megane y no me vale para mi coche el vendedor no pone m s que problemas sea que no le comprar mas a l',\n",
       " 'no recomendable despues de meses de uso ya me dejo la bateria  salgo con ella cargada a y cuando llega a se me apaga  no recomiendo a nadie comprar este producto ',\n",
       " 'muy debil el viento la rompi en dos semanas',\n",
       " 'muy mala hola la bateria funciona y tambien deja de funcionar  el ordenador se apaga inesperadamente y me perjudica en el trabajo ya q trabajo con el ordenador  he contactado con el vendedor pero nada que aparece',\n",
       " 'fatal no recomiendo al vendedor mi pedido no ha llegado el vendedor me dice que la mensajeria le dice que si y no me deja ni abrir reclamacion ni nada  amazon por su parte tampoco hace nada a pesar de enviarles mensajes a traves de aqui  ahora sin dinero y sin el regalo de comuni n de mi sobrina     ltimo recurso ir a la oficina del consumidor    comprobante que envia el vendedor de la empresa de mensajer a con firma falsa      deberian trabajar con mensajerias mas serias ',\n",
       " 'red de mala calidad  ten a buena pinta y buen precio pero en menos de una semana ya ten a roturas en la red de protecci n  en dos semanas se rompi la cremallera de entrada  l stima la he tenido que devolver ',\n",
       " 'p sima calidad p sima calidad  las piezas no encajan estaba descolorido y el forro estaba despegado de la espuma  estamos intentando devolverlo pero los gastos de devoluci n son casi la mitad del importe de producto y el proveedor no nos contesta  nada recomendable ',\n",
       " 'decepcionado buenos d as esperaba este funko pop con mucha ilusi n y me a venido falso pero totalmente falso el n mero de serie del funko aparte de que no coincide con la caja la figura no coincide con la imagen de la caja   en fin variedad de fallos que no me esperaba la verdad ',\n",
       " 'grande demasiado grande para mi  una vez dentro no se abre  termin comprando una talla s en la farmacia',\n",
       " 'pesimo lo peor que he comprado en amazon  el servicio de reparto ups lo peor  casi cada semana me entregan paquetes de amazon y no hab a tenido problemas hasta ahora  al final tuve que ir yo a por el paquete  hicieron dos intentos de entrega uno de ellos mentira porque dijeron que no hab a nadie cuando a la hora que ponen s que estaba  encima llamar a la empresa es un   despu s de todo el l o el perchero queda torcido    ',\n",
       " 'viene descolorida en la serigraf a muy descontento con la calidad de la serigraf a espero que me lo compensen para que le suba la valoraci n  sino se queda en estrella',\n",
       " 'envio lento envio muy lento mas de dias',\n",
       " 'un vendedor muy poco eficiente muy mal el vendedor despu s de esperar dos meses ha que llegar n con problemas de env o y no me los envio',\n",
       " 'incompleto no los he probado los tuve que devolver porque faltaba un rotulador ',\n",
       " 'no lo recomiendo para nada una mierda  la primera vez que se ha ca do mi tel fono la pantalla se se despeg tambi n del m vil  me dur menos de un mes ',\n",
       " 'no me gusto no me gust para nada  mi piel se volvi muy grasa y con granos',\n",
       " 'no es xtrem compr el producto porque en el descriptivo pone que es isdin xtrem y me mandaron la versi n normal  reclam y me han vuelto a enviar la versi n normal  si necesit is isdin extrem no es este enlace',\n",
       " 'perfectos han funcionado muy bien quince dias se han quemado cuando los cargaba y a la basura ',\n",
       " 'no vuelvo a comprar llegaron rotas hable con vendedor y me dijo de enviarme otras acepte y al poco desapareci el pedido   menos mal que el importe pagado se devolvi  ',\n",
       " 'baja calidad del producto  son c modos de usar pero son de baja calidad  los pinchitos azules de goma se caen al peinar al animal  deb imaginarlo al comprarlo tan barato ',\n",
       " ' en mi vida he comprado esto',\n",
       " 'no encajan la una con la otra las piezas no encajan bien se rompe seguido yo las compre recomendadas por su profe pero ella me dise que las de su cole encajan mejor desilusionada no quiere jugar ',\n",
       " 'oscar como voy a valorar un producto que a n no he recibido es de verg enza un mes que a pasado',\n",
       " 'que llegue no he podido utilizarlo porque todav a no ha llegado desde el de junio que realice el pedido  siendo que pon a que tardar an entre y dias',\n",
       " 'urgente he recibido un correo en el que se indicaba que estaban pendientes de recibir el producto cuando este fue recogido por correos y enviado conjuntamente con el reloj y cada uno en su caja tal y como lo enviaron  ruego que revisen en sus archivos y devoluciones por que tienen que tenerlo devuelto pues tambi n me enviaran un correo indicando que hab an recibido la devoluci n  gracias',\n",
       " 'mal servicio  acabo de descubrir que el transportista me hace perdidas para justificar que intenta entregarme el paquete y como no puedo hacer nada pues os planto una estrellita ',\n",
       " 'no recomiendo se rompieron rapido no me duro nada y la duracion de la bateria mal  comprando este producto tire el dinero',\n",
       " 'pinganillo mal simo     s lo trae una peque a linea de pegamento en los bordes y en el centro nada se despega enseguida y pierdes sensibilidad en el tactil',\n",
       " 'yehua hdmi wireless dongle el producto no cumple las expectativas por lo que lo hab amos comprado ya que tenemos otro de similares caracter sticas y nos funciona perfectamente este era para un regalo pero no hubo manera de hacerlo funcionar a trav s de ning n medio ni de televisi n ni proyector por este motivo no puedo recomendarlo ya que al final he tenido que devolverlo y estoy a la espera del reembolso del dinero gracias ',\n",
       " 'cubre poco muy gorda pesa mucho es muy muy gorda el doble que el tel fono no cubre los cantos de la pantalla y es muy dura si cae al suelo no absorbe impacto  pesa mucho parece de plomo no de litio ',\n",
       " 'mala compra  s lo han durado meses compre cuatro   y solo me queda   se han fundido en menos de un mes tras v meses de uso',\n",
       " 'poca estabilidad he comprado un juego grande de esta marca y a todas le doy un pero este no se que le pasa que la asa es muy grande y pesada y como no tengas cuidado se vuelca todo',\n",
       " 'no duran nada no se de d nde salen las opiniones positivas de este producto porque yo compr pares en agosto aprovechando una oferta y uno a uno se han ido rompiendo  ni meses han durado  me han salido los defectuosos??? en uno dej de oirse un auricular el otro dej de vincularse al tel fono y el tercero no carga  ya sabeis os durar n unas semanas y    ya los podeis tirar',\n",
       " 'no llega no llega  era para un regalo pone siempre que llega con retraso  pero es que no llega  muy defraudado ',\n",
       " 'impresentable para empezar personas que le is esta opini n tened en cuenta que aqu el papel de la empresa amazon ha sido excelente de hecho gracias a ellos he podido recibir el reembolso es decir que ellos me han dado la garant a  por otro lado la responsabilidad recae sobre el vendedor de sonline hk ya que lo puedo clasificar como impresentable  no solo no responde a las dudas correos que le env a el comprador sino que pasa absolutamente y ya no est dentro de la plataforma para vender  entonces del producto no puedo opinar porque nunca me lleg y tampoco el reembolso por su parte  digamos que cuando se le acabo el stock de los cargadores se fue de la plataforma dejando de lado a los clientes que ten amos pedidos con ste  porque se puede la opci n de estrellas porque sino se lo lleva directamente  dar las gracias a amazon y a la atenci n al cliente ',\n",
       " 'no vale era demasiado grande y no pudimos utilizarlo',\n",
       " 'no funciona el embalaje y el hecho de que te manden est muy bien  pero resulta in til ya que en realidad lo que se adhiere a la pantalla es el marco blanco que viene en el protector el resto del protector nuna llega a tocar la pantalla y se despega por m s que lo apliques con toda la intenci n  he investigado un poco y ste tipo de protectores son para pantallas curvas que no es el caso de ste terminal  es completamente incompatible con una funda de silicona    ',\n",
       " 'no es cristal templado es pet quedan burbujas  no es lo descrito por el vendedor  solicite devolucion a amazon y sin problema  como siempre buen servicio ',\n",
       " 'una decepcion aparentemente la mochila es muy resistente y con buenos acabados  tras meses de uso el forro interno se ha descosido por varios lugares siendo la primera mochila que se me rompe con tan poco tiempo  muy contenta cuando la recib pero muy decepcionada',\n",
       " 'mala compra mal  no entran en un ibiza   soy muy costosas de poner no cierran las tapas interiores y la derecha pega con otros elementos del foco ',\n",
       " 'estropeado despu s de unos meses deja de funcionar no vale la pena comprar barato es el doble de caro',\n",
       " 'falla al tiempo despu s de meses la funda se da de si y se sale del m vil hace como burbuja en la pantalla y tienes que ajustarla de nuevo para que te detecte los dedos en la pantalla esta muy bien pero tiene una vida til de lo m s corta',\n",
       " 'malo funciona fatal lo tengo dos meses y sale el agua a la vez por la ducha y la ba era  ni lo recomiendo en absoluto ',\n",
       " 'cuidado  nunca he recibido el producto ',\n",
       " 'pesimo p simo producto me lo coloqu veces y el segundero se cay sin ninguna raz n  estoy a punto de devolverlo ',\n",
       " 'no ha llegado nunca no ha llegado y lo he pagado ya hace mucho tiempo',\n",
       " 'mal ajuste ajusta fatal no se adapta al tel fono',\n",
       " 'no cumple las expectativas se apaga solo y a veces no se o a la llamada',\n",
       " 'faltan piezas me falta las luces ranas he visto que hay m s clientes que les an faltado esto no se puede permitir adem s el paquete estaba manipulado y encima no hay forma de contactar con el vendedor',\n",
       " 'fallos mal producto dan muchos fallos en opel insignia no lo recomiendo',\n",
       " 'no funciona mando mando no funciona el boton de retroceso',\n",
       " 'una full ni lleg no puedo opinar pero si del envio      una full ',\n",
       " 'ester el smartwatch es muy bonito y para algo muy b sico est bien a m personalmente no me gusta porque pensaba que pod a leer las notificaciones y no se puede ',\n",
       " 'malo nada que a adir   malo',\n",
       " 'descripci n correcta tras dos semanas de uso se despega el pl stico y no se puede ver la pantalla confio que es defecto fabrica y le doy otra oportunidad y pido otro',\n",
       " 'poco til en la playa en cuanto lo pones al sol te quemas al sentarte en el para la playa es poco eficaz  me ha decepcionado el producto',\n",
       " 'decepcionante sinceramente un mes esperando que llegue y la tienda ha desparecido  tres semanas de espera nada correo a la tienda nada n mero de seguimiento no existe reclamaci n y devoluci n por parte de amazon menos mal amazon si responde',\n",
       " 'muy muy peque o me decepciono enormemente el tama o  si que hace la funci n de bibi m gico pero es min sculo  lo siento pero por el precio que tiene tendr a que ser mucho m s grande o el precio mucho m s peque o   casi ni se ve que el liquido parece que se acaba  muy mal ',\n",
       " 'de vuelta he comprado otra la he tenido un mes y medio funcionando bien calidad de sonido regular potencia buena calidad de imagen normalita nada de full hd se le ha quedado el bot n de bloqueo hundido y le ha salido una marca blanca en la parte superior de la pantalla as que la devuelvo a ver la segunda qu tal',\n",
       " 'no ha llegado en el tiempo deseado  despu s de elegir envi en d a no ha llegado  impresionante pagar por esto  no se si la funda ser buena pero el envio nefasto ',\n",
       " 'bater a no es la indicada en el anuncio recibida bater a de ah en lugar de la de ah publicitada no s si me estoy explicando  gracias ',\n",
       " 'muy mala calidad tras dos usos dejo de tener utilidad  dejo de funcionar  ahora tengo un lindo pisapapeles',\n",
       " 'no recomiendo material muy pobre muy fr gil y muy peque a',\n",
       " 'timada el telefono no es para nada lo que me esperaba ni internet funcionaba a pesar que pone que est conectado y a los tres d as se me cay de poca altura sobre dos metros y se rompi la pantalla e intente contactar con el vendedor y ni caso lo mejor ser seguir comprando en tienda por lo menos hay atenci n al cliente ',\n",
       " 'no vale nada tengo un port til acer moderno con windows actualizado al que puedo agregar dispositivos sin problema  pero a este aparato ni lo reconoce ',\n",
       " 'isa mal simo las intervenciones solo en chino  y no noto absolutamente nada  no lo aconsejo para nada  lo ped por confusi n',\n",
       " 'no funciona compre tres unidades y al conectarlo al ordenador me indica que tiene errores y hay que formatearlo lo formateo cargo un video y el tv no lo reconoce he probado en otro ordenador y tv y funciona cuando quiere  mal producto a los tres que compre les pasa lo mismo ',\n",
       " 'decepcionado en general mal da muchos fallos es dificil de configurar tiene muchas falsas alarmas no funciona bien cuando te acercas     mejor no tener nada que tener algo que no vale para nada ',\n",
       " 'no me han servido el producto no lo se no me han servido el producto que compre pides un parch s y te sirven otro dos veces',\n",
       " 'hace mucho ruido es insoportable compr dos transformadores para leds los dos hacen ruido es insoportable estar cerca por lo que los he tenido que desmontar eso s uno de ellos no me dur ni minutos el otro s pero con un ruido horrible no recomiendo para nada este producto',\n",
       " 'adaptador pero sin regalo no viene con nada m s es un enga o solo llega el adaptador blanco la foto pone que trae un usb de regalo pero es mentira  podrian quitar esa foto es para captar clientes',\n",
       " 'solo ha funcionado meses en menos de meses ha dejado de funcionar',\n",
       " 'mal sonido y mal microfono fatal el producto no duran m s de dos a os no se oyen bien los agudos no se escucha bien el microfono no los recomiendo en absoluto ',\n",
       " 'no vale para el wd elements aunque se venda con l lo compre junto con el wd elements disco duro externo port til de tb con usb   color negro y mi gran sorpresa llega cuando compruebo que es imposible meter el disco duro en l ya que viene para passport ultra  creo que es una mala publicidad y relativamente enga osa  piensas que si se venden en un pack son compatibles y la verdad es que no es asi  me he quedado con el cable y la funda ha ido a la basura  una funda de los chino de cumple mejor su cometido esto no es m s que una simple goma que en absoluto protege el disco',\n",
       " 'pilas desgastadas a las pilas vienen a un de carga para las mandos de las puertas de los parking no es suficiente cuidado  he pedido el rembolso y me cuesta el sobre y mandarlo por correo mas que lo que cuestan las pilas un timo ',\n",
       " 'desagradable la textura es pico agradable y su olor tambien solo me la he puesto dos veces',\n",
       " 'fr gil es muy fino y no pega lo puse y ni un d a duro',\n",
       " 'trini hola yo compr un libro en el k ponia nuevo y este se ve claramente k esta usado bastante usado k hacer para reemplazarlo por uno en estado nuevo k fue lo k yo compre y encima para regalar',\n",
       " 'poca duraci n una estrella porque aunque la impresi n es regular la tonta no dur nada apenas unas dos mil p ginas es decir nada',\n",
       " 'lo devolvi una caca por no decir otra cosa cuando pones peso dentro de ello e gancho que lo sujeta se empieza a doblar hasta puede partir nada y muy peque os',\n",
       " 'no los recomiendo el sonido no es muy bueno cualquier casco con cable tienen mejor calidad de sonido  uno de ellos suena m s que otro y el tama o es mucho m s grande que cualquiera pero logicamente no se puede apreciar en la foto porque no ponen unos normales al lado para poder apreciarlo  los voy a descambiar y seguir con los que tengo de cable ',\n",
       " 'sin informaci n de donde estara el pedido ojo con este vendedor porque no cumple los plazos de entrega  hace un mes que lo pedi con fecha de entrega de febrero  pues bien nada de nada',\n",
       " 'mal estado las almohadillas vienen deformadas',\n",
       " 'funcionamiento defectuoso funcionamiento totalmente defectuoso en cuanto lo he conectado la imagen se ha nublado completamente en el televisor  no lo recomiendo',\n",
       " 'no es til quiero decir que compre este producto hace dos semanas y no sujeta el tel fono con fuerza no se como explicar pero el soporte donde se pone el tel fono no sujeta fuerza y se sale del sitio el tel fono se me a ca do varias veces e probado con otros tel fonos y no lo sujeta al cerrar para que se sujete el tel fono se sale y se cae el tel fono',\n",
       " 'no es lo que anuncian no me ha gustado nada no hidrata tanto como anuncian no ha cumplido mis expectativas seca la piel y la deja mate',\n",
       " 'caja de lego la caja es demasiado peque a para el precio que tiene',\n",
       " 'no pega en cuanto que pusimos un bote de jab n se cay y no hemos podido volver a pegarlo',\n",
       " 'no me ha llegado no me ha llegado ni en esa fecha ni mas adelante y tampoco los demas productos que tenia para esa fecha',\n",
       " 'no es lo que parece he comprado un de tama o xl y en realidad es mucho m s peque o  el material de la espalda es un d bil vamos si quieres algo que haga la funci n que vende tienes que buscar un material m s resistente ',\n",
       " 'la foto de la publicidad no es correcta en la foto de la publicidad la a  foto sale que la funda es para un s edge  as la compr la a vez   ahora he dado al click de comprar de nuevo y resulta que la funda es para un s   no encaja bien con el edge  ',\n",
       " 'sensores imprecisos he colocado ambos sensores en la misma ubicaci n uno al lado del otro y existe una variaci n de grados de temperatura y mucho m s en humedad  no son fiables  lo devuelvo ',\n",
       " 'fea muy fea  en la foto se ve de mejor calidad',\n",
       " 'fatal se lo compramos en diciembre para reyes como no ha tenido tiempo para jugar por el colegio y las actividades extra escolares se lo dejamos para las vacaciones de fin de curso y ahora que lo puede utilizar no funciona bien falla much simo fatal  exijo una compensaci n ',\n",
       " 'disgustada el producto a venido roto siendo un producto fragil podrian embalarlo por lo menos pero ha venido solo con su caja tal y como esta en la foto',\n",
       " 'no funciona como esperaba es cierto que la funda protege perfectamente el m vil pero en detrimento de la funcionalidad ya que con ella puesta teclear en el m vil se convierte en una experiencia desesperante ya que hay que someter cada pulsaci n a una presi n exagerada para poder escribir  he devuelto el art culo y lo sustituir por los protectores de vidrio templado habituales ',\n",
       " 'no sirve para nada me parece caro para la resoluci n que tiene este aparato me parece una porquer a no coge ninguna se al y no sirve para nada ',\n",
       " 'vendedor poco responsable  el producto era un regalo a ltima hora tuve que solicitar devoluci n y el proceso ha sido un dolor de cabeza  me parece que el vendedor es poco serio ',\n",
       " 'protector de pantalla el producto es malo s lo pega por los bordes en el medio no pega no funciona el t ctil bien ',\n",
       " 'mal nunca lo recib   ped de estos y recib de star wars  contact con el vendedor y enseguida me dijo que me enviaba los correctos pero todav a espero  si los recibo alg n d a actualizar mi valoraci n ',\n",
       " 'estafa de empresa meses esperando el pedido me escribieron diciendo que me enviaban otro otro mes m s y sin saber nada ahora intentando que me devuelvan el dinero y tampoco hay manera  no os aconsejo que compr is para esta empresa la verdad ',\n",
       " 'no lo recomiendo  huele bien  no se ven resultados despu s de tres meses utiliz ndolo todos los d as con un peso corporal de kg ',\n",
       " 'francisco piedra molina no me ha llegado el pedido pues lo intent devolver antes de recibirlo  lo que no s seguro es si me lleg el reembolso de lo que pagu por l ',\n",
       " 'sin valoraci n lo pedimos porque ten a buenos comentarios calidad precio claro y garantizaba entrega al d a siguiente  esto fue un jueves y llego el lunes a las siete y pico de la tarde    de calidad no se pero si os urge buscad otra opci n ',\n",
       " 'decepci n son mucho mas grandes de lo habitual y tienes que sincronizarlos cada vez que los enciendes  se me paso el periodo de devolucion porque sino lo har a ',\n",
       " 'no funciona  despu s de un mes esperando por ella me llega y no funciona  he pedido el reembolso del dinero  a ver qu me dicen ',\n",
       " 'no lo volver a a comprar no pigmenta demasiado para mi gusto ',\n",
       " 'cuando est disponible no va mal  cuando est disponible no va mal pero aparece y desaparece continuamente de la tienda de aplicaciones ',\n",
       " 'no recomendado el protector de pantalla peque o para huawei mate lite carcasa de mala calidad y le da mucho volumen al terminal ni lo recomiendo ni lo volver a comprar',\n",
       " 'usar y tirar hacen da o se ve borroso y tienes que acostumbrarte la vista hasta que empieza a verse medio regular',\n",
       " 'el pedido no ha llegado el pedido no ha llegado despu s de un mes de pasado el ultimo d a de su llegada prevista    porqu ?',\n",
       " 'alfombra rota la alfombra lleg rota',\n",
       " 'nunca he recibido el art culo el pedido nunca me ha llegado',\n",
       " 'no trae pila ni instrucciones el enchufe lleg sin la bater a del mando a distancia y sin instrucciones  una gran decepci n',\n",
       " 'dura poco la calidad es mala se despegan las esquinas que sujetan la tablet ',\n",
       " 'no sirven para protegerse del frio demasiado finas parecen papel de fumar  no lo recomiendo para protegerse del frio',\n",
       " 'pocas plumas buenos dias resulta muy peque o para sacar el polvo lo cual no se aprecia en las fotos por lo dem s bien ',\n",
       " 'un desastre        es la segunda vez que me llegan en mal estado  hice un primer pedido y tambi n me llego una esquina rota pero por no pasar por el trago de devolverlas etc    me la quede  pero me parece incre ble que en este segundo tambi n me haya pasado pero esto ya no lo puedo dejar pasar  intento hacer la devoluci n y no me las vienen a recoger a casa te que llevarlas yo a un punto de devoluci n con todo el trastorno que supone  estoy de mudanza y las necesitaba para ya  ahora tengo que preocuparme de ir yo y devolverlas una verg enza  un descarte de servicio y el producto un horror ',\n",
       " 'fernando torres este producto es malisimo p simo dentro de la funda sin golpes algunos se est n desgranando los bordes no es recomendable para nada ',\n",
       " 'rota estaba rota y no pude descambiarla',\n",
       " 'amazon me manda un art culo que no es el correcto  amazon me envi otro modelo de iphone el cual devolv    y se ha quedado con mi dinero y con el producto que envi   mucho cuidado con la compra que hac is  saludos ',\n",
       " 'estafa nunca llegaron  no se molestaban en responder  tuve que abrir reclamaci n ',\n",
       " 'mala calidad   seco     si hace su funci n pero lo malo es que lo utilizas una sola vez y la siguiente vez ya est seco pero seco seco y es imposible aplicarlo  cuando digo utilizarlo la siguiente vez no se trata dos semanas despu s ni m s tiempo no   lo utilice al d a siguiente de estrenarlo y no hubo manera   seco  ',\n",
       " 'mucho ruido mala un a o de uso y suena como un coche de los a os fatal',\n",
       " 'muy malos los pinceles son muy malos se salen los pelos tanto al pintar como al secarlos y se abren  no son caros pero tened en cuenta que vais a tener que lidiar con los pelos  para pintar acuarelas son excesivamente largos  no lo recomiendo ',\n",
       " 'se raja al partido una pala que tiene m ximo partidos jugados por mi novia ella es principiante y ya de ha rajado por varios sitios  no merece la pena haberla comprado ',\n",
       " 'no lo recib lastimosamente se extravi por el camino me comuniqu con el vendedor y con amazon y me devolvieron el importe en ese sentido amazon siempre toma nota  ',\n",
       " 'enormes son enormes pedir una talla menos  no las he podido usar ',\n",
       " 'calidad de la paja imagino que mala me duro minutos    al cogerlo la paja se quebr    no muy buena calidad',\n",
       " 'muy malos se rompieron el primer dia',\n",
       " 'no aparece el producto tarda demasiado y sigue sin llegar dan una fecha de entrega y cada d a la ampl an m s  llegados al punto que datan la entrega y pasado el d a convenido sigue sin llegar ',\n",
       " 'llega tarde buenas compte este articulo y tardo mucho en llegarme lo por fue que cuando ya hab a llegado quise devolverlo y no pod a porque en el seguimiento sin sal a en tr nsito ten a que esperar a que pusiera entregado para devolverlo cuando por fin lo dan por entregado y lo puedo devolver el proveedor me dice que mi plazo de devoluci n ha expirado por lo que no lo puedo devolver  de ah mi descontento con el producto ',\n",
       " 'plazo de envio no cumplido el env o se prometi para el de dic y a n hoy de dic no lo he recibido estoy a la espera',\n",
       " 'no me ha llegado no me ha llegado el producto el viernes ni el s bado a pesar de ser amazon prime haberlo pedido el mi rcoles y poner en el seguimiento que est entregando',\n",
       " 'dur poco se estrope enseguida  en dos meses aproximadamente cargas dej de funcionar ',\n",
       " 'paloma uno de los aparatos no funcionaba y las pilas duran un d a respecto al aparato q funciona y como comentario positivo puedo decir q la calidad de sonido es buena y limpia',\n",
       " 'jes s se me ha despegado un espejo de estar dos dias expuesta la moto al sol   es normal que ocurra esto?',\n",
       " 'falsas cuando las compr hace d as no pens que vendr an de alg n almac n oficial cuando al hacer el seguimiento del paquete veo que vienen de china   para un n mero es sospechosamente barato con lo cual al ver el destinatario he decidido anular el pedido  amazon tiene un prestigio por el buen servicio que es solo hace falta que no acepte comerciar con productos chinos de imitaci n',\n",
       " 'mala compra malo no aguantan las resistencias ni un d a y he probado varias',\n",
       " 'muy mal las tijeras en s s lo son eso tijeras  pero me han tardado m s de un mes en llegar que ya se dice pronto      un mes      ',\n",
       " 'no sirve para nada pues compr este producto porque parec a que iba a ser til y resulta que es igual que si lavas el coche con cualquier friega platos  no lo recomiendo ',\n",
       " 'se despegan muy malo se despegan a los minutos de haberlo pegado he tenido q ponerle celo pero se vuelve q despegar ',\n",
       " 'no queda como en la foto ni por asomo no queda adaptado sobraba tela por todos lados  devolv el pedido al momento de abrirlo ',\n",
       " 'toni hola una vez m s me ha enga ado la foto he recibido pulseras de reloj  p simo estoy defraudado',\n",
       " 'parec a buena pero al final sali mala compr esta botella hace tres meses guarda perfectamente el fr o y el calor como describe  lo que le ha pasado es que una goma del tap n se ha salido imagino que del calor y ahora no cierra bien pierde todo el l quido al m s m nimo movimiento y ya no a sla la temperatura  por lo que cuesta esperaba que durase algo m s de tres meses ',\n",
       " 'fatal a meses de comprarlo aun no me ha llegado el pedido y no me hacen la devolucion del dinero  no compren aqui porque no llega los productos  muy mala experiecia',\n",
       " 'no me gusta no es el original se nota la diferencia en el olor demasiado alcohol',\n",
       " 'defectuoso   es el segundo   no funciona    ya es el segundo estoy muy molesto   y encima tengo que gastar mas tiempo y dinero para devolverlo    no es posible    amazon     ',\n",
       " 'la visi n nocturna no funciona de las cinco c maras hay tres que la visi n nocturna no funciona bien  se aprecia una especie de niebla que impide que se vea la imagen  una pena porque por el d a las c maras funcionan correctamente y la calidad es aceptable',\n",
       " 'tres meses y se sale el agua de nuevo no merece la pena  solo me ha durado tres meses y otra vez la cubeta pierde a chorro   nada que ver con la que tra a original el waterpick ',\n",
       " 'no funci na no funci na bien a veces hace vacio y otras no  no lo puedo devolver se ha pasado el periodo de devoluci n no lo recomiendo ',\n",
       " 'un trozo de tela horrible la devolv un trozo de tela sin m s ',\n",
       " 'empresa no de fiar hola realice un pedido el dic y aun esta sin llegar le pido localizador de envio y la empresa no lo facilita muy informales me dan largas mala esperiencia no recomendable volver a comprar',\n",
       " 'abdel no merece la pena comprar este producto  mucho m s peque o de lo que parece en el anuncio   encima te cobra de gastos de env o  cuando te lo mandan en un sobre como una carta norma corriente',\n",
       " 'no funciona es una estafa  lo he comprado dos veces y ha ocurrido lo mismo funciona un rato al principio se ya no funciona ',\n",
       " 'david no tiene el logotipo de samsung y no es inteligente  no descuelga la llamada ',\n",
       " 'no sirve para la suela no se pega en la suela del zapato  tiene un film adhesivo que se despega f cilmente ',\n",
       " 'mala calidad al conectar los cables se abre por la mitad la t  quiero devolverla y me tengo que hacerme cargo del coste del env o por lo que me es m s caro el collar que el perro ',\n",
       " 'no lleg podr valorar el traje de ba o cuando lo reciba puesto qu sigo esperando',\n",
       " 'sale entregado y no lo he recibido no me llego este producto ',\n",
       " 'no me ha llegado todavia el producto lleva dias de retraso en la entrega prevista por ser prime     espero que me llegue el pr ximo dia h bil',\n",
       " 'no recibi nunca el producto no puedo opinar porque sigue sin llegarme lo que compre y nadie contesta a las notas que he ido poniendo de que nunca me llego el material  me gustar a que me hicieran la devoluci n del dinero y no me manden ya el producto ya que lo compre en otro sitio gracias',\n",
       " 'no estoy nada satisfecho tire el dinero no era lo que yo me esperaba los filtros son muy tenues y decolorados y no me ofrece ning n rendimiento lo nico que vale la pena el estuche que lo aprovech para otros filtros de que tengo',\n",
       " 'decepcionada  la sandwichera perfecta  pero el reparto muy mal   no me lleg el d a que lo ped gusto con otro aparato  y despues de una semana tuve que ir a buscarlo  es la segunda vez que me pasa el reparto la hac a correos ',\n",
       " 'muy mal el envio correcto ahora el producto muy mal me ha durado muy poco tiempo la bater a se descarga a los minutos aproximadamente  no lo recomiendo a nadie no entiendo los votos positivos ',\n",
       " 'ana compr ste modelo y lo tuve que devolver porque se quedaba bloqueado ahora acabo de devolver el segundo con el mismo problema  d ndole un uso m nimo se bloquea  no volver a comprar nada parecido  una p rdida de tiempo',\n",
       " 'una caca este producto se cae a trazos y ahora ni funciona se lo regale a mi pareja hace menos de un a o para que se fuera al trabajo y ahora ni funciona ',\n",
       " 'lou se han equivocado en la talla y en el color adem s me ha llegado roto me puse en contacto con el vendedor y no obtuve respuesta  adem s parecer se talla nica no queda ni por asomo como en la foto ',\n",
       " 'note el note nueve es lo mismo que el note con un poco mas de bateria nada de nada',\n",
       " 'enga o solo he recibido la funda trasera no ven a la protecci n delantera  muy descontenta con el producto encima ahora tengo que molestarme en hacer la devoluci n y los gastos que conlleva cuando el producto est defectuoso porque le falta una parte ',\n",
       " 'juan lo compr y no me funcion nunca no hace nada  no lo recomiendo para hacer uso de la garantia hay que ponerse en contacto con una empresa en francia  todo bastante complicado ',\n",
       " 'el ipad no entra en la funda luces de colorines y todo lo bonito que pueda ser pero despu s de varios intentos de introducirlo poniendo en riesgo la pantalla del dispositivo he decidido devolverlo y perder s lo el tiempo ',\n",
       " 'entrega que todav a no ha llegado',\n",
       " 'mala calidad no funcionaron son de mala calidad',\n",
       " 'mal manejo  poca eficacia  mal corte no cumple las expectativas generadas por su descripci n  la palanca tiene poco recorrido y poca fuerza  las hojas est n mal pulidas o excesivamente afiladas por lo que no hacen bien su funci n  despu s de utilizarlas decepcionada ',\n",
       " 'una mierda no s puede ni tocar rompe',\n",
       " ' meses me ha durado  comprada el de julio de deja de funcionar el de octubre de   con uso espor dico  aparentemente falla el interruptor  no recomiendo su compra en absoluto  he tenido otras marcas con menos fama y m s baratas y me han durado m s de a os  a ver el servicio post venta c mo se porta  editar cuando sea atendido ',\n",
       " 'no lo reparan porque dicen que no es comprado en espa a el tel fono es una maravilla pero el primer problema que me da lo env o a reparar me tienen semanas sin tel fono y me lo devuelven sin reparar porque dicen que no es comprado en espa a que es un modelo no comercializado en espa a  qu mierdas vende amazon??',\n",
       " 'no han salido  no s pero no me han salido igual alg n d a me dan una sorpresa jajaja',\n",
       " 'producto de calidad justita y mal embalado con roces y desconchados  producto de calidad justita y mal embalado con roces y desconchados  env o sin seguimiento por parte del fabricante que luego se desentiende  muy decepcionado con el trato ',\n",
       " 'aceite de mala calidad no me gusta el olor de ning n aceite',\n",
       " 'lo recib sin factura  he solicitado factura y no he obtenido respuesta  lo recib sin factura  he solicitado factura y no he obtenido respuesta  es muy bonito eso si  es muy fino y para mu eca peque a',\n",
       " 'no han entregado el producto otra vez m s la empresa tourline express se cubre de gloria  dos falsos intentos de entregar el paquete y me quedo sin el  amazon deber a vetar esta empresa la quejas sobre sus falsos avisos de no habia nadie en casa son constantes  para ellos tiene que ser un negocio muy rentable no se molestan en entregar los paquetes y piden al cliente que se acerca a sus dependencias para recogerlo  para eso pago amazon prime?',\n",
       " 'no cierran llegaron despu s de meses  los ped antes de navidad y llegar n a finales de febrero  y encima son para tirar el cierre no funciona  no los devuelvo por que me cuesta m s envolverlos que devolverlos  pero vamos no los recomiendo para nada   no es que sean feos es que si no los puedes llevar para que sirven? para ponerlos en el joyero de exposici n?  ',\n",
       " 'me dur un mes en realidad unos d as de uso  ha durado unos dias de uso y ha empezado a sonar mal como si se hubiera roto uno de los dos altavoces que lleva ',\n",
       " 'caro caro unos d as despu s lo vi  no se q m s decir pero me pide palabras  cinco cuatro tres dos una',\n",
       " 'producto no entregado la entrega misteriosamente se devolvi a amazon sin siquiera mand rmela  un misterio eso si yo me quedo sin mi pedido ',\n",
       " 'la parte trasera es muy fea y no tiene nada que ver con la delantera la parte trasera es muy fea y no sale en las fotos',\n",
       " 'terrible   imposible no retirarla de la cara sin llorar del dolor   y encima no me quit ni un punto negro  directa a la basura que fue ',\n",
       " 'nunca me llego nunca la llegue a recibir el vendedor me propuso soluciones  no se comentar la calidad del producto ya que no lo tengo',\n",
       " 'un timo estaba hecho polvo y todo rallado tube que devolverlo y pagar los gastos de invio',\n",
       " 'falsa compra nunca ha llegado el producto llevo esperando meses',\n",
       " 's lo meses    no ha llegado a meses y ya no carga  al principio bien pero parece ser que los pines est n en mal estado  dos de ellos se han hundido y supongo que no hacen buen contacto con el port til ',\n",
       " 'no sirve de mucho    realmente apenas amplifica  es la segunda antena que compro de este estilo al anterior ha dejado de funcionar pero no encuentro otra antena que ocupe menos espacio  hay que buscar el lugar exacto donde sintonizar con calidad todas las cadenas y no volver a tocarla aunque a veces pierde se al  si tienes arboles u otro edificio entre tu y la antena transmisora no creo que te solucione mucho ',\n",
       " 'decepcionada el producto cambio dos veces su fecha estimada de llegada y nunca lleg   antes de aceptar la devoluci n de importe me daban a escoger a enviar otro producto que tardar a d as  creo que las fechas estimadas no est n correctas',\n",
       " 'no compres a este vendedor desastre total  no solo no lleg la primera vez sino que lo he reclamado me indicaron que me mandar an otro y nada  una perdida de tiempo ',\n",
       " 'malisimo no dura nada las resistencias se funden enseguida no comprar usos le he podido dar     penoso me siento estafado',\n",
       " 'durada luces insuficiente y defectuosas  una vez activadas las luces la bater a dur minutos no pude ni iluminar tal y como quer a     tuve que comprar pilas de bot n cr    nuevas porque las incluidas no funcionaron como esperaba   adem s luces no funcionan ni con pilas nuevas   es un desastre de compra ',\n",
       " 'tiene tara y la talla no corresponde vienen con tara por lo que las tallas en la misma caja eran diferentes',\n",
       " 'vaya timo no me funciona bien solo se encienden los led verdes aun a temperatura elevada no es muy fiable con el tiempo',\n",
       " 'decepcionante no funciona muy bien no calca mucho',\n",
       " 'no la comprar a m s me lleg r pido la us y era una maravilla pero la segunda vez que la us el bot n fallaba  no pude utilizarla una tercera vez porque el bot n ya no encend a ',\n",
       " 'no lleg nunca el producto nunca me lleg el producto',\n",
       " 'penoso penoso no ha llegado a funcionar segundos literal el mandril est suelto  acabo de cursar la devoluci n y noe compro nada de esta marca nunca ',\n",
       " 'no dura se me a estropeado en dias de uso',\n",
       " 'yo no ha sido entregado as como aparece en mi listado de pedidos espero que se solucione pronto  un saludo ',\n",
       " 'es para jugar con mu ecas de lo peque o que es es muy peque o  en la foto parece m s grande',\n",
       " 'no he recibido el producto  no he recibido el producto    llevo emails y nada ni una contestaci n  una verg enza ',\n",
       " 'm s mal q bien duro meses despu s se rompi es muy dura y gorda',\n",
       " 'mal sima calidad no se sujetan bien las tarjetas  p sima calidad  para devolverlo tengo que ir a un ligar que no aparece por el precio tendr que com rmelo ',\n",
       " 'destrozado  fatal  mi paquete llego totalmente destrozado y en consecuencia muchas de las hormigas se doblaron  tuve que llamar a amazon y perder el tiempo para escribir al transportista el cual solo me ofrece un del reembolso porque seg n el no es su culpa  si el paquete en vez de venir en pl stico viniera en caja de cart n no hubiera pasado esto  estoy a n intentando hablar con amazon  no recomiendo este vendedor por barato que sea ',\n",
       " 'marisa carga rapido pero llevo un mes y una semana con el y ya se le est saliendo el cobre no lo entiendo ha roto el cable',\n",
       " 'no es antipolillas cre a que compraba antipolillas y ha resultado ser s lo perfume de lavanda',\n",
       " 'conectarla es imposible al wifi parece de buena calidad  a n no la he probado ya que la he recibido hace apenas horas  las instrucciones no vienen en espa ol  sorprendente  conectarla a internet es imposible  la app no funciona  ya estoy arrepentido de haber comprado esta mierda  llevaba un par de semanas esperando como loco y lo que  e encuentro no es lo que esperaba ',\n",
       " 'demasiado ruido  dos semanas de uso y parece que tiene a os al principio no suena nada pero con el uso     demasiado ruido  nada recomendable ',\n",
       " 'cierre defectuoso  ha venido roto el enganche se ha separado nada m s pon rmelo  deber a ser una sola pieza y se ha separado ',\n",
       " 'n estafar a las persona madre m a me an cobrado tanto dinero y n trae nada haci n eso estafa',\n",
       " 'pack incompleto no lo voy a devolver porque es para una actividad del colegio y no tengo tiempo suficiente pero nicamente han llegado tres art culos',\n",
       " 'no son efectivos se despengan muy f cilmente y no valen para todo los muebles',\n",
       " 'no me gust no indica en condiciones como usarlo',\n",
       " 'decepcion calidad y servicio la silla es dura y no sirve para estudio de m s de horas adem s te cargan portes de envio t si tienes k devolver el producto vuelven a cargarte portes de envio no lo recomiendo ni por calidad ni por servicio',\n",
       " 'no lleg el proyector no me lleg el paquete as que no puedo opinar',\n",
       " 'muy descontenta pese a que se venden como aptos para el bq aquaris vs ni siquiera cubre toda la pantalla  adem s de tres unidades una me llego rota  no lo recomiendo en absoluto ',\n",
       " 'no recomiendo la compra  a pesar de que el funko presenta un buen estado la caja est casi para tirarla  m ltiples desperfectos y abollada por todos sitios  una decepci n para todos los que coleccionamos funkos que no se cuiden m s los env os de stos ',\n",
       " 'no sincroniza no sincroniza ni con la aplicaci n que se supone que hay que descargar por lo que ni siquiera lo puedes poner en hora  el resto de funciones parece que bien pero sin sincronizaci n no sirve de nada  lo devolv  ',\n",
       " 'pel cula de vidro temperado esto no es lo que ped   por favor gracias por intercambiar',\n",
       " 'libro en mal estado producto no en las mejores condiciones  he comprado libros de segunda mano en mejor estado  ven a con un bastantes hojas dobladas y arrugadas ',\n",
       " 'no me gusta pensaba que era m s grande  adem s me ha venido sin uno de los velcros por lo que no acaba de cerrar',\n",
       " 'no se enciende el ordenador ya no se enciende  de repente ha dejado de funcionar  lo compr el de octubre de  ',\n",
       " 'sin noticias solo decir que no recibo ni el producto ni explicaci n desde el diciembre y no se que hacer mas',\n",
       " 'el im n no sujeta la tapa el im n es muy flojo y con cualquier roce se abre la funda  al estar continuamente abriendo y cerrando termina por agotarse la bateria  lo he devuelto',\n",
       " 'he recibido un producto re acondicionado el producto me ha llegado abierto con la caja original con los precintos rotos y un poco sucia  he comprado un producto nuevo y lo que me ha llegado est re acondicionado  es un regalo y no voy a dar buena imagen pero no tengo tiempo para que llegue uno nuevo ',\n",
       " ' una de las copas vino rota y el vendedor sin problema y de forma amable se hizo cargo del problema',\n",
       " 'poco resistente a los uva y en absoluto impermeable con una exposici n de o horas de sol al cabo de medio a o esta totalmente descolorida y la fibra se descompone y se raja  no es impermeable con lo que la bbq se moja desde el primer d a cuando llueve un poco  mala compra ',\n",
       " 'nefasta experiencia no mide los mtrs que anuncia  totalmente falso  compre este porque tenia uno de mtrs y no me llegaba mide casi lo mismo y no me soluciono el problema  cosas de chinos',\n",
       " 'tijeras no cortan y no se nada del vendedor las quiero devolver',\n",
       " 'dinero tirado no me ha gustado no afila bien las brocas ni las tijeras y tampoco los cuchillos',\n",
       " 'no se adapt bien al tv tuve que rectificar la chapa trasera y cortarla porque no se adaptaba a mi tv a pesar de que pon a que si ',\n",
       " 'faltan piezas en una caja no ven a el mu eco completo  no me parece normal que vengan los mu ecos incompletos  fue el cumplea os del ni o y le regalaron un cofre de dragones en el que le falta una ala al drag n y en el pack de le falta un brazo  una estafa ',\n",
       " 'mienten en el color no me ha gustado nada  es mentira no es blanco es traslucido o sea blanco y casi transparente  lo quer a para recoger y ocultar una grupo de cables que son negros gris y amarillos junto a una regleta blanca y no me ha servido de nada  no lo he devuelto porque me cuesta m s devolverlo que tirarlo  una decepci n',\n",
       " 'caballete bici el pedido llego a tiempo   pero faltan algunas piezas como la bandeja de herramientas',\n",
       " 'defectuoso me ha tocado uno defectuoso se activa solo y el teclado escribe solo  amazon de diez y ya est en proceso de cambio por otra unidad excelente atenci n al cliente',\n",
       " 'peque a ponen que es para cama de pero es muy corta',\n",
       " 'no comprar no lo recomiendo  no me ha llegado el producto',\n",
       " 'bonito pero de calidad regular me gusta el dise o pero gotea y gotea xq se acumula el agua',\n",
       " 'estafa fue una estafa y me tuvieron que devolver el dinero',\n",
       " 'da menos talla de la normal mucho m s peque a la talla no equivale a la talla real y encima tuve que pagar yo el env o de la devoluci n muy descontenta no volver a a comprar ',\n",
       " 'malo tintas de muy baja calidad llegaron secas y no se pueden usar  por supuesto las he devuelto  producto nada recomendable ',\n",
       " 'la carga no dura nada la carga no dura nada   es dif cil de programar  la luz est bien  y el sonido pasable  el despertador suena cuando lo dejas en on pero hasta que llegas a la conclusi n que es as pasan unos d as       en general descontenta ',\n",
       " 'no vale una vez encajada el t ctil no funciona nada bien ',\n",
       " 'no me vale la funda no he podido ponerla en el telefono por que no me encajaba perfectamente en la parte trasera ademas parecia utilizada con anterioridad',\n",
       " 'la empresa de reparto no avis de la entrega la empresa de reparto me llam en el mismo momento de la entrega le ped minutos para llegar a casa y me dijeron que no que lo traer a de nuevo el lunes  estamos a martes y todav a no tenemos noticias de la entrega ',\n",
       " 'y viene sin inflador  no me a gustado pensaba que era m s c modo ',\n",
       " 'pedro pedido realizado dia de diciembre hoy de diciembre sigo sin recibir el paquete importe cobrado espero noticias gracias',\n",
       " 'no lo aconsejo me ha llegado con fallo del sensor de proximidad    lol  una putada ',\n",
       " 'incompatible conmigo yo tuve que dejar de usarla porque se me llen la cara y el cuello de granitos por todas partes  le doy el beneficio de la duda aunque cuando dej de usarla desaparecieron ',\n",
       " 'el producto no va bien el producto desde el primer momento no funciona bien  he solicitado por dos veces la devoluci n y ni caso  un fracaso',\n",
       " 'carga r pida mala  durante el primer mes todo muy bien con la carga r pida despu s empez a fallar  ya no me carga r pido ',\n",
       " 'lo devolv con el volumen de la tele a tope apenas se escuchaba decentemente',\n",
       " 'luis d a llevo dos meses para recibir este pedido sospecho que las botellitas se salieron de su jaula porque no soportaban estar dentro de una caja  ahora en serio llevo dos meses para recibir este pedido y lo m s que me han dicho es que el transportista dijo que el pedido estaba roto no s si me llegar pero si s que no volver a pedir esto por amazon   ',\n",
       " 'enga o nuca llego siempre espere retraso no s que mas me diran ',\n",
       " 'no lo compres fatal una mierda no lo compr is se despega todo',\n",
       " 'muy mala traducci n la traducci n es penosa hay que hacer verdaderos esfuerzos para leer el libro   han hecho una traducci n literal y a veces es confuso de qui n est hablando el personaje  un horror ',\n",
       " 'basura f cil de poner y tal pero cuando me dispongo a usarlo la pantalla t ctil va como el culo imposible escribir para esta basura   ',\n",
       " 'decepcionante los primeros d as funcionaba bien  la bater a aguanta dos d as para el uso que yo le hago normal los altavoces bien y el funcionamiento era adecuado para su precio  sin embargo ha empezado a dar problemas  el m vil se queda colgado durante varios segundos sin que haya ninguna aplicaci n pesada funcionando  el reconocimiento de huellas no acaba de funcionar y la c mara era imposible  sin mover nada el m vil sal an unas fotos que parec an hechas por una persona que iba corriendo  le cuesta coger wifi  mal ',\n",
       " 'pierde la pintura roja a los pocos meses empezo a pelarse y quedarse fea ',\n",
       " 'yo no he comprado este art culo yo no he comprado este art culo',\n",
       " 'no lo recomiendo para fachada no va muy bien para fachadas casa  solo se proyectan imagenes  no se ilumina toda la fachada  no lo recomiendo para exterior quizas para una habitacion ',\n",
       " 'no ha llegado no me ha llegado sigo esperando ',\n",
       " 'malas ventosas las ventosas no cumplen su funcion',\n",
       " 'no llego la verdad que no puedo opinar sobre el art culo  me qued con las ganas de recibirlo   nunca lleg la empresa de transportes elegida es nefasta    por lo dem s no tengo m s que decir    ',\n",
       " 'juan el soporte q se pega en el cristal despues de un par de veces de sacar y meter la camara ya no se quda fija  aver si aguanta las temperaturas porqu creo q se deforma con alta temperatura  lo demas bien de momento para el precio que tiene  pues no despues del verano ya se ha hinch la parte de arriba donde va el soporte y ya no funciona     muy mala elecci n',\n",
       " 'mal resultado he comprado dos unidades y una de ellas ha durado un mes y medio y ha dejado de funcionar se ha usado eventualmente ',\n",
       " 'ha durado un mes al mes ha dejado de funcionar sin motivo',\n",
       " 'mala calidad horrible parece de juguete si quieres tirar el dinero c mprate esto',\n",
       " 'no sirve para nada no funciona no sirve para nada el perro sigue ladrando igual con la vibraci n al maximo y el sonido al maximo  totalmente inutil ',\n",
       " 'faltan cordones y grasa de caballo de panama jack viene en su caja original y con una bolsa de regalo pero faltan los cordones de repuesto y grasa de caballo que panama jack siempre envia a sus clientes ',\n",
       " 'armaz n de la piscina despu s de meses y medio de uso se oxida de adentro hacia afuera al montarla y llenarla de agua ten a un peque o poro no le di importancia y lo selle y sin problema  ahora bien la compre y la monte en julio y las barras se est n oxidando de adentro para afuera    muy mala calidad estoy muy decepcionado marca intex despu s de estar usando piscinas intex durante a os esta claro que la calidad a bajado mucho y ya no comprar m s de la firma intex     muy muy mal ',\n",
       " 'producto malo el jack se ha roto en menos de dos semanas se ha caido el casco y el jack se ha torcido un monton vamos que es de calidad mediocre  ademas de eso nunca funcion el mano libre en android ',\n",
       " 'vino r pido pero en mal estado vino la caja abierta y la cabeza suelta   o me lo cambi is o me devolv is el dinero',\n",
       " 'cajas zapatos apilables las cajas vienes muy deformadas mala calidad precio me esperaba otra cosa no son igual que en la foto gracias',\n",
       " 'no sirven se desintegran no sirven para nada   no aguantan se desintegran en pocos minutos de usarlas    son muy baratas pero dinero y tiempo perdido ',\n",
       " 'enviar unas juntas por lo que valgan por favor me pueden decir d nde comprar las juntas porque vaya tela compras un cilindro te recomienda una culata que hay que rebajar para que sirva una vez todo echo no te valen las juntas ni las encuentras por ning n lado',\n",
       " 'son s per gruesas de muy mala calidad   las peores lentillas que ya he visto son como en s per gruesas imposible ponerlas   muy mala calidad',\n",
       " 'fragil y m s peque o que la pantalla  no tiene las medidas correctas del xiaomi redmi note   es ligeramente m s peque o que la pantalla ',\n",
       " 'empu adura con espuma rota me ha llegado un poco rota la espuma de la empu adura derecha y la barra delantera de la silla no es muy funcional ya que no tiene mucha movilidad a la hora de sacar y meter a los ni os',\n",
       " 'mal sima calidad no lo aconsejo lo compr para una comuni n y cuando hinche los globos no flotaban es como si hubiese estado llena de aire  cuando llame para reclamar no me dieron ninguna soluci n  as que me tuve que quedar con la botella para nada',\n",
       " 'no carga lo compre en abril y ya no me funciona no me carga el m vil   dice no est cargando   ',\n",
       " 'mala compra no ondula nada  supongo que ser poco potente pero a mi hija ni siquiera llega a sacarle el pelo cuando se lo pongo ',\n",
       " 'fatal no lo compr is no ocupa la pantalla entera pero no es que sobre un poco si no que ni ocupa el cristal entero del m vil  es horrible ',\n",
       " 'silvia no se sintonizan bien las emisoras y no es sencillo su manejo  no la recomendar a salvo por el precio y el tama o ',\n",
       " 'no lo compreis es una aut ntica basura',\n",
       " 'queda peque o  no sirve no ajusta a la pantalla es m s peque o  no lo volver a a comprar',\n",
       " 'no lo recomiendo no lo recomiendo para nada super enclenque no es un porta fotos tienes que apoyarlo   muy mala calidad   le doy una estrella pq sino no puedo opinar',\n",
       " 'no va bien al ponerlo la pantalla no detecta bien el dedo  es imposble escribir con fluidez',\n",
       " 'no recomiendo su compra es caro para la calidad y el tama o  muy peque o',\n",
       " 'mejorable por el precio  no encajan las piezas bien al guardarlas ',\n",
       " 'decepcionada   cuesta muchisimo de poner ya que hay que usar agua  al final desist y no consegu pegarlo ',\n",
       " 'mal sin m s no s si solo me pasa a mi pero no soy capaz de dar con la banda adecuada  no es como me lo esperaba que es otra cosa pero no va con mi reloj ',\n",
       " 'bordes se quedan fuera decepci n el protector en s estar bien viene con sus cosas para limpiarlo y dem s pero no es del a y si lo fuera le queda bastante mal bordes por todos los lados y no concuerda con la forma de la c mara selfie bastante decepcionado ya que para devolverlo me hicieron pagar por la devoluci n no compr is esto ',\n",
       " 'no consegu hacer funcionar la c mara no he podido probar el producto ya que no entra en la c mara es cuesti n de medio mil metro  una vez que hice el burro y la force a entrar ahora la c mara no enciende con un cable usb si  supongo que es porq no hace bien contacto  a n no puedo confirmar durabilidad ya que no he conseguido hacer funcionar la c mara  trae dos bater as y un soporte cargador para las mismas ',\n",
       " 'tama o muy peque o es tan peque o que no lo puedo usar',\n",
       " 'no vale para el xiaomi redmi note pro  no vale para xiaomi redmi note pro es demasiado peque o no s por qu en la descripci n pone que es para ese modelo de m vil cuando es mentira pues si quieres que cubra la parte de arriba te queda la parte de abajo marco negro encima de la pantalla y los laterales tampoco coinciden  se supone que deberia coincidir al   no lo recomiendo para nada  pongo estrella por que no se pueden poner  ',\n",
       " 'no vale la pena  el papel no tiene relieve y al ponerlo se arruga todo y es imposible dejarlo sin burbujas  ni vale la pena ni volver a comprar ',\n",
       " 'gps el peor producto que lo compre del amazon despues de una semana sin usarlo    solamente probarlo   se bloque y as est y ahora despu s de a os',\n",
       " 'inadecuado tarda un poco en reaccionar incluso hay veces q no funciona   ',\n",
       " 'mala calidad he instalado tiras una en el ba o y otra en la cocina  la instalaci n ha sido bastante complicada por c mo la quer a poner pero despu s de mucho esfuerzo consegu que quedara como quer a  pocos d as despu s han empezado a fundirse algunos leds ver fotos   amazon me ofrece la devoluci n pero para ello tendr a que desmontarlo y volver a montar todo menuda movida   por lo que he decidido qued rmelas y esperar que no se fundan muchas m s  he de decir que la atenci n al cliente de amazon ha sido perfecta aunque no han podido hacer mucho pues no estoy dispuesto a desmontarlas y devolverlas  mi recomendaci n gastar un poco m s y comprar algo de m s calidad sobre todo si como en mi caso te vas a currar la instalaci n ',\n",
       " 'rocio nunca funcion   para tirarlo a la basura directamente se calentaba y hechaba humo pero no daba aire ni fr o ni caliente    p simo ',\n",
       " 'no llega a la velocidad anunciada ni a un de la misma el producto no llega nunca a la velocidad que anuncia como m ximo un de ella  he estado probando el producto durante un mes pero ya no me deja devolverlo  muy decepcionado',\n",
       " 'servicio postventa y garant a inexistente el producto lleg bien y funcionamiento perfecto hasta los meses en el momento que se apag y no ha vuelto a funcionar imposible recibir respuesta del vendedor y el servicio de atenci n al cliente amazon no funciona',\n",
       " 'no lo s la verdad es que no puedo valorar el producto porque todav a no me han llegado  las ped la semana pasada   ',\n",
       " 'no es til el movil se calienta y la pantalla tactil se ve del color de la carcasa y te impide poder manejar el tactil con rapidez porque dificulta con el contacto a traves de esta',\n",
       " 'los gatos siguen aqu pues no parece que funcione',\n",
       " 'no se ve lo que escribes apenas se ve lo que se escribe parec a que tendr a m s contraste de color pero no ',\n",
       " 'una decepcion no me ha gustado  piedra de swarosky pero la calidad del producto nada que ver con swarosky esta completamente deformado ',\n",
       " 'maz mala experiencia    pedi el producto con entrega garantizada entre el y el de noviembre    al final a pasado el bautizo y no me han llegado   aun sigo esperando  ',\n",
       " 'no llega no me ha llegado despu s de estar un mes esperando pero me han devuelto el dinero  he tenido que comprarlo m s caro en un supermercado ',\n",
       " 'no compatible no es el tama o del lg g   es demasiado peque o  un timo   ',\n",
       " 'no valen son peque os son peque os no vales para el k ',\n",
       " 'muy malo  falla el sonido la pantalla funciona muy mal y no se distingue nada     un desastre de tel fono  no lo recomiedo ',\n",
       " 'no aconsejo a n sin recibir el pedido a la hora que es esperando toda la ma ana p simo',\n",
       " 'un producto malo la carcasa l pille por los comentarios que vi pero resulta q le di uso d as y la conecte para cargarla y no cog a la carga pens q ser a mi cable pues no era la bater a q no dur nda en si mala ',\n",
       " 'engorroso e ineficaz se trata de un producto para los hongos de las u as que debe aplicarse en dos fases tiene dos frascos distintos y que no logra controlar en absoluto la evoluci n de la afecci n  lo compr para mi mujer porque tiene un hongo en las u as de los dedos gordos de los pies  mejor mucho con la aplicaci n de aceite esencial del rbol del t pero le dio reacci n al rgica y lo tuvo que retirar  hemos comprado este como alternativa al aceite del rbol del t pero no tiene ninguna eficacia y es engorroso de aplicar  no lo aconsejo es tirar el dinero  adem s viene muy mal explicado el producto  no entiendo por qu tantas opiniones positivas todas de nombres extranjeros  ',\n",
       " 'no ha llegado a n estoy esper ndolo ',\n",
       " 'no comprar este producto nos enga an no estoy nada contenta con el producto dec an que no se oxidaba y despu s de d as este es el resultado las cuatro canastas est n oxidadas compr dos y las dos est n igual y el precio tampoco es barato ya no lo puedo devolver porque ya es tarde me siento totalmente enga ada como m nimo que no digan que no se oxida mentira',\n",
       " 'no recibido sigo sin recibirlo despues de un mes de la compra',\n",
       " 'defectuoso pese a tener buen aspecto por fuera se escucha fatal  independientemente del volumen se escucha un continuo carraspeo que hace imposible disfrutar de la m sica  me imagino que no ser as en todos y que me ha tocado una unidad defectuosa ',\n",
       " 'dos meses de uso y ya no funciona despu s de dos meses de uso la bater a se descarga en cuesti n de horas con muy poco uso  si el vendedor o amazon est n leyendo esta informaci n supongo que se pondr n en contacto conmigo para enviarme una bater a nueva pues tienen que tener meses de garant a  espero respuestas',\n",
       " 'decepcionada no puedo opinar del producto ya me hubiera gustado pero nunca me lleg ten a que haber sido un regalo de reyes lo cog a principios de diciembre porque en dos d as me llegaba pero nunca lleg me dec an una fecha se pasaba esa fecha y otra y as el vendedor era como si no te pusieras en contacto con el porque o te daba largas o no te contestaba gracias a amazon como siempre que estuvo pendiente en todo momento y el vendedor al final se hizo cargo y me reembolsaron el importe ',\n",
       " 'quiz s lo devuelva    la referencia que nos muestra amazon en el anuncio no corresponde con lo que llega en el anuncio el cable lleva sus datos t cnicos impresos el que llega esta en blanco y me temo que cambian el producto muestran foto de un europeo y meten china',\n",
       " 'mala compra falta potencia para poder hacer los alimentos dentro del a o en el que estamos por que no veas lo lento que es   al final solo sirve para fundir el queso y ya  ',\n",
       " 'la foto enga a son m s peque os que en la foto creo que tienen que poner las medidas m s claras para verlas mejor lo',\n",
       " 'no lleg el producto nunca lleg el producto  no es la primera vez que me sucede ',\n",
       " 'mal servicio no me lo hab is enviado',\n",
       " 'nunca llega m s de dos meses esperando y no llega',\n",
       " 'agujero m s claro en la pantalla para el ultrasonidos el protector puede que proteja algo pero para que el detector de ultrasonidos funcione han dejado un agujero en donde va el dedo  entonces ves toda la pantalla clara menos ese agujero m s claro que te distrae a cada rato  mejor ir a los protectores de pl stico aunque tengan un peor tacto ',\n",
       " 'no funciona he tenido que devolver las bater as con el cargador ya que cuando pones las dos bater as a cargar a la vez simplemente no cargan es m s se descargan  adem s no encajan bien en el hueco del cargador se quedan sueltas  un desastre',\n",
       " 'mal huele a pl stico de los chinos es de pl stico las cremalleras no les dar a mucha vida til la he devuelto ',\n",
       " 'roto y p sima calidad    no merece ni mi esfuerzo por devolverlo nuevo y ha llegado maltratado y roto    la peor compra    no merece no el esfuerzo por devolverlo',\n",
       " 'rota hola  me ha llegado la tetina rota por la punta estoy intentando localizar al vendedor y no hay manera  la cajita donde venia estaba abierta del precinto    ',\n",
       " 'sebastian una mierda se cay y se jodio la pantalla del movil y el sensor de huellas no sirve el boton de bloqueo ',\n",
       " 'no llega a cubrir la parte iluminada de la pantalla no cubre bien la pantalla y con eso me refiero a que deja demasiado espacio en los bordes  he tenido otras marcas de protector y est n bastante mejor',\n",
       " 'mal simas m s de la mitad pierden el l quido  una porquer a ',\n",
       " 'lamentablemente nunca funcion la idea de controlarlo a trav s del movil es buena  pero tras conectarle a la red llenar el deposito de agua y vincular con el telefono mediante la app no ha funcionado en ningun momento  mala suerte ',\n",
       " 'cama este producto no vale para nada mis animales no le han echo ni caso yo personalmente no lo recomiendo',\n",
       " 'gorras no me lleg el producto y despu s de yo hablar con el vendedor me abono el dinero',\n",
       " 'no bien como indica descripci n no corresponde con  lo que viene falta el cristal de la pantalla en las especificaciones de producto pone si y luego no viene',\n",
       " 'descontenta las ollas y las sartenes eran muy peque as dije que quer a devolverlas sin preguntarme qu d a o qu hora en iria bien que pasaran a recogerlas se pasaron y como no estaba me dijeron que pasar an al d a siguiente y ya no volv a saber de ellos ',\n",
       " 'desastre la c mara no funciona bien adem s de que ni grava en la targeta micro sd pierde la se al wifi un desastre arrepentido de comprarla esta de adorno puesta',\n",
       " 'v ctor deja mucho que desear  el pulso lo detectaba fatal y no serv a para entrenar  la tuvimos que devolver  perfecto por amazon',\n",
       " 'no lo recomiendo olor superfuerte y muy desagradable debe de estar en mal estado o defectuoso',\n",
       " 'pegamento tiene pegamento no se lo he dado por miedo a que les haga da o ',\n",
       " 'una mala compra un timo de compra pero amazon enseguida me devolvi el dinero',\n",
       " 'no son pizarras producto muy malo no son pizarras son cartulinas simples en negro y encima muy peque as una estafa pagar eso por trozos de cartulina ',\n",
       " 'samurai tubeless no encaja bien en manillar y se sale',\n",
       " 'me remitieron una pieza que no era  me remitieron una pieza que no era y tuve que devolverlo  en lugar de los filtros me lleg el soporte del cepillo ',\n",
       " 'estafa estafa     pero el culpable soy yo    con ese precio no me pod a esperar otra cosa    encima el tiempo que han tardado en tra rmelo',\n",
       " 'no recibido una semana de retraso lleva y el vendedor ni responde no recomiendo para nada este vendedor',\n",
       " 'no me ha llegado el pedido y hace meses que lo pague no puedo opinar pues no me ha llegado desde que los pedi hace meses',\n",
       " 'it breaks  se rompe  despu s de poco tiempo se rompe despu s de poco tiempo lo compr hace unos meses ahora se rompi sin raz n  no es recomendable        ',\n",
       " 'mercedes gonzalez mesa la verdad no era el color que ped la m a es muy oscura muy diferente a la foto la verdad un poco decepcionada',\n",
       " 'no trae tornillos universales  no trae tornillos universales  ahora tengo que buscar a parte unos tornillos para los altavoces del     trae solo dos tama os de tornillos y no especifica para qu equipos sirve  toca ir a la ferreter a a buscar los tornillos ',\n",
       " 'mal por el embalaje he recibido el paquete sin embalar directamente con las pegatinas de env o pegadas en la caja del producto ni m s ni menos  lo quiero para regalar y al quitar las pegatinas se rompe el pl stico o se queda la pegatina con el pegamento  muy mala presencia adem s nadie tiene porqu ver lo que estoy comprando ',\n",
       " 'lo barato aveces sale caro en principio bien hasta que se dio una ducha he dicho ducha se ahog ',\n",
       " 'decepcionado me han llegado unas gafas que nada tienen que ver con lo que ped hago la devoluci n y no me mandan la etiqueta de devoluci n para imprimir y adjuntar con paquete  solo espero que el mensajero que tiene que venir a recojer el producto en m ximo dos d as no llegue antes de que me env en la dichosa etiqueta',\n",
       " 'decepcionante muy mala no hay quien ordene correctamente las herramientas las gomas parecen puestas y cosidas sin orden ni concierto',\n",
       " 'otro libro de autoayuda no es gran cosa este producto  es un libro com n de autoayuda con opiniones diversas y en algunos casos contradictorias  no me aporta nada',\n",
       " 'ha dejado de funcionar     tras utilizarlo dos veces ni el ordenador ni el iphone reconocen el disco duro  grave fallo de fiabilidad ',\n",
       " 'no pega no pega es as de simple muy mala calidad se cae a cada momento   ',\n",
       " 'defectuosas una de ellas fallaba constantemente hasta que un d a dej de funcionar por completo ',\n",
       " 'problema necesito ayuda por favor nada m s conectarlo la c mara se pone de lado y empieza a vibrar todo el rato como se arregla eso?',\n",
       " 'no sirve lo tuve que des cambiar porq no sirve para conectar el movil a mi proyector',\n",
       " 'est en italiano una decepci n era un regalo de navidad y lleg en italiano con lo que lo tuvimos que devolver  deber an especificar esto en la descripci n ',\n",
       " 'despu s de un mes sigo esperando veremos a ver si no me llega la capucha de un bol grafo',\n",
       " 'como puedo hacer q me devuelva el dinero no me ha llegado todav a el producto',\n",
       " 'sencillo y barato lo tengo puesto en mi scooter  es muy sencillo y barato  se ve muy bien y no encontraba ninguno que me aguante la lluvia y el agua de lavar la moto  al no llevar enchufe a la bater a no se ve por la noche  marca o grados por encima siempre',\n",
       " 'el transportista es incapaz de entregar un paquete en un pueblo de habitantes todavia no me ha llegado y todavia nadie me da explicaciones de donde esta el paquete seur son unos incompetentes',\n",
       " 'ke no llegan haun no me llegaron nunca',\n",
       " 'no lo recomiendo precio elevado  he visto el producto en otros lados mucho m s barato  la calidad es regular  no recomiendo su compra',\n",
       " 'me llegaron rotos me acaban de llegar y me han venido con un auricular roto estoy muy defraudado ',\n",
       " 'lector que no lee no ha le do ni un solo pendrive ni tarjeta sd ni micro sd y he probado con dos ipads  no lo recomiendo ',\n",
       " 'estafa no enviaron kg sino grs aprox una estafa no vuelvo a comprar m s esta marca la calidad no est mal pero pagas para que te env en poco m s de la mitad del producto que has comprado',\n",
       " 'p sima traducci n p sima traducci n  cuando intentas leerlo parece una broma de mal gusto  ni copiado directamente de translate google sale algo tan horrible  ni mucho menos vale lo que cobran por l merecer a la pena cobrar un poco m s y pagar a un traductor  en mi caso encima comet la imprudencia de comprar los vol menes juntos ',\n",
       " 'me siento enga ado buen producto en s pero me siento estafado ya que la potencia maxima no es de w como se muestra en las fotos si no de w ',\n",
       " 'se ha roto el muelle  se me ha partido el muelle en la parte superior donde agarra al pl stico  es una pena lo usaba varios d as a la semana y no me ha durado mucho ',\n",
       " 'no graba bien el audio y la imagen a menudo sale con cortes adem s he contactado con el proveedor para hacer unas preguntas y por el momento no responde  el sonido seg n le da lo graba pero con mucho eco   ',\n",
       " 'muy baja calidad  c mo es posible que una marca como scottex puede fabricar productos peores que una gama blanca es increible  fin simo se rompe enseguida y dura un telediario  si os gusta calidad para vuestras partes ntimas no comprarlo  ',\n",
       " 'no la recomiendo  muy poca potencia no apta para aspirar polvo del fondo y si no est sumergida completamente no funciona con lo cual para limpiar fuentes o escaleras es in til ',\n",
       " 'no wifi no recepci n de la se al wifi  imposible funcionar con una se al que va y viene  producto devuelto  si compras un producto de fabricaci n china por este precio y especificaciones tan superiores a lo que hay en el mercado de las tv box por el mismo precio asumes ',\n",
       " 'decepci n absoluta el producto no se parece en nada al que esta publicitado es un enga o total pero como se ha retrasado el envio no me estan mandando el correo para hacer devoluci n',\n",
       " 'la rapidez de entrega no vale para nada el tercer dia dejo de funcionar no lo recomiendo',\n",
       " 'no se entreg nunca  la caseta no se ha entregado nunca pese a haber recibido notificaciones que se hab a enviado  al final no me qued otra que anular el pedido porque despu s de escribirles varias veces no me pod an decir cuando se iba a entregar ',\n",
       " 'no funcionan el cartucho de color no lo reconoce la impresora debe tener en mal estado el chip que tiene que reconocer la impresora lo he limpiado con alcohol reiniciado la impresora y no va voy a devolverlo',\n",
       " 'juguete muy mal envalado muy muy descontenta el mecano ha llegado sin envalar en ninguna caja con la etiqueta directamente pegada sobre el dibujo de la caja  si arranco la etiqueta se arranca todo el dibujo y parece usado y sino arranco la etiqueta se ve mi nombre y direccion y se sigue tapando el dibujo de la caja  en definitiva haga lo que haga el ni o abrira el regalo y no sabra ni lo q es porque la etiqueta tapa todo el dibujo central o al arrancar la etiqueta me quedo sin dibujo central  en fin me lo voy a pensar pero seguramente lo devuelva  una lastima pq ni yo me lo quedo y el regalo me gusta y ni la tienda lo podra volver a vender puesto que tendra q arrancar mi etiqueta y con la caja totalmente pelada sin dibujo no creo q nadie lo quiera comprar  en fin q a la hora de trabajar hay q pensar un poquito mas y hacerlo con mas tacto hacer el envio dentro de una caja no cuesta tanto no?',\n",
       " 'enga o no es el de la foto     el kit viene sin bombonas es el que vale y te ponen la foto de otro  vaya timo    ',\n",
       " 'mala compra no funcionan del todo bien en mi placa de inducci n  siempre tengo que ponerlas en el fog n m s peque o  tengo sartenes de otras marcas como magefesa que funcionan mucho mejor ',\n",
       " 'mal producto no es recomendable dejo de funcionar a los pocos meses de comprarlo ',\n",
       " 'no recomendable se despeg tantas veces que terminamos por tirarlo',\n",
       " 'deficiente pesima calidad de los cepillos escasa potencia y muy caro para lo que de verdad soluciona ',\n",
       " 'se equivocaron se equivocaron y me mandaron otro yo lo cog en una oferta flas y ahora me dicen q lo tengo q volver a comprar pero no me mantienen la oferta muy descontenta la verdad',\n",
       " 'hueveras no sirven para el prop sito por las que se compran  se pegan los huevos y sale un churro ',\n",
       " 'problema en la distribuci n el paquete me ha llegado vac o  lo recog del buz n y no conten a el dvd',\n",
       " 'desastre total adem s de que tardaron una semana m s encima cuando llegaron no eran las que hab a pedido  un desastre total  ',\n",
       " 'eye liner decepcionante los gatitos son muy bonitos  para sombras est bien pero para eye liner se queda corto es muy r gido e inc modo  el trazo es muy gordo ',\n",
       " 'mal un enga o pone que son blancas y son amarillas aparte el brillo es p simo',\n",
       " 'muy decepcionado el prodcuto no es como se ve en las fotos la verdad que estoy muy decepcionado ya que intente durante un mes realizar una devoluci n y solo me pod an pegas y descuentos pero no el reembolso integro y cuando aceptaron el reembolso ten a que yo hacerme cargo de los portes   ',\n",
       " 'los materiales son de muy mala calidad en comparaci n con los originales cumple con su funci n pero los materiales son de muy mala calidad en comparaci n con los originales compr dos diferentes y una en el montaje se rompi un pl stico esta la pude montar sin romper nada pero no conf o que me dure mucho  la que se rompi tuve que abrirla y la parte electr nica no est cerrada herm tica y la original s     sirve para un apa o temporal ',\n",
       " 'estafa pues creo que esto es una estafa porque la descripci n del producto pone que cada paquete contiene unidades yo he pedido cuatro paquetes y lo nico que se me ha mandado ha sido unidades',\n",
       " 'no funciona me llego ayer por la tarde y por la noche lo probe  no me funciono ni en el pc ni el portatil ',\n",
       " 'env an otro producto ped este producto para desparasitar de ml y me enviaron un producto para las diarreas de ml  verg enza ajena ',\n",
       " 'nada recomendable  estaba claro que no iba a ser una gran funda pero realmente es terrible  en cuanto se lleva un golpe practicamente desaparece la funda de lo fina que es  adem s lo que recubre la funda se ha empezado a despegar y ahora esta tremendamente desgastada  ademas la protecci n es practicamente nula ',\n",
       " 'desaconsejable despu s de dos meses a n no he recibido el producto',\n",
       " 'mal me han traido mal el producto mezcla de varios modelos no lo puedo montar porque las piezas no corresponden sin instrucciones     fatal',\n",
       " 'recipiente roto ha llegado el recipiente de vidrio roto con las c psulas y cristales mezclados   ',\n",
       " 'solo ha durado dos meses un dinero tirado con solo dos meses la bater a ha petado se inflado y se ha desprendido la tapa que la proteg a  un producto de p sima calidad ',\n",
       " 'importante la firma para recibir los productos a pesar de que pone que ha sido entregado no me ha llegado nada  una trabajadora de amazon me est intentando ayudar de forma muy amable pero me da la impresi n que alguien se la qued   estuve en casa todo el d a  por favor amazon aseguraos bien de qu empresa os hace el reparto porque yo con esto ya me da mucho miedo volver a pedir nada por aqu   no es normal dejar un paquete en alg n punto a cualquiera que diga que se queda con l  un poco de seriedad por favor ',\n",
       " 'envio equivocado han enviado el modelo antiguo  sin salida optica y watt en vez de los anunciados    embalaje minimo',\n",
       " 'deja que desear el mango no tiene calidad y vino tocado',\n",
       " 'me siento estafada yo compr este casco pero sali defectuoso y ped que me reembolsar n el dinero en un cheque regalo pero ellos no me han mandado el c digo del cheque regalo y no puedo volver a hacer la compra ni utilizar ese cheque regalo de casi porque no me han mandado el c digo lo que me tiene sumamente disgustada por eso no me meto en ninguna valoraci n ',\n",
       " 'estafa total vendedor estafador me han cobrado y no he recibido nada  escrib un email al vendedor y ni me ha contestado  lo barato sale caro',\n",
       " 'quiero mi paquete ami no me a llegado no a llegado el paquete y me pone que llegaba hoy',\n",
       " 'p simo despu s de instalar miles de protectores este deja much simo que desear  el protector es bastante m s peque o que la pantalla  al ser una pantalla d y el protector de cristal plano las esquinas del mismo no llegan a pegar por ende a los minutos la mitad del protector est al aire   producto nada recomendado y de una calidad deplorable ',\n",
       " 'devuelto me env an art culo equivocado no puedo opinar  lo devuelvo ya que me enviaron equivocado el art culo  yo compr un garmin f nix x plus y me mandaron un garmin f nix  ',\n",
       " 'el tapiz apesta a humedad el pedido lleg con dos d as de retraso y al abrirlo desprend a un olor insoportable a humedad  tras lavar el tapiz sigue apestando ',\n",
       " 'p simo  la supuesta hora indicada en el techo es un reflejo se apaga y no ves la hora  para colmo ven a rota la base  tal y como abr el envoltorio hice la devoluci n ',\n",
       " 'pack incompleto b sicamente el producto te lo env an como quieren  me vino botellas y las etiquetas y ya est    lo nico bueno fue la atenci n al cliente de amazon para reembolsar el dinero que me cost    no recomiendo su compra',\n",
       " 'nada resistente a la primera caida del movil qued destrozada',\n",
       " 'leed antes de comprar   no lo recomiendo a nadie tano la crimpadora como los conectores tienen una calidad p sima y no me ha servido ahora debo volver a comprar otro producto',\n",
       " 'mgarcia lo compr pero a la semana me devolvieron el dinero ya que dec an que estaba agotado  no entiendo como puedes comprar una cosa pagarla y a los pocos d as te digan no no queda ',\n",
       " 'foto no se parece en nada a lo recibido  no tiene nada que ver la foto con el producto enviado  gran decepci n y tallas son mas peque as que lo que dicen desaconsej comprar ',\n",
       " 'normal escandaloso tarda mucho en cargarse',\n",
       " 'averiado esta averiado el cargador usb al meterlo se oye un zumbido',\n",
       " 'mal sima el ajuste no va bien y salta por cualquier cosa  un coche o moto que pase por su lado y ya salta    incluso al m nimo de sensibilidad  es tirar el dinero  no lo recomiendo ',\n",
       " 'deformadas y envio lento no se pueden utilizar han venido todas y cada una de ellas deformadas  no se pueden recolocar  el env o sumamente lento ',\n",
       " 'muy mal aun lo estoy esperando nunca lleg  ',\n",
       " 'no apto para cachorros no sirve para su cometido la parte que hace de c sped va suelta  mi cachorro imagino que como todos lo primero que hizo fue morderlo y quitarlo de su lugar no hab a manera de que lo dejara en su sitio  ahora lo utiliza para tumbarse',\n",
       " 'no recomiendo su compra pues como dice el titulo me tuvieron que rembolsar el dinero porque el producto se habia perdido menuda tela y eso que no eran poco empapadores pero aun asi los han perdido ',\n",
       " 'erroneo quiero saber como pedir el de   porque me mand is siempre el de ',\n",
       " 'ha pasado mas de un mes y no lo he recibido lo dicho ha pasado mas de un mes y a n no lo he recibido ',\n",
       " 'viene sin pilas y no lo avisan viene sin pilas y no lo avisan  lo que en reyes acaba siendo una decepci n',\n",
       " 'no protege toda la pantalla el protector no cubre toda la superficie deja varios mil metros sin proteger',\n",
       " 'muy ruidoso estando al m nimo  muy ruidoso estando al m nimo  otros modelos son m s silenciosos y permiten minimos de vapor m s suaves   mi primer aparato era m s b sico y pens que m s complejo era mejor  error tecnolog a aparente no til  lo peor es el ruido molesto incluso en salones grandes ',\n",
       " 'para la basura  en fin  demasiado grande para ajustarse a una cintura de talla   no tiene opci n para amoldarlo a no se quieras cintur n en forma de huevo ',\n",
       " 'mala calidad roto en la primera semana',\n",
       " 'mala calidad el sonido de los agudos es enlatado los graves suenan poco y si los pones alto retumban  muy decepcionado no volver a comprar esta marca  devuelto ',\n",
       " 'a n no llego el producto a n no llego',\n",
       " 'insuficiente apenas pudimos llenar globos',\n",
       " 'no funciona ten a buena pinta pero no funciona',\n",
       " 'no ajusta la funda no ajusta al movil con lo que queda abierta por las pesta as  adem s el bot n de encendido ten as que presionar mucho para poder encender y apagar pantalla con que en poco tiempo a terminado por romperse',\n",
       " 'aina muy malo tarda min en secar bajo la lampara cada capa que hago de color y salta muy rapido no dura ni una semana  no lo recomiendo',\n",
       " 'se ha estropeado muy pronto es muy bonita pero la he tenido que tirar porque ya no funciona  no la volver a a comprar ',\n",
       " 'otro producto chino penoso muy mala calidad  se han roto los botones de cierre nada mas ponerlos en la mu eca de las pulseras  otro desastre chino ',\n",
       " 'es una porqueria ha tardado en llegar d as  y ha llegado chafada y retorcida  subo una foto para que se vea la porquer a que he recibido  penoso  lo he intentado poner bien pero esta muy duro imposible  por ni me molesto en hacer la devoluci n  se va a la basura directamente  mi consejo para lo que vale mejor vete a una tienda de mascotas y te lo compras all  ',\n",
       " 'pegatina decorativa ha venido doblada por suerte al ponerla no se nota mucho pero embalaje    malo',\n",
       " 'no funciona no funciona no suena cuando pasa el tiempo                         ',\n",
       " 'mala calidad se amarillea desde el primer uso y mete mucho ruido     tenis una anterior y por eso compar     es de mala calidad ',\n",
       " 'no recomendable dejo de funcionar al minuto  poco robusto el lat n se ve a bastante d bil como si se fuera a doblar  algunas aristas estaban vivas ',\n",
       " 'son diferentes entre si no me ha gustado mucho',\n",
       " 'no lo he recibido el art culo b catcher collar mujer plata de ley coraz n colgante con regalo originales cadena cm longitud no me ha sido entregado en ning n momento ',\n",
       " 'err neo no corresponde con el modelo ofertado',\n",
       " 'mar a gemma l pez almeida amazon me reembolso el dinero la atenci n al cliente de amazon funciona genial  el producto no fue entregado por la empresa correos express la cual funciona muy mal y mienten tanto a los clientes como a amazon  ten a que ser entregado antes del de mayo me iba de viaje  el de mayo amazon hizo el rembolso  y correos express hace que entrega el pedido el de junio en un punto de recogida  esta empresa de transporte funciona fatal  pongo una estrella porque es obligatorio ',\n",
       " 'color diferente y mala calidad color muy diferentes la imagen quedan muy artificiales y son de mala calidad la lente es muy gruesa y molesta llevarla puesta ',\n",
       " 'no es el de la foto ojo  no es el de la foto  el que mandan es la reedici n que no os timen a vosotros tambi n   ',\n",
       " 'no me ha llegado el producto que he pedido aun no me llego el producto que he pedido pese a que la fecha tope para la entrega era del dia de este mes',\n",
       " 'dur poco se quedo m s o menos bien una semana  adem s era muy dif cil tocar la pantalla en los bordes  se despeg unos d as despu s de la instalaci n',\n",
       " 'el producto no ha llegado el producto no me ha llegado ',\n",
       " 'no me llegaron    no me allegado el pedido ni me contestan en los correos espero que lo solucionen rapido',\n",
       " 'no comprar calidad muy muy p sima recibido hoy intentar meterlo misi n imposible se ha doblado y deformado despegado el embellecedor y roto una pesta a calidad muy p sima le pongo una estrella porq no se puede poner cero',\n",
       " 'jennifer de verg enza a parte de q no a llegado el producto pido q me devuelvan el dinero y me dan la mitad de lo q e pagado encima nadie se hace responsable de esto',\n",
       " 'no tiene el borde gris es totalmente negra   muy decepcionada con la compra la televisi n no tiene el borde color gris es totalmente negra por todos lados la compr porque me gust que fuera gris y al final es totalmente negra me lo hubiese pensado m s si yo sab a que era negra',\n",
       " 'contacto global markets compre un m vil defectuoso d la marca samsung q desde el primer d a se calienta demasiado se apaga estando la bater a incluso en un y no carga con su cargador  amazon no se responsabiliza por ser el vendedor una empresa externa y no soy capaz d contactar con global markets  sabe alguien un tfno d contacto o la forma d contactar con ellos?',\n",
       " 'abierto y estropeado me lo han enviado todo abierto roto y cogido con una goma el stica una verg enza    si saben que puede contener un regalo que lo embalen de forma que no se vea nada porque es penoso pagar algo que no lo regalan precisamente y cuando lo recibes que llegue en stas condiciones  ahora a qui n reclamas el qu ???porque encima la caja deja mucho que desear en cuanto a informaci n del contenido se refiere    muy descontento y desde luego si llego a saber que me iba a llegar as estoy que lo pido    ',\n",
       " 'manuel ha salido fatal algun golpe en el bolso y ya se ha estallado en dos bordes lo intentare comprar otra vez haber ai tengo mas suerte',\n",
       " 'no funciona no las compres  muy barato pero por que no incluye pilas pero es que de luces no me funciona ninguna he probado con pilas de bot n y tampoco funciona ni una de las luces  una estafa ',\n",
       " 'no trae manual  quer a utilizarlo para lo que dec an pero no he conseguido saber como funcionan',\n",
       " 'no cubre bien la pantalla  deja gran parte de esta al descubierto el tama o es mucho mas inferior y no cubre la pantalla al completo  dejando gran parte al descubierto  ademas no se pega bien en los bordes dejando entrar suciedad en estos  es un samsung s acabado p simo ',\n",
       " 'fracaso por partida doble he comprado estos cascos en ocasiones y las me ha pasado el mismo problema la bater a del auricular izquierdo se agota antes que la del derecho con la correspondiente faena en el rendimiento conjunto una pena ',\n",
       " 'instrucciones no hay instrucciones en espa ol ',\n",
       " 'term metro no funcionaba el producto lleg muy r pido y el embalaje estaba correcto pero al abrirlo un term metro funcionaba correctamente y el otro no tras comprobar el estado de la pila est estaba agotada  no lo recomiendo',\n",
       " 'no entregan puntual y ahora no se sabe ni donde esta el paquete el lavacabezas nunca llego a mis manos tenia todo programado porque amazon nunca me quedo mal con las entregas  pero esta entrega la mandaron a la direccion que tenia hasta el de mayo y me puse en contacto con alguien que vive alli y me dice que no ha llegado nada entonces no se',\n",
       " 'p sima calidad es de p sima calidad ate a mi mascota tiro de la cuerda y esta cedi el gancho de metal se sali de de la correa y el perrito escap y anduvo suelto no me quiero imaginar que hubiese pasado si hubiese ocurrido en un lugar transitado por coches podr a ser digno de una demanda',\n",
       " 'peque o para el xiaomi mi a lite es peque o para este m vil no estoy nada contento voy a tener que pedir otro por qu no protege la pantalla completa',\n",
       " 'incomodo es incomodo porque se mueve',\n",
       " 'no es c modo de manejar a pesar de que la marca especifica que es para ni os de hasta kg pensaba que era m s c modo de utilizar pero las ruedas no responden bien  compre este carro hace menos de un mes porque es hasta kg mi hijo ahora pesa kg y las ruedas delanteras se atascan todo el rato',\n",
       " 'poco recomendable bastante b sico sus t cnicas e informaci n es la misma que se puede encontrar buscando en google unas pocas veces sobre el tema nada de innovador ni especial ',\n",
       " 'caro muy caro para la calidad que tiene  es muy poca calidad y el precio es muy alto no merece la pena ',\n",
       " 'malo malo como taladro calidad baja solo vale para tornillar  hasta huele a barato cuando lo abres  mejor gastarse un poco m s y comprar algo mejorcito  devuelto',\n",
       " 'c mara defectuosa la c mara del m vil ha empezado a fallar desde la tercera semana de su uso no se si porque tuve la mala suerte de ser el de productos defectuosos o porque la c mara del m vil en si era mala por lo tanto no puedo usar ninguna aplicaci n incluida con la c mara espero que alguien pueda ayudarme  un saludo',\n",
       " 'no se f en de opiniones c mo hice yo no entiendo como opina la gente  le regalan el calzado? esto y son peor que las del chino  suela fina e incomoda da mucha calor  en el mercadillo las hay mejor a los pares ',\n",
       " 'mala gesti n el producto no me ha llegado pero pone entregado  me quedo pasmada con algunas entregas de amazon  al principio trabajaban mucho mejor',\n",
       " 'lleg en mal estado el libro era un regalo y obviamente ha sido imposible ofrecerlo en estas condiciones sin tener tiempo para pedir una devoluci n ',\n",
       " 'quiero la devoluci n me a llegado el env o en mal estado y con el frasco bastante evaporado y derramado con el tap n despejado y la caja con h meda',\n",
       " 'muy mal llego r pido devuelvo el producto porque le han regalado otro al ni o igual no se nada de la  devoluci n me dicen que reembolso no me hacen porque no me lo han cobrado y en el banco si me han cobrado el juego llevo una semana intentando poder hablar con alguien para ver que pasa y no hay manera ',\n",
       " 'endeble y complicado si usa la inclinaci n sobresale como los dem s y en cambio por poco m s dinero se puede comprar otro soporte m s fuerte y f cil de montar los ganchos que permiten la inclinaci n son endebles  no lo recomiendo ',\n",
       " 'mal tallado fatal el tallaje  el pantal n es ajustado en la pierna muy ancho en la cintura y corto de pernera vamos un fiasco de tallaje y he tenido que devolverlo pagando gastos de env o encima de todo ',\n",
       " 'de la peor calidad posible  no comprar horrible  de la peor calidad posible  se rajo a los dos d as sin darle ning n golpe  y al poner la segunda nos fijamos bien y ya ten a una marquita en un lateral o sea que no espero que dure mucho  dinero tirado  mejor buscar otro ',\n",
       " 'sofia no puede ser peor ha venido roto es de un pl stico hueco tipo persiana mas delicado qe cristal fino  las instrucciones ven an en italiano y eran de otro mueble vergonzoso  ',\n",
       " 'no es nada f cil al final es mejor con los dedos  menos aparatoso y m s r pido ',\n",
       " 'para el precio que tiene mala muy mala la llevo un mes y y por los cantos de delante se le desgasta la pintura',\n",
       " 'ralladuras con el uso el cuero no es cuero es pl stico y ralla la funda de los airpods ',\n",
       " 'le falta un cm en los bordes y alg n agujero en la parte de arriba en el flas no cubre toda la pantalla completa queda un cm en los bordes la caja y todo bien protegido y me lleg con tres d as de retraso',\n",
       " 'no conecta yo no consigo conectar est porquer a tengo el m vil conectado a la red wifi en g y el enchufe solo detecta la g  hasta ah bien   dej ndolo segundos apretado asta que parpadea veces por segundo y dar en la app efamilycloud a conectar socket y nada error tras intentos',\n",
       " 'casi un a o de fabricaci n hacia casi un a o de producci n del aceite  en otras webs en la que ped aceite s lo ten a un mes de producci n ',\n",
       " 'faltan piezas lo compre para el cumplea os de mi hija y el d a del cumple lo est bamos montando y nos dimos cuenta de que faltaba una pieza no viene la casita morada y ahora despu s de que lo ha visto cualquiera se lo quita para devolverlo',\n",
       " 'no cumple con su funci n no me ha gustado no cumple con nada de lo que dice en la descripci n del producto no tiene fuerza de agarre use varias en un caj n para evitar que mi beb lo abriera y sirvi para nada',\n",
       " 'estafa he recibido s lo paquete en vez de los que anunciaban  menuda estafa  ha tardado m s de meses en llegar ',\n",
       " 'almudena molto un desastre desde el de diciembre decia que habia llegado',\n",
       " 'no funciona el t ctil por los bordes protege toda la pantalla pero es horrible ya que por los bordes para poder escribir tienes que presionar much simo si no no detecta nada    con los dos que vienen exactamente igual   tirado el dinero a la basura ',\n",
       " 'estoy triste no tengo el producto no ye llegado a mi casa ',\n",
       " 'mal no me servia lo devolvi y aun no me han realizado la devolucion  la empresa me dice q es amazon y amazon no me devuelve nada ',\n",
       " 'tejido malo no lo compr is la tela es de papel de fumar',\n",
       " 'no comprar llego tardisimo y no funciona ',\n",
       " 'estafa el tel fono funciona fatal  no lo compr is  son tel fonos rotos que no se molestan en arreglar  encima no me dejan devolverlo  he puesto una reclamaci n',\n",
       " 'me han durado usos  lamentablemente han dejado de funcionar al poco de terminar el periodo de devoluci n  es la peor compra que he hecho nunca  la bater a dura un asalto y tras usos o alguno menos ya no encienden   un enga o de producto',\n",
       " 'no funcionaba la luz la oferta era muy buena en su relaci n calidad precio ped una de tama o a pero ten a defectuosos el encendido no se si pasar con muchas hay gente que habla muy bien pero tambi n hay otras quejas yo la devolv y me compre una huion a m s cara pero con mucha fama ',\n",
       " 'las barras no son buenas el sistema de anclaje es muy d bil ya que son de pl stico malo  el sistema de seguridad es muy complejo y se tarda mucho en instalarlas  las fabrican en dos medidas pero te env an la de cm por lo que para muchos coches como el m o no sirven  nada recomendables ',\n",
       " 'dinero tirado no ha durado ni un mes auricular derecho ya no suena parece tema de cable cortado no lo recomiendo para nada',\n",
       " 'no comprar muy muy malas no se parece en nada al producto hace su funci n perooooo yo no las comprar a',\n",
       " 'los flecos se deshilachan en el labado me decid al comprarlo al ver las cr ticas positivas pero muy lejos de la realidad  en primer lugar el color no es como el de la foto es verde en lugar de turquesa pero esto es lo de menos  para los que sabemos de costura esta muy mal cosido con defectos  y finalmente le doy muy baja puntuaci n porque los flecos nada mas lavarlo cuando compro algo primero siempre lavo la ropa antes de ponerla todos los flecos se deshac an por lo que he tenido que cortarlos toda la gracia de esta prenda a la basura  creo que esto si que es importante a valorar en nota muy negativa no se puede tolerar ni siquiera aunque el precio sea bajo',\n",
       " 'no lo compres el vendedor es un estafador',\n",
       " 'mala calidad las dos piscinas que compr se han roto igual  no han durado ni un mes  muy mala calidad ',\n",
       " 'sobrevalorado la gente da estrellas y creo que las regala  conf o mucho en lo que la gente escribe y creo que este libro est sobrevalorado por eso le pongo una estrella de normal le pondr a   no tiene una gran historia y aunque es verdad que es entretenido no me ha enganchado pero tampoco lo ha hecho porque no hay historia para que hacerlo ',\n",
       " 'alejandro pesima calida pesima calidad pesima calidad pesima calidad pesima calidad pesima calidad pesima calidad pesima calidad no se cuantas palabras mas quieren para esto',\n",
       " 'defectuoso en un inicio el telefono funcionaba correctamente pero tras dos meses y medio de uso ha dejado de conectarse al telefono  hemos reseteado el telefono desinstalado la aplicaci n probado con otros telefonos y nada  no se conecta  no lo recomiendo en absoluto ',\n",
       " 'estan mal no dan la informacion de los voltios y amperajes ademas de que el valor de los ohmios cambia constantemente  por desgracia me di cuenta pasado un mes  tenerlo en cuenta si lo comprais aunque no lo recomiendo ',\n",
       " 'fatal ped el producto para reyes con un mes de antelaci n una vez pasado ese tiempo reclam el producto y me dijeron que se hab a perdido y que si quer an me devolv an el dinero o me esperaba que lo volvieran a recibir  como estaba interesado decid esperar un mes nuevamente pasado el cual al no recibir el producto volv a reclamar y la respuesta fue similar siempre intentando que aceptara la devoluci n del dinero no quise el dinero y otra vez volv a esperar  esta vez fueron ellos los que se pusieron en contacto conmigo para ver si quer a la devoluci n del importe mas que la recepci n del producto as que decid aceptar la devoluci n en vista de que no iba a llegar nunca  amazon deber a poder eliminar productos y comerciantes como este por falsa publicidad supongo que si no llenan el contenedor no les sale rentable pero como consumidor no es mi problema que no pongan el producto a la venta ',\n",
       " 'mal sima se rompe sin darle golpes por todas partes y dicen que es para el samsung galaxy s pero por los laterales no se adhiere as que estoy super descontenta    ',\n",
       " 'fatal fatal no han sido capaces de llegar con el envio y no me querian hacer la devolucion del importe',\n",
       " 'porque no ponen que es mini me parece un enga o grande deber an decir que es mini es una perdida de tiempo y dinero a veces uno con las prisas al comprar no lee los comentarios ',\n",
       " 'basura una basura se rompieron el mismo d a    llame y me dijeron que no me devolv an el dinero',\n",
       " 'es para ps me hubiese gustado poder regalar a tiempo el juego a mi hijo pero por dos veces me ha llegado para ps en vez de para xbox one  tiene pinta de divertido por lo que hemos visto en tutoriales ',\n",
       " 'no volver a a comprar esta clase de producto no me gusto nada la calidad del producto mis expectativas eran otras acerca de la calidad pens que era m s suave',\n",
       " 'dej de funcionar al a o y poco nadie responde de la garant a desde que lo tuve exig a el reseteo completo porque la app de la c mara dejaba de ir cada meses aprox aunque con actualizaciones cada vez hac a menos falta  un d a muri una buena linea de p xeles de media pantalla para abajo al mes de tenerlo  posteriormente dej de recargar o funcionar de ninguna forma al a o y meses y como no puede comprobar el imei nos ha jodio para eso se debe poder encender amazon me lo ha devuelto sin reparar  recurr a bq quienes me lo devolvieron veces sin arreglar asegurando corrosi n donde me adjuntaron fotograf as de otra placa base que no era la de mi tlf porque lo desmont al llegar pues nunca se ha sumergido donde no coincid a el n mero de la placa base con la fotograf a no el estado de corrosi n exist a  adjunto la foto recibida y la que hice yo a la vuelta  en fin muy desencantado tras ser mi bq ser el ltimo dado el cambio de pol tica de servicio de atenci n al cliente ',\n",
       " 'cable suelto rl coche era un regalo para navidad y lleg con un cable suelto lo tuvimos que esta ar y a n as no tiene la suficiente fuerza para moverse bien',\n",
       " 'nada que ver como indica el titulo     nada que ver  no se ve  fondo negro manillas negras y simbolos muy apagados  lo he devuelto',\n",
       " 'servicio malo  servicio posventa inexistente me llega el juguete no funciona y tras d as no se ha puesto nadie en contacto contigo ',\n",
       " 'calidad se mira mejor en fotos la calidad de la alfombra se mira mejor en fotos en persona es mucho mas gruesa y menos delicada de lo que se puede observar  se ensucia con much sima facilidad y es dif cil de limpiar y mantener acumula much simo polvo ',\n",
       " 'la verdad me dicen que ha sido entregado y no es cierto',\n",
       " 'busco respuesta buenas conect el aparato descargue los drivers y me reconoce el mando pero no es capaz de vincularlo alguna sugerencia?',\n",
       " 'm s atencion he pedido cremas y tres de ellas est n caducadas',\n",
       " 'tapas de silicona el stica no es nada til no se pega bien al rsto se despega ',\n",
       " 'vendedor estafa no me ha llegado el producto un verguenza la comunicaci n con el vendedor  amazon no reembols nada ',\n",
       " 'mi y peque o muy peque o parece de juguete',\n",
       " 'decepcionado con la compra es de un acabado muy feo la impresi n de la imagen de muy baja calidad y aparentemente se deteriorar f cil  bastante decepcionado ',\n",
       " 'imposible hinchar el sofa no conseguimos sentarnos porque no conseguimos que entrara el aire suficiente  o es imposible conseguir que se pueda inflar  compra no recomendada  muy mona la chica de la foto pero creo que s lo funcionar a en tarifa ',\n",
       " 'no lleg esperando l producto',\n",
       " 'leer lamentablemente me llego en muy mal estado caja rota y el bote roto espero que por lo dem s valla mejor jejej un saludo',\n",
       " 'una decepci n siempre me gust mucho agatha christie  tengo todas sus novelas que he le do y rele do durante a os  muchos a os despu s he comprado un par de sus novelas en mi tienda kindle y me han parecido mal simas  habr evolucionado ',\n",
       " 'almohada bastante dura esta almohada me resulta muy dura y a los dos d as me dol an las cervicales  he perdido la fe en encontrar almohadas cervicales blandas  tuve la cervical pikolin firmeza baja  era una maravilla ya no la fabrican',\n",
       " 'defraudada mi hija se ha quedado muy defraudada ya que la mu equita y sus vestidos han salido descoloridos  me parece un fraude ya que es car sima   ',\n",
       " 'no entreg no entreg el producto',\n",
       " 'lleg en mal estado lo he devuelto porque lleg averiado  una l stima porque se me han quitado las ganas de tenerlo ahora ya no me da confiaza ',\n",
       " 'adaptador antena wifi usb   mbps receptor   ac poco aumento de se al',\n",
       " 'suspensi n delantera horrible la suspensi n delantera es una estafa no tiene casi recorrido para amortiguar el golpe y no sirve para nada es como si no tuviera  me siento estafado  ya puede tener frenos de disco o suspension trasera que si no tiene una buena suspensi n delantera es un fiasco de bici ',\n",
       " 'no queda recta la mesa no acaba de estar recta al abrirla puesto que tiene la zona central doblada  hay que forzarla para que quede recta    no la devuelvo porque la llev de viaje y la tuve que utilizar pero producto defectuoso o de mala calidad ',\n",
       " 'no sirve al cabo de un mes de uso ha perdido potencia y no sirve para nada  no funciona bien no recomiendo su compra ',\n",
       " 'finas malas  mallas muy finas mal tejido  esperaba unas mallas mejores por el precio  son muy finas el tejido no de muy buena calidad se transparentan  las devolv   de talla acorde ',\n",
       " 'sin abrir de momento sin abrir de momento',\n",
       " 'se estrope al cabo de tres usos la m quina se estrope la tercera vez que la us   funcion bien mientras la consegu usar pero fall muy r pido  simplemente a mitad de uso hizo un pop y no volvi a funcionar',\n",
       " 'bolsa de herramientas  la bolsita est bien  lo nico malo  es k es muy peque a   ',\n",
       " 'peligroso para bicicletas este tipo de linterna no es apto para el ciclismo porque falla el interruptor conmutador de modos de iluminaci n y te puede dejar a oscuras  mala experiencia con ella al no hacer buen contacto con los baches y cambiar de modo o apagarse menos mal que suelo ir con dos focos por seguridad  da buena luz y la bater a dura bastante compr   bater as auxiliares as que como linterna normal es perfectamente v lida pero para ciclismo no olv date de btt ',\n",
       " 'pesimo malisima calidad pido el pack y mira como me vienen los cristales    una verg enza ',\n",
       " 'ha llegado todo por fuera medio bote por fuera y lleg en una caja usada muy deficiente',\n",
       " 'no funciona correctamente no me ha gustado porque se va la imagen cada segundos  no es estable y te pone nervioso  decid no usarlo m s ',\n",
       " 'no la recomiendo no me gusto nada yo no la recomiendo la utilizamos una vez por la sequedad y no nos gust como lubrica',\n",
       " 'george tuve que quitarlo y colocar otro no se si fue malaa suerte y justo llegaron los malos pero no se pegaba en los bordes ',\n",
       " 'total informalidad  valoro con una estrella porque no se puede poner menos  nunca recib el pedido  tampoco se me ha dado una explicaci n del porqu   total informalidad  me pensar muy mucho el volver a comprar en amazon porque no se qui n es el culpable de que yo no tenga mi pedido si amazon o la empresa a quien compr el aparato ',\n",
       " 'nada son los que ped no estoy de acuerdo no son los que ped ',\n",
       " 'no lo recomiendo el transport n no cumple su funci n en el momento de que tu mascota rasgue cualquiera de los laterales har f cilmente un agujero por el cual puede escapar muy decepcionado ',\n",
       " 'sin etiqueta venia sin etiquetas deja duda si son usados o es una devolucion nose',\n",
       " 'no me convenci no me gust nada no marca bien la temperatura no s si fue el que me toc a m o que tiene mala calidad',\n",
       " 'lamentable  me lo compraba por el polimetro y el soldador y el polimetro no funcionaba adem s de que faltaban piezas ',\n",
       " 'no sirve muy mal producto sin efecto',\n",
       " 'pulsera no es de plata  como dice   pero bueno   ',\n",
       " 'mal el rosa claro es transparente y el blanco tambi n es transparente  los compr justo por estos dos colores y ahora estoy intentado devolverlo hace dos semanas que espero que me digan algo  muy mal no comprar m s a este proveedor',\n",
       " 'la proteccion de la pantalla esperaba que la tapa de arriba trajera alguna protecci n pero queda desprotegida completamente ',\n",
       " 'fatal  fatal  el bote lleg reventado y el paquete estaba totalmente mojado de aceite  el buz n completamente mojado  ha estropeado incluso las cartas  una verg enza    quiero mi pasta ',\n",
       " 'muy mal se estrope ese mismo dia',\n",
       " 'vergonzoso env an un cristal templado de m vil rayado  claramente ya usado  muy vergonzoso  fatal fatal fatal no vuelvo a comprar ',\n",
       " 'me ha durado un d a  fatal en un d a se ha rajado por tres sitios diferentes muy decepcionado ',\n",
       " 'deja mucho que desear instrucciones en ingl s la bater a no dura hora con iluminaci n',\n",
       " 'muy mal servicio de devoluci n no me ha gustado nada porque llegaron demasiados grandes quise hacer la devoluci n y me pedian casi el mismo importe que pagu por ellos por lo que no pude hacerla estoy muy decepcionada del servicio de devoluci n',\n",
       " 'mal al mes se le sali el cristal',\n",
       " 'mala experiencia no me ha llegado en la fecha indicada',\n",
       " 'mal echo debe estar roto porque una vez e sacado el extensor no lo e podido meter otra vez  ',\n",
       " 'monitor de presi n pues no puedo opinar porque vino roto es decir no funciona y adem s no lleva la tapa donde van las pilas no me han devuelto el dinero ni me han dado otro',\n",
       " 'no lo recomiendo el muebles es una aut ntica basura las tablas combadas los listones de los cajones uno m s ancho con lo cual el caj n no cab a en las puertas quedan ranuras que se ven la balda de dentro un desastre  hemos conseguido apagarlo pero una persona que no sea muy ma osa lo mete en el cubo  le pongo una estrella porque sin ella no me deja enviar',\n",
       " 'vino defectuoso estaba la caja abollada por un lado y el dragon la u a en la caja como rajada adem s de fallos de pintura',\n",
       " 'muy chula    gracias y un produccto excelente recomiendo su compra',\n",
       " 'que nadie lo es una puta mierda  arranc una vez y no mas ',\n",
       " 'no lo recomiendo me a gustado la cobertura pero lo voy a tirar por que el color es muy oscuro y feo',\n",
       " 'explot a las dos semanas  parece buena pero no dura nada ',\n",
       " 'poco fiable llevo m s de a o usando la depiladora y en mi caso no ha hecho efecto  habr desaparecido un del vello  lo primero un aparato as deber a traer sus gafas protectoras ya que a m por lo menos me da mucho miedo la luz que desprende y no s a largo plazo si tendr consecuencias negativas en la salud  he dejado de usarlo porque me da miedo  he decidido acudir a un centro de belleza ',\n",
       " 'javier la caja esta doblada muy doblada y eso que es de aluminio no quiero ni pensar como habr a llegado si hubiera sido de cart n    las pinturas parece que est n en buen estado habr que esperar a tener que sacarles punta para confirmar que no tiene la mina partida tal y como viene la caja ',\n",
       " 'no funciona bien los voy a devolver ya que pierde la se al cada minuto y hay que volver a buscarlo',\n",
       " 'no lo he recibido todav a despu s de un mes no me ha llegado todav a el producto despu s de un mes y tampico tengo noticias de donde esta     porfavor confirmarme donde esta y cuando lo recibo ha sufrido retraso varias veces deb la fecha de entrega que me confirmaron',\n",
       " 'lamentable p simo no lo recomiendo mejor tomarse un caf con el dinero que cuesta ',\n",
       " 'no es lo solicitado devolv el producto y me volvieron a enviar el mismo producto  lo venden como confidencial pero es una carcasa protectora normal  no oscura ',\n",
       " 'no funciona decepciono no conecta correctamente los conectores o sea no carga  no hice caso a las opiniones y es tirar dinero  no sirce',\n",
       " 'nunca he recibido el envio el vendedor se desentiende y amazon tambien     la tarjeta genial   comprada en otro sitio',\n",
       " 'to i los guantes est n bien pero de una primera puesta se me an roto donde el belcro que soluci n me pueden dar ????',\n",
       " 'fallos en cadena  lamentable  tras hacerme amazon prime    para tener terminal a corto plazo resulta que no llega en los plazos y me lo retrasan una semana    llamo para arreglarlo    me lo traen a los dos dias     pero para sorpresa    me cobran euros m s  sin aplicar la oferta que hab a los d as y de prime day    llam para reclamarlo y para colmo me dicen que no pueden aplicarme el precio inicial porque    atenci n    desconocen el precio que pusieron    de traca    lamentable para ser un servicio premium que dicen vender    fallo en entrega en precio y sin saber o querer saber el precio de venta',\n",
       " 'estoy pensando en devolverlo no estoy muy contenta con el libro recibido ya que me ha llegado sin la funda pl stica que envuelven los libros thermomix y por tanto algo sucio de haber sido manoseado  adem s en algunas partes de las tapas est rota la parte pl stica fina protectora de la cubierta ',\n",
       " 'no lo he recibido no lo he recibido a n  si no lo hago esta semana procedere a aplicar las medidas necesarias ',\n",
       " 'mala compra  no lo recomiendo  es de mala calidad y lo tuve que modificar espero que no se caiga el microondas  yo no hice caso al comentario malo que ya tiene este soporte pero tiene raz n compraros otro ',\n",
       " 'duda para devoluci n una estrella hasta solucionar el problema  abri la caja en el suelo con much simo cuidado porque yo para esto hago hasta un ritual con lo que mola abrir cajas grandes de estas    y vi que el pl stico del lado inferior del apoyado derecho est roto  me pod is mandar apenas la pieza? o tengo que devolver toda la silla? gracias ',\n",
       " 'estaba usada la mesa funciona bien pero estaba usada tube que limpiarla toda de las manchas que tenia y algunas no se han ido me parece increible por barata que sea que te envien algo en ese estado    ',\n",
       " 'c mo calificar un pedido que nunca se entreg ??? al llegar a casa encontr restos de cart n y pl stico en el patio   al parecer el repartidor decidi tirar el paquete por debajo de la puerta y mi perra se lo comi   me parece un servicio muy lamentable  solo advierto y espero que mi perra no se ponga mala a causa de la falta de profesionalidad del repartidor  adem s exijo un reemplazo del producto antes del viernes',\n",
       " 'no valen la pena son globos bastante peque os y muy muy fr giles  se revientan con facilidad y se desinchan muy r pido  no valen la pena por lo que cuestan ',\n",
       " 'rocio lo iba a usar solo para el hospital cuando diese a luz y la calidad es tan mal que se descosi y rompi el mismo d a  por lo tanto lo he tenido que tirar con solo uso ',\n",
       " 'no se puede esterilizar despues de esterilizarlo un par de veces se estropean ',\n",
       " 'calidad no es bien de cartuchos funciona solo negro y azul mejor pagar un poco mas para tener un poco mas de calidad no recomendo',\n",
       " 'muy malo no funciona a la temperatura adecuada  al principio llegaba a la temperatura maxima pero a la tercera vez que lo utilice dejo de calentar a m s de grados ',\n",
       " 'descontento me lleg una bater a diferente a la solicitada   solicit a amazon la devoluci n amazon se hizo cargo ',\n",
       " 'mala presentaci n embalaje muy malo despu s de comprar en otros vendedores este es p simo    no viene separado por tama o    todo junto ',\n",
       " 'fatal tardo mucho en llegar y cuando llego depues de un mes no funcionaba una elice problemas para dar una solucion el vendedor ',\n",
       " 'malo no lo siguiente  el arn s es s per peque o mi hijo es grande tiene a os y no le va y eso que pone para ni os de a a os  los acabados mal simos el velcro mal cortado y mal rematado  las correas igual no me f o de este producto  lo hemos devuelto ',\n",
       " 'disgustado  falsa publicidad lo suben euros para la semana de blackfriday y en la descripcion dicen que es la version y no es as te envian el x max ii pro que es la primera versi n que no os enga en',\n",
       " 'no llega el pedido completo solo me ha llegado una cortina cuando se especifican que vienen   nadie viene a recoger mi devoluci n y tampoco me env an la pareja  es un producto de calidad pero incompleto no me sirve  necesito una soluci n urgente ',\n",
       " 'tirar el dinero no sirve para nada dinero tirado',\n",
       " 'no me va este m vil me va muy mal faya el teclado much simo y no dura nada la bater a vaya mierda de m vil quiero saber si tiene garant a',\n",
       " 'decepcionante lo compr hace bastante y lo desech en un caj n porque la bater a no duraba apenas un par de horas  no lo recomiendo',\n",
       " 'micro no va el microfono nova  no encuentro como mandaros un email para poderlo solucionar',\n",
       " 'jes s el producto aguant en funcionamiento minutos contados y ech a arder de malisima calidad yo lo quer a para darle pocos usos ya que yo tengo un horno mejor y ni un uso me di ',\n",
       " 'no recomiendo su compra no se ven los colores de las llamas adem s de ser velas enanas y muy muy fr giles  no recomiendo su compra ',\n",
       " 'error destinatario no me ha llegado el pedido que supuestamente iba a llegar a esta hora y adem s se han equivocado de destinatario  ???????????????????',\n",
       " 'falta de seriedad pues no s c mo va   despu s de mucho esperar he decidido anular el pedido  muy poca seriedad por parte del vendedor y gracias amazon por vuestra rapidez en contestar ya que el vendedor no se puso en contacto conmigo ',\n",
       " 'lo tuve que devolver por malo no vale ni para estar apagado ya con eso lo digo todo   ',\n",
       " 'pesimo servicio de entrega y por parte de amazon pesimo servicio de entrega y por parte de amazon',\n",
       " 'ironman habra gente que les vaya bien ami personalmente las peores plantillas que e tenido',\n",
       " 'la bater a recibida no corresponde con la foto la foto de la bater a no corresponde con la recibida  la recibida no trae el conector justo enfrente del enchufe por lo que hay que forzarlo para conectarlo ',\n",
       " 'la falta de protecci n que tiene el cliente con ustedes cuando ocurren estas situaciones despu s de un mes a n no ha llegado no se debe abonar por adelantado cuando un pedido tse entrega en un mes',\n",
       " 'an nimo no a salido nada bueno llevo cuatro meses con el y esta completamente undido con la formar del cuerpo  no lo recomiendo ',\n",
       " 'nada lo que no me ha gustado esquema no viene ni con cargador usb como muestra en la foto y descripci n y lo otro es que tienes que comprar el cable hdmi para poder conectarlo a la tv',\n",
       " 'fall con cristal el cristal que viene ha sido m s peque o  horrible  en cuanto al teclado de momento funciona ',\n",
       " 'no la recomiendo es preciosa pero est mal hecha  en dos d as de uso se me ha despegado y roto    dos d as',\n",
       " 'es autentica? porqu viene el envase de la colonia abierto sin ning n tipo de papel celof n etc? da mala impresi n de autenticidad ',\n",
       " 'malisimo nada m s ponerla se a roto',\n",
       " 'mal producto como ponerse barro en los labios',\n",
       " 'mala calidad de fabricaci n mala calidad en la f bricacion los tornillos de cuelan por los agujeros y el vendedor no me quiere mandar otro dice q se a roto en el trasporte y viene as de fabricaci n pero es mejor echarle la culpa a otros',\n",
       " 'p simo me lleg estropeado  ped cambio y nunca me lo enviaron  al final me devolvieron el dinero pero no es lo que yo queria ',\n",
       " 'nada pone que el pedido a sido entregado y a n no me ha llegado y exijo la devoluci n de mi dinero',\n",
       " 'el producto no es como esperaba han llegado todos los farolillos de color azul no de varios colores como ilustra la foto del producto  no estoy satisfecha',\n",
       " 'botella oxidada la tir a la basura porque ol a a oxidado  no hab a forma de quitarle el olor  daba miedo beber agua de ah   mala compra ',\n",
       " 'no ha sido entregado el producto no se ha entregado',\n",
       " 'xx ha venido muy peque o no era una talla l parec a m s una xxs',\n",
       " 'correos express p simo transporte a n no me ha llegado el producto llevo desde el esperando y no s nada de l  necesitaba el producto para hacer un regalo para el domingo y no lo voy a poder entregar a tiempo  s que no es vuestro problema si no el del transportista les he llamado y no me cogen el tel fono ni ayer ni el martes teniendo en cuenta que est semana es un poco rara con tantos festivos de por medio  ruego me den una soluci n con la m xima brevedad  gracias de antemano ',\n",
       " 'mala experiencia me lo compr para darle uso en la playa y por qu en la foto se ve a robusta    el caso que he ido a la playa con un poquito de viento nada exagerado   una odisea para montarla    dos personas pas ndolas canutas   levantabas de un lado y se iba de otro   un desastre    luego la tela muy mala y fina   al poner los vientos las costuras no tiene pinta de aguantar a la larga de hecho una se descosido un poco   los tubos uno se torci al caerse la carpa hacia un lado al ponerla de pie   conclusi n    una mala compra para el precio que tiene   lo he mandado a devolver      le pongo una estrella por qu me obligan a ponerla si no no le pondr a ninguna',\n",
       " 'una decepci n el pez no se mov a no ven an las pilas incluidas como se dice en el anuncio  adem s el envoltorio estaba estropeado  me ha decepcionado la verdad ',\n",
       " 'no funciona no aparece en un imac comprado en marzo de ',\n",
       " 'no funciona se instalo y despu s de las pruebas unas seis o siete dosificaciones dej de funcionar dur en uso unas horas   es el m s bonito de los que he visto y el m s caro ',\n",
       " 'estafa no enfr a nada  pone aire acondicionado y no lo es  es un ventilador peque o y que saca poco aire por euros  por euros ten is lo mismo en el chino de al lado ',\n",
       " 'juan jos c mo ten a que pagar los portes a china no lo mand val a m s los gastos sin saber si mandar an el correcto',\n",
       " 'no vale para nada cuando lo colocas notas que no se adpata a la pantalla curva del tel fono  no reconoce apenas el t ctil hay que apretar much simo la pantalla y escribir es horrible  para colmo no funciona el reconocimiento de huella  lo voy a devolver es una estafa ',\n",
       " 'estafa   muy mal el producto me lleg usado    ',\n",
       " 'dinero tirado no vale para nada es como si te pones una camiseta interior dinero tirado a la basura quer a unificar y lo que haga falta es meter m s tiras una pena de dinero tirado',\n",
       " 'no funciona este producto no funciona  microsoft office no reconoce las claves enviadas para activar el producto  llevo cinco dias intentando activar el producto pero no hay manera  tampoco he encontrado el sistema en amazon para devolver el producto ',\n",
       " 'pedido perdido no recibido no puedo opinar',\n",
       " 'es plata? pone que es plata pero se ha puesto muy fea en poco tiempo tengo otras cadenas de plata y no me ha pasado esto',\n",
       " 'picante no te lo puedes beber es picante y sabe mal',\n",
       " 'suena cuando ya se ha hecho pis del todo compr este aparato por los comentaros de los usuarios y por ser un amazon choice pero las dos noches que ha sonado ha sido tarde y ha mojado todo  hemos utilizado otros que avisan mucho antes les despiertan apenas notan una m nima humedad  en este caso cuando suena ya es tarde  desde luego si pudiera lo devolv a',\n",
       " 'p sima calidad al abrir el m vil l tapa se rompi  ',\n",
       " 'no disfrutar s leyendo muy triste y decadente una historia demasiado amarga',\n",
       " 'duraron d as cada cable ha durado dias de uso en casa cada uno  esto es un nuevo record  nunca m s comprare de esa marca ',\n",
       " 'juana si todav a no me ha llegado como voy a valorarlo si estoy reclam ndolo y me dice que esta de reparto',\n",
       " 'mala relaci n calidad precio la bater a dura poco es caro cuesta mucho apagarlo pues el bot n de encendido apagado est bastante duro y los resultados son decepcionantes  no aconsejable sobre todo si lo que deseas es que exista una relaci n razonable entre la calidad y el precio ',\n",
       " 'fatal llevo esperando recibirlo desde diciembre ',\n",
       " 'no me llego lo que pedi compre este producto y me llego a casa un parche para la ropa',\n",
       " 'estupendo servicio de devoluci n la bater a no funcionaba correctamente nunca lleg a cargar ning n dispositivo  gestion la devoluci n un par de d as despu s de recibirla y la pude devolver sin problemas ',\n",
       " 'decepcionada con la c mara he probado la camara y solo funciona cuando el tel fono est cerca de la c mara no avisa cuando hay movimiento  adem s que no graba la c mara estando en casa con lo que no tiene el uso que necesito y la voy a devolver ',\n",
       " 'calidad china producto de mala calidad se rompi a los d as de uso',\n",
       " 'ni la tijera corta he destrozado al perro a bocao parece que he pelado el perro con ninguno de los accesorios corta se atranca y no corta asi que con la cuchilla a pelo y ni eso una mierda de maquinilla   ',\n",
       " 'mala calidad llegaron y no funcionaba una ellas   ',\n",
       " 'muy mala compra  despu s de usarla veces la capa antihaderente ya se ha pelado ahora hay que ponerle papel de aluminio  mal sima calidad ',\n",
       " 'timo es bastante m s peque a de lo que pone y no es un error ya que solicit un cambio por si hab a alg n error pero me lleg la misma ',\n",
       " 'mala bater a fatal me ha llegado la bater a en mal estado hinchada y doblada  el dron ven a con un programa predeterminado y hab a que resetearlo para poder ponerlo en marcha',\n",
       " 'el enga o y las pegas a la hora de recuperar el importe el bolso no es de cuero es de pl stico la cremallera es muy endeble y para colmo el vendedor pone todos los inconvenientes para devolverlo  gracias a la garant a de la a a la z de amazon he podido recuperar el dinero ',\n",
       " 'no es lo de la descripcion no son de mm me siento enga ado por el vendedor  estaba a punto de romper los portal mparas son gigantes ',\n",
       " 'asa no plancha no vale para lo que dice no es una plancha como tal sino que asa   ',\n",
       " 'funciona mal no lo recomiendo funciona mal no lo recomiendo ',\n",
       " 'plazos no cumplidos aun estoy esperando a que llegue ',\n",
       " 'fatal no vale para nada  no se aguanta es como la bandeja de los canalones el material  fatal he cogido una caja la he abierto y me hace mejor funci n  cuando se ensucie abro otra caja',\n",
       " 'no lo recomiendo lo compr a principios de enero y ni me a llegado  una compra nefasta ni lo recomiendo  amazon ten a que tener m s cuidado con los proveedores ',\n",
       " 'bandeja horno la tengo en devoluci n por que pone que para hornos ikea y no cabe es m s grande',\n",
       " 'mala calidad se me rompi el cable al intentar sacar el usb del cargador',\n",
       " 'peque os son muy peque os y no vuelan nada',\n",
       " 'llego roto pero muy bonito me llego el reloj roto solicito devoluci n',\n",
       " 'mala calidad viene cojo lo he intentado poner derecho apretando tornillos quit ndolos y volviendo a ponerlo pero no hay maneras    si no fuese porque no he encontrado otros de compartimentos lo devolver a  aunque jode gastarte un dinero para que luego no sea de la calidad que se espera   ',\n",
       " 'maria p rez revilla  los tornillos no agarra ni uno es imposible montarlo menudo chasco y como ya saqu los tornillos de su bolsa y todo no lo puedo devolver valla mala compra ',\n",
       " 'muy peque o es muy peque o no lo recomiendo',\n",
       " 'no recib el pedido de tres botes de manuka buenas tardes esta ma ana recib un paquete en el que conten a dos pantallas de cristal de un m vil en vez de tres botes de manuka  por favor necesitar a que me enviasen el pedido correcto y vengan a recoger el sobre con dichos contenido ',\n",
       " 'caras y peque as son m s peque as de lo que me esperaba  para ese tama o creo que el precio es muy elevado ',\n",
       " 'erronea el protector que han mandado no se corresponde con el huawei p lite  la pantalla le esta peque a ',\n",
       " 'nada recomendable no lo recomiendo  la bater a dura muy poco y no se sincroniza bien con el iphone  mejor comprar el willful smartwach que es m s barato y tiene las mismas caracter sticas ',\n",
       " 'muy mal servicio no puedo opinar sobre el art culo porque no lo he recibido     tuve que reclamar la devoluci n de mi dinero    ',\n",
       " 'durabilidad no se porque solo me duran afeitados si lo compro en mercadona puedo afeitarme hasta veces    ',\n",
       " 'juan pues esperaba una mayor calidad del producto la verdad  lo recib ayer y el belcro que de una de las asas se ha descosido en el primer uso  yo recomendar a otro corrector en lugar de este',\n",
       " 'seur es nefasto cambiad de mensajeria dos meses dos envios diferentes y vuelven a equivocarse y no me envian el somier nefasto el peor pedido de amazon y eso que compro todos los meses muy muy mal',\n",
       " 'la frecuencia no es de mhz es de solo mhz',\n",
       " 'estafa escribo respecto a otro producto un hoverboard de mas de euros en el que me han estafado y ahora al haberlo quietado no puedo escribir la opinion  estafa doble y ahora me diran que esto no se puede publicar',\n",
       " 'lleno de virus lo he comprado para mi madre y ella dice que prefiere tener un tel fono b sico que tener un m vil que le salgan publicidad y cosas no deseadas su virus de f brica no deja que sea un tel fono inteligente sino m s bien un pisa papeles ',\n",
       " 'sigo sin recibir el pedido despues de d as el mail aun no ha llegado',\n",
       " 'mal simo    no compren este protector no sirve para nada he perdido mi dinero es de mal sima calidad no recomendado deber an devolver el dinero   ',\n",
       " 'cuenta de pandora no me ha gustado  no entra en la pulsera pandora y la soluci n es que reembolsan solo euros y me quede co ella',\n",
       " 'no es util  no alumbra mucho y fundida en menos de d as ',\n",
       " 'parece del top manta mal sima el aroma se va en un minuto',\n",
       " 'una mierda no se seca con la lampara tirar el dinero     lo unico bueno son los moldes porque el gel una porquer a',\n",
       " 'no aconsejo la he tenido una semana y muy ruidosa tira much sima agua y el molinillo no funcionaba bien todo hay que decir que no me pusieron problemas para la devoluci n y muy r pido',\n",
       " 'desilusionado nunca lleg el producto no puedo valorarlo pero el vendedor perfecto me realiz la devoluci n en cuanto le dije que no hab a llegado el despertador',\n",
       " 'no lo recomiendo un producto totalmente in til y escribo este comentario despu s de haber comprado el segundo pack de dos unidades al principio por lo poco incipiente de la barriga y que no aparece ninguna estr a uno puede llegar a confiar en su eficacia pero lamento decir que de eso nada habiendo llegado ya al noveno mes su aparici n ha sido inevitable  no lo recomiendo en absoluto ',\n",
       " 'no viene funciona no funciona no se encienden las luces  no se si es por fallo de fabricaci n o por otro motivo  no lo recomiendo',\n",
       " 'mal simo no vale para nada he querido devolverlo y misi n imposible  viene de china y para devolverlo corro con los gastos de env o que valen m s que el producto',\n",
       " 'enga ado a mis gatos no les hizo nada de efecto  me siento totalmente enga ado',\n",
       " 'ayuda montar cambiador como se hace pars montar el cambiador? no hay forma de juntar los palos curvados con el otro extremo solo entra  ',\n",
       " 'miguel maroto ven a descosido en la axila muy mal  no entiendo c mo env an una prenda deteriorada  tuve que coserla y me parece que dice muy poco de la calidad',\n",
       " 'un enga o o una estafa   ???? me acaba de llegar el pedido y solo contiene dos unidades cuando la oferta dice claramente que son dos lotes de unidades cada uno    no se pueden publicitar dos lotes y enviar solo uno   ',\n",
       " 'no comprar al vendedor nada muy mal trato solo te devuelven el por ciento si viene mal o por error es una estafa vaya',\n",
       " 'calidad horrenda  los tuve que tirar calidad horrenda  los tuve que tirar',\n",
       " 'muy mala calidad se partieron a las primeras de cambio  plastico de muy baja calidad  no deberian de vender cosas de tan mala calidad ',\n",
       " 'no lo reconoce ninguna smart tv   un chasco    lo devolv porque mi pc se lo reconoc a pero mi televisi n smart tv no prob en varias televisiones y en todas daba el mismo fallo    una decepci n total porque precisamente lo compr para pasar contenido desde el ordenador a la tele     as que lo que habido devolviendo despu s de d as de uso sin conseguir que funcionara en condiciones',\n",
       " 'blanda y mal ajuste muy endeble no se ajusta',\n",
       " 'la bomba se rompe la pecera es preciosa y viene muy bien preparada pero la bomba que filtra y oxigena se rompe y el agua se enturbia en el d a  el vendedor muy amablemente nos repuso la primera pecera rota pero es que la segunda se ha vuelto a romper al primer mes  no compr is esta pecera ',\n",
       " 'muy mala compra  muy mala compra  no hice caso a los comentarios y eran ciertos los materiales pl sticos son de mala calidad y el dise o p simo  la tapa no cierra bien y no ofrece ning n tipo de estanqueidad al core o las pilas  no aguantar a ni un poquito de humedad  tiene pinta de muy fr gil y viene sin cargador para el core  he tenido otras petzl antes y eran de mejor calidad y acabados  encima como he abierto la caja no me devuelven todo el dinero  un gran error comprar este tipo de productos en amazon ',\n",
       " 'peque o no cubre el totalidad de la pantalla dejando bastante margen descubierto y por tanto desprotegida la pantalla  no lo recomiendo ',\n",
       " 'medio vac o es incre ble que me haya llegado medio vac o seguramente el vendedor me ha endosado el producto procedente de una devoluci n absolutamente decepcionado   ',\n",
       " 'depende del uso que le des yo directamente lo he devuelto    tiene super poco ngulo la calidad de la grabaci n es m s bien mala y en sensor de movimiento funciona de aquella manera    no lo siento no lo comprar a ni lo recomiendo  aunque calidad precio no te puedes quejar porque es rid culo depende de lo que necesites de ella puede que te sirva pero no es mi caso ',\n",
       " 'timo timo  pon a que era una pulsera xiaomi y es mentira',\n",
       " 'd bil    nada rigido el aparato cumple aunque es muy d bil la uni n con el mango y se dobla a la que haces un poco de fuerza ',\n",
       " 'producto da ado el producto ven a con la caja rota como de haberla abierto para ver lo que hay dentro  adem s de que la botella est partida y las bolas se han salido por toda la bolsa  ha venido por correos express ',\n",
       " 'art culo da ado deformados en malas condiciones el vendedor me recomienda que lo ponga derecho o que lo tire pq es barato  eso le recomiendo yo que me devuelva el dinero ya que es barato ',\n",
       " 'defectuoso al segundo d a se estropeo',\n",
       " 'mal simo se quedan burbujas los que ven an tirados a la basura',\n",
       " 'error en el producto diferente color no me ha llegado el mismo producto me ha llegado en otro color en fucsia y sin el dibujo  y yo quer a el de la imagen',\n",
       " 'desastre pides una cosa y te mandan otra  ped el reposa pies con enganche a barra vertical m s caro y compatible con el carro maclaren  me enviaron el de enganche horizontal que es m s barato y ahora inmerso en un l o de devoluciones sin poderte poner en contacto con dicha empresa ',\n",
       " 'no queda bien para este modelo no se adapta a la pantalla las dimensiones no son las correctas',\n",
       " 'baja calidad se han estropeado dos tras pocas horas de uso o   y los que todav a continuan no dejan de parpadear  baja calidad esperaba que al menos duraran m nimamente ',\n",
       " 'descontenta no he recibido el protector del modelo de mi m vil  en la imagen se ve perfectamente que tiene un espacio libre para la huella digital y el que recib no lo tiene lo que no permite que se adhiera completamente el protector en la pantalla ',\n",
       " 'demasiado fr gil nos decepcion un poco pues los llaveros no se quedan colgados y lo vemos fr gil ',\n",
       " 'el regalo perfcto pero se rompio regal el espejo a una amiga qued encantada con el espejo el cargador la luz los aumentos y en menos de un mes me dice que se le despego la ventosa y termin hecho a icos  instalado en el espejo del cuarto de ba o   me he sentido fatal',\n",
       " 'no vale para nada no quita los puntos negros',\n",
       " 'buen sonido cable falto de calidad  el sonido est muy compensado y bastante n tido  solo me han durado tres meses ha fallado la parte del cable que va junto a la clavija ',\n",
       " 'liquido vaper el sabor es mal simo no vale la pena comprarlo ',\n",
       " 'donde esta mi pedido?? todav a no me a llegado y en teor a me tendr a que haber llegado el de diciembre donde est mi pedido',\n",
       " 'la devolv el l ser no funcionaba  lo que s funcion a la perfecci n es el sistema para hacerme llegar un producto defectuoso ',\n",
       " 'no util se acaba rompiendo al ser curvo ademas las letras de los bordes no se marcan bien',\n",
       " 'aya el bolso me gusto el primer dia el segundo ya no porque se me a bloqueado y no se abre gaste mi dinero por nada ',\n",
       " '  el reloj es perfecto pero me lleg con d as de retraso ',\n",
       " 'no llegaron nunca las recib   amazon tuvo que devolverme el dinero ',\n",
       " 'no es de calidad las piezas quedan flojas y se desmonta no vale la pena comprar este producto',\n",
       " ' no me funcionan  me pongo a enchufarlo y no se encienden  no s que puede pasar  pero vaya mal  decepcionada',\n",
       " 'el producto no ha llegado    el producto no ha llegado     hace un mes desde que pas la fecha de entrega y todav a no se nada   ',\n",
       " 'lamentable insulsa facilona previsible de suspense nada de nada y los personajes sacados del manual de personajes de novela negra  y el final    est pido ',\n",
       " 'producto golpeado he recibido el paquete y lo primero que me encuentro es que viene golpeado  es la primera vez que me pasa esto con amazon y no se si devolver el producto antes ni de probarlo  por s acaso ',\n",
       " 'producto usado vendido como nuevo el producto estaba usado  estaba mojado con restos de algo blanco tal vez detergente y sucio  pueden decir que estaba mojado porque lo prueban y blabla    pero el pl stico donde vienen las instrucciones hab a sido abierto y posteriormente sellado con calor una chapuza  lo devolv sin probarlo ',\n",
       " 'muy mal empaquetado muy bonito pero mal embalado el paquete sin proteccion ninguna y la sombra de ojos viene rota ',\n",
       " 'no refleja en la tulipa del faro ilumina hacia arriba estando bien colocada alumbra mucho y blanco pero nada hacia adelante colocandola en la posicion correcta en el faro no ilumina recto ni hacia el suelo ilumina hacia arriba y no refleja nada en la tulipa del faro con esta bombilla dejaba de funcionarme la bombilla de posici n de w ',\n",
       " 'mal sima calidad  la he comprado justo ahora dos a os  a n no la he estrenado y la saqu del caj n de la cocina y me la encuentro oxidada  para tirar con ella ',\n",
       " 'mala calidad he comprado de otras marcas y stos me han decepcionado  lo mejor que puedo decir de ellos es que pegan bien pero dejan residuo al despegarlos y el olor no dura m s de horas',\n",
       " 'francisco javier garrote es la segunda vez que se confunden y no me mandan lo pedido me gustar a saber por que en las caracter sticas pone una cosa y luego manda n otra inferior ped de metros y mandaron de metros ',\n",
       " 'decepcionado con la compra    pensaba que iba a ser mejor  ya que el precio es de un nivel alto para un smartwatch  es lento y la bateria no me a durado mas de horas usandolo normal  y tengo un galaxy watch que me dura la bateria hasta dias y usandolo bastante  me a decepcionado  me esperaba mas potencia ',\n",
       " 'md de verg enza     no volver a comprar m s aqu es incre ble q en m s de un mes y pico no ha llegado mi pedido',\n",
       " 'cambiar cable no devolver el dinero hola muy buenas ped este cable y no funciona quisiera otro cable en vez de la devoluci n del producto',\n",
       " 'muchas pelusas los pantalones sueltan mucha pelusa al quitarlos y ponerlos los he lavado ya unas cuantas veces incluso del rev s dando la vuelta para que saliesen todas las pelusas pero ni a n as si tienes que practicar deporte por ejemplo en un gimnasio y te tienes que cambiar dejas el suelo lleno de pelusas y no es muy agradable ',\n",
       " 'mala compra porque no se puede vender una cosa asin desde amazon el embalaje vergonzoso todo arrugado la presentaci n malisima mal cortado buscar otro cuadro porque es una mala compra los clientes no nos merecemos un producto asin',\n",
       " 'lo devolv lo devolv    no vale para el tallaje que anuncia y mi hijo se escurr a adem s   ',\n",
       " 'f lix todavia no ha llegado el producto ?es la primera vez que no llega a tiempo a a a a a a',\n",
       " 'nada recomendable llego mas tarde de lo qeu tenia que llegar y encima eran anillas de llavero de las normales redondas i de lo mas feas que hay nada qeu ver con las de la imagen planitas que dan una sensacion de calidad con acabado cromado',\n",
       " 'no la recomiendo en casi un a o despu s de cambiarlo veces no funciona llevo un a o as sigue sin funcionar he hablado por telefono con el servicio tecnico y nada me daba muchos fallos de software el servicio t cnico tarda d as en contestar los email tuve que borrar todos los datos para reiniciar la unidad y al final me la cambiaron la nueva tampoco funciona perfecta tengo miedo a apagarla o q se valla la luz por que muchas veces al apagar o reiniciar se traba y no arranca     no recomiendo esta opci n ir a otra marca aunq sea un poco m s cara',\n",
       " 'una lastima     un producto no deseado porq me enviaron otra marca  por favor m s atenci n y m s confianza que se ofrecen  no coincide el producto ',\n",
       " 'no lo recibido todav a no lo he recibido  me parece un timo  y me lo han cobrado',\n",
       " 'producto de calidad nefasta no dur ni minutos de uso     sali volando el muelle que hab a dentro de la carcasa que sujetaba el movil dentro de las gafas   p simo es poco     ',\n",
       " 'demasiado fino muy cutre para lo que ha costado encima vino roto   no lo recomiendo para nada',\n",
       " 'se sale el cable no dura nada  sin apenas uso se ha salido el cable de la especie de pegatina que lo sujeta a la placa  es muy fr gil  ',\n",
       " 'no te env an lo que pides aparte de tardar en el env o ped la funda para el iphone y me enviaron la del iphone plus ',\n",
       " 'defectuoso el primero me lleg golpeado y el segundo viene defectuoso el bimasa y tiene holgura por lo que suena siendo nuevo  cada vez que que montan y desmontan me cobran la mano de obra por lo que no me merece la pena volver a cambiarlo  me ha salido m s caro que si lo pide el taller y se hacen cargo de todos los contratiempos que me han surgido',\n",
       " 'protector incorrecto no me gusta nada este protector no pega en los bordes queda fatal no lo recomiendo',\n",
       " 'si evaluar pedido no ha encontrado la direcci n',\n",
       " 'no dura nada la bater a no los compreis no duran ni min los primeros dias y despu s de dejarlos sin usar una semana no m duraban ni minutos por lo demas buen tama o  ',\n",
       " 'mal simo muy descontentos  no funciona  super descontentos  de pl stico y muy flojo pero si al menos hubiera funcionado pues por el precio estaria bien  lo malo que no ha funcionado desde el principio se apaga continuamente sin motivo y para que funcione tienes que reiniciarlo por completo hemos cambiado el usb las opciones pero no ha habido manera se apaga igualmente  lo compramos para un regalo para mi madre para ponerle las fotos de los nietos y est s per desilusionada  l gicamente lo devolvemos ',\n",
       " 'un motor no funciona despu s de meses con un uso de cuartos de hora ya no funciona',\n",
       " 'mal funcionamiento el adaptador esta anclado al objetivo y no sale por nada del mundo no tiene palanca ni nada  no se que hacer',\n",
       " 'poca efectividad el proveedor aun estar buscando el paquete por dos veces se perdi ',\n",
       " 'mal calidad muy mal calidad no funciona bien muchas horas cargando muy poco ',\n",
       " 'luis carrasco aun no me ha llegado el paquete y el vendedor no hace mas que marearme haber si me canso no lo recomiendo',\n",
       " 'demasiada explicacion superflua parece relleno  pensaba que seria mas pr ctico con men s semanales ect  tablas de alimentos no se si los que no aparecen no son recomendados tiene algo en contra de la miel?',\n",
       " 'no cubre total mente no me ha gustado se queda como mm sin cubrir entra la funda y el cristal templado',\n",
       " 'no llega ladron no me llega no contestan mis mensajes timador',\n",
       " 'no vale para nada me funciono segundo despu s ya no giraba y lo tuve que devolver un calvario',\n",
       " 'producto incompleto defectuoso y sucio ha sido una compra vergonzosa que logicamente he tenido que devolver ya que la impresora llego golpeada ya que no llevaba ningun tipo de burbuja o plastico para protegerla simplemente la impresora suela en una caja  por otro lado llego sin manual de instrucciones y sin los cables  ademas la impresora tenia mas polvo que si hubiera estado almacenando polvo meses  una autentica verguenza aunque sea un producto de segunda mano no se deberia de admitir vender asi ',\n",
       " 'no me ha funcionado lo descambie porque no me iba desde primera hora',\n",
       " 'caro y mala caludad le han dado una capa de acabado mate para ocultar grieta y tiene perdida pero no es visible hasta que le quitas la capa mate  no volver a comprar a este proveedor ',\n",
       " 'la resina es de mala calidad es manejable pesa poco f cil de plegar y es econ mico pero no me ha durado entero ni tres meses con un uso dom stico normal  no lo recomendar a ',\n",
       " 'ventosas malas en si la plataforma est bien pero lo esencial que son las ventosas se despegan con mucha facilidad un producto que no volver a comprar ',\n",
       " 'no sirve para la xiaomi k como dice el nombre la funda no sirve para la xiaomi k es muy estrecha y la c mara no entra  me da mucha rabia estos vendedores que dicen que sirve para algo si saben que se va a devolver el producto para ver si enga an a alguien  he perdido tiempo de estar en la playa y no haber comprado otra que si valiese para esta c mara ',\n",
       " 'demasiado flexible son muy endebles  se doblan con facilidad al limpiar cediendo la forma que le das ',\n",
       " 'no cumplen fechas envio de momento no lo he recibido y a amazon no le pas ni una si no cumplen con las fechas de entrega mal bamos',\n",
       " 'no me han entregado el producto por alg n problema con el proveedor y despu s de esperar un par de semanas lo hab a comprado con el servicio de prime me han devuelto el dinero y no me han entregado el producto  no s cu l ha sido la causa pero llevo esperando semanas y no tengo producto ',\n",
       " 'timo los venden usados como nuevos',\n",
       " 'dejo de funcionar al poco tiempo de uso dejo de funcionar y despues de varios intentos con el vendedor y despues de varios meses a n no he recibido ni el reembolso ni el articulo de repuesto ni la opci n de reparaci n  tengo los correos que lo certifican en los que me dice que me mandan otro de repuesto  no os lo cre is ',\n",
       " 'no llego con el mango roto y no se por que raz n no me lo cambiaron',\n",
       " 'muy bien presentado pero a la semana     muy bonito pero se rompe el enganche',\n",
       " 'no me ha llegado despu s de meses no me ha llegado  eso s me lo cobraron cuando lo ped   una verg enza',\n",
       " 'peque o para adulto son demasiado peque os para ser de adulto no cubre las ltimas muelas  quitado el que moldee los voy a devolver ',\n",
       " 'escasa utilidad por el precio no se puede pedir mucho pero es que no le veo utilidad tiene los pinchos que se supone deben abrir la caja de reloj muy anchos y no trae ninguno para utilizarlo en su cometido',\n",
       " 'circunferencia de caucho maquina robusta pero no esta bien conseguida la plataforma de caucho donde se pega la circunferencia de lija ya que se deforma con los bordes irregulares de la madera y no pega la lija en la plataforma tienes que comprar la pieza nueva no se vende el belcro para reutilizar la circunferencia de caucho ',\n",
       " 'obsolescencia programada demasiado temprana compr el art culo el de agosto y hoy de diciembre del mismo a o ha decidido morir  en resumen ni cuatro meses ha durado ',\n",
       " 'denuncia a ministerio consumo denuncia presentada ante el ministerio de sanidad y consumo y organizaci n de consumidores ',\n",
       " 'nada contenta lo quer a para un carrito rosa pero no corresponde con el color de la imagen es de color morado y no era lo que esperaba',\n",
       " 'mala compra en un mes la bater a se agota a los minutos de funcionamiento voy a ver si puedo hacer algo para que me lo reparen o si no me lo sustituyan o reintegren',\n",
       " 'ana alonso una tomadura de pelo acabo de abrir el producto y precintado esto viene en su interior  quedo a la espera de alguna explicaci n por su parte',\n",
       " 'es una pena muy peque os para una m ',\n",
       " 'no sirve esta defectuosa peso la misma maleta y una vez me dice kg otra vez kg otra kg no tiene un rango correcto para el peso realmente no la recomiendo',\n",
       " 'mala calidad del pl stico se ve brillante pl stico de aspecto malo brillante  no la volver a a comprar ',\n",
       " 'mala compra pues no se adieren bien  no me ha gustado',\n",
       " 'dif cil adoraci n no me ha gustado nada ya que no ten a pegamento',\n",
       " 'un timo pierden el vac o o a las pocas horas o en cuesti n de d as  ni llenar poco ni repetir el proceso de vac o  un timo ',\n",
       " 'marga le doy una estrella por darle algo puesto que el producto me tardo meses en llegar i no es nada del otro mundo en cualquier chino se encuentra i mejor de precio no volveria ha comprarlo',\n",
       " 'art culo incompleto decepci n este producto me ha decepcionado me siento estafado  la calidad es buena el embalaje ven a perfecto pero no trae la cantidad que oferta esperaba mis pegatinas y cual es mi sorpresa que al comprobarlas trae solo   no se como podr a reclamar lo que falta pues yo he pagado por que es lo que rese a bien claro en el producto ',\n",
       " 'bien de aspecto  pero uno de los bordes ven a roto el producto est bien  me gusta mucho de aspecto pero uno de los bordes ven a roto  quiz s por el transporte o por lo que fuera  el caso es que no he querido devolverlo y lo pegar con cola de carpintero  no s si le habr pasado a m s gente pero se suele esperar m s de los productos de amazon y de las empresas que los transportan ',\n",
       " 'estafa el env o nunca lleg solo apareci un sobre con el logo de amazon completamente vac o  desde luego no confiar a ninguna compra a esta empresa ',\n",
       " 'no funciona lo he devuelto y todav a no me lo han devuelto el dinero  ',\n",
       " 'ni he podido estrenarlo  voy a devolverlo ya que la pulsera no carga  no he podido ni probarla  una pena  espero que corrijan estos problemas ',\n",
       " 'no es seguro el tama o est bien tiene un a o y creo que le servir para alguno m s  pero no lo veo nada seguro cuando esa era la intenci n  ',\n",
       " 'servicio pesimo  la verdad un desastre de servicio ',\n",
       " 'es amarilla luz calida no hay posibilidad de luz blanca  no tiene color blanco  en estado normal sin colores es amarilla  y aunque le de al bot n de w que es white blanco la luz es amarilla ',\n",
       " 'juan luis zafra los plazos de entrega no se han cumplido se han cambiado y a n as todav a no me ha llegado',\n",
       " 'caro muy bueno pero muy caro',\n",
       " 'jorge valiente al tercer d a dej de funcionar lo voy a devolver no vale la pena comprarlo es una pena por que parec a bueno',\n",
       " 'tarde y malo el producto lleg dos d as tarde y es muy diferente a la imagen que muestran ',\n",
       " 'bonitos pero pesados pesan demasiado s lo los puedo llevar un rato',\n",
       " 'no es compatible con todas las neveras he devuelto el producto tengo una nevera lg y este filtro no es compatible  he tenido que comprar otro modelo ',\n",
       " 'antiguas las pel culas se ven de poca calidad',\n",
       " 'dejo de funcionar lo compre por que pense que el precio era porque seria bueno pero hace unos meses dejo de tomar la lectura de la frente y hace o meses la del oido ademas cuando mas lo necesitaba para eso me compre uno de los de toda la vida mucho mas barato y que funcionan',\n",
       " 'no dura ni un mes  mala calidad no me a durado ni un mes y se a roto como a otros q han opinado la asamblea se a desilachado y la cremalleras se a roto ',\n",
       " 'la caja del env o ven a abierta la caja del env o ven a abierta',\n",
       " 'siempre compraba con amazon pero dudo en volver a hacerlo  al primer uso se me rompi el supuesto cuero no alcance ni a devolverlo    compre algo para tirarlo a la basura se ve a bien  solo espero recuperar algo  ',\n",
       " 'pides s y te llega xxl ped una s y me llega xxl     luego me da mucha pereza buscar donde puedo devolverlo as que una compra fatal y encima no tengo la culpa porque en el pedido est ba marcado pedir talla s    ',\n",
       " 'la devolv lo devolv   a tener en cuenta que no puedes tener la capota puesta en el capazo ',\n",
       " 'un mes esperando y nunca vino despu s de un mes supuestamente enviado pregunt y lo solucionaron cancelando el pedido  un regalo fastidiado sin tiempo de reacci n ',\n",
       " 'importante me falda una piezas a llegado solo uno',\n",
       " 'os puedo decir que no sirve para nada  los palos que sobresalen son muy cortos y no se pueden meter lo suficiente en la arena y con el viento se cae enseguida  deverian de llevar por lo menos cm de palo para introducir en la arena ',\n",
       " ' no me gusta es grande y inc modo',\n",
       " 'mosquitera no la he recibido todav a  as que dif cilmente puedo opinar sobre este art culo  un saludo ',\n",
       " 'muy mal me rompi el bot n de bloqueo y el de bajar el volumen',\n",
       " 'fatal compre dos solo a llegado uno a tardado mas de d as de la fecha que me dijeron muy descontento',\n",
       " 'tiene sulfatos pon a que no ten a sulfatos y es mentira ',\n",
       " 'nunca lleg producto comprado el de junio con fecha de entrega el de julio  llamamos a amazon para confirmar la entrega dos d as no confirman que el dos de julio llegar   pero no llega llamamos a amazon y nos dicen que la entrega ser el de julio  nos acabamos de meter en mis pedidos y ahora la fecha de entrega el el de julio  la atenci n de amazon ha sido muy mala en todo el proceso  estamos muy descontentos y nos planteamos el seguir comprando en amazon sobre todo cua do el producto sea m s grande de lo normal ',\n",
       " 'no cumple mis expectativas la he usado y ya est perdiendo hilos ',\n",
       " 'no funciona desde el principio el producto no funciona as que he tenido que solicitar una devoluci n',\n",
       " 'olga son muy cortos y en la fotograf a no me pareci que tanto solo podr llevarlos en verano pero por lo dem s son bonitos',\n",
       " 'una porqueria la he usado veces  a n sabe el agua a pl stico no se le quita el sabor por mucho que le haya echado agua  la mochila se est deshilachando y la sujeci n de las cuerdas el sticas cruzadas ya se ha roto por lo que las cuerdas el sticas ya no sirven para nada  una tira que sujeta el tubo del camelback tb se ha roto    como se puede tramitar garant a aqu ? amazon ya no me permite',\n",
       " 'no lo llegue a recibir no lo llegue a recibir ya que retrasaron entregan cuando pon a otra entrega el d a que lo compre  hable con amazon y rechaze su pedido  me devolvi el dinero amazon y lo compre a amazon espa a aunque me sal a mas caro y la ten a al d a siguiente aqui',\n",
       " 'cutre y por qu no se puede poner menos    son simples como las que venden el top manta veces m s baratas cristales curras y molduras mejor ni hablar   ',\n",
       " 'alfonso a la segunda botella se ha roto y ha perdido todo el l quido de un lateral  no vale la pena ',\n",
       " 'no lo compres  por muy bien que lo ajustes el protector no se pega bien en los bordes y se quedando levantado y se mete suciedad ',\n",
       " 'mala experiencia muy mal  entiendo que la pantalla curva del note es dif cil de proteger con un protector  pero si no vas bien no s deber a vender  en mi caso se despega de los laterales y he tendi que tirar los protectores a la basura ',\n",
       " 'in til amazon me obliga a escribir palabras pero pienso que la palabra que puede definir mejor el producto es in til ',\n",
       " 'me un poco flojo est libr esperaba mas de el no me a gustado la actitud de los protagonistas me parecieron un poco agobiante    este libro te deja una sensaci n de agobio a medida q lo lees ',\n",
       " ...]"
      ]
     },
     "execution_count": 15,
     "metadata": {},
     "output_type": "execute_result"
    }
   ],
   "source": [
    "#Visualización de texto\n",
    "data_clean"
   ]
  },
  {
   "cell_type": "markdown",
   "metadata": {
    "id": "GTKZ5fUh_Kxz"
   },
   "source": [
    "### Tokenización\n",
    "separar palabras del texto en entidades llamadas tokens, con las que trabajaremos luego."
   ]
  },
  {
   "cell_type": "code",
   "execution_count": 16,
   "metadata": {
    "ExecuteTime": {
     "end_time": "2020-11-14T01:30:40.867479Z",
     "start_time": "2020-11-14T01:28:04.568730Z"
    },
    "id": "IvmIKnAnAJRY"
   },
   "outputs": [],
   "source": [
    "tokenizer = tfds.features.text.SubwordTextEncoder.build_from_corpus(\n",
    "    data_clean, target_vocab_size=2**16 #tamaño de mi corpus, las palabras que aparecen poco se eliminan\n",
    ")\n",
    "\n",
    "data_inputs = [tokenizer.encode(sentence) for sentence in data_clean]"
   ]
  },
  {
   "cell_type": "markdown",
   "metadata": {
    "id": "Ysb2uib8n6b3"
   },
   "source": [
    "### Padding"
   ]
  },
  {
   "cell_type": "code",
   "execution_count": 17,
   "metadata": {
    "ExecuteTime": {
     "end_time": "2020-11-14T01:30:42.410603Z",
     "start_time": "2020-11-14T01:30:40.868480Z"
    },
    "id": "M9qttbt7BMwg"
   },
   "outputs": [],
   "source": [
    "#Vectorización de las palabras\n",
    "MAX_LEN = max([len(sentence) for sentence in data_inputs])\n",
    "data_inputs = tf.keras.preprocessing.sequence.pad_sequences(data_inputs,\n",
    "                                                            value=0,\n",
    "                                                            padding=\"post\",\n",
    "                                                            maxlen=MAX_LEN)"
   ]
  },
  {
   "cell_type": "code",
   "execution_count": 18,
   "metadata": {
    "ExecuteTime": {
     "end_time": "2020-11-14T01:30:42.426606Z",
     "start_time": "2020-11-14T01:30:42.412604Z"
    }
   },
   "outputs": [
    {
     "data": {
      "text/plain": [
       "array([[10318, 20453,    56, ...,     0,     0,     0],\n",
       "       [  226,  1029,     8, ...,     0,     0,     0],\n",
       "       [   75,   292,    25, ...,     0,     0,     0],\n",
       "       ...,\n",
       "       [   34,   116,     2, ...,     0,     0,     0],\n",
       "       [  885,    65,    14, ...,     0,     0,     0],\n",
       "       [ 2918,    20,   455, ...,     0,     0,     0]])"
      ]
     },
     "execution_count": 18,
     "metadata": {},
     "output_type": "execute_result"
    }
   ],
   "source": [
    "#impresión de mi matriz\n",
    "data_inputs"
   ]
  },
  {
   "cell_type": "markdown",
   "metadata": {
    "id": "T4Ac7EXNNblp"
   },
   "source": [
    "### Dividimos en los conjuntos de entrenamiento y de testing\n"
   ]
  },
  {
   "cell_type": "code",
   "execution_count": 19,
   "metadata": {
    "ExecuteTime": {
     "end_time": "2020-11-14T01:30:44.166586Z",
     "start_time": "2020-11-14T01:30:42.428605Z"
    }
   },
   "outputs": [],
   "source": [
    "from sklearn.model_selection import train_test_split\n",
    "from sklearn import preprocessing\n",
    "X = data_inputs\n",
    "y = dataset3['stars'].values\n",
    "#pasar las estrellas de 0 a 4\n",
    "le = preprocessing.LabelEncoder()\n",
    "le.fit(y)\n",
    "y=le.transform(y)\n",
    "\n",
    "#X_train, X_test, y_train, y_test = train_test_split(X, y,test_size=0.3,random_state=101)\n",
    "train_inputs, test_inputs, train_labels, test_labels = train_test_split(X, y,test_size=0.3,random_state=101)"
   ]
  },
  {
   "cell_type": "markdown",
   "metadata": {
    "id": "kWu6hLDG_UJZ"
   },
   "source": [
    "# Fase 3: Construción del modelo"
   ]
  },
  {
   "cell_type": "markdown",
   "metadata": {},
   "source": [
    "Definición de red neuronal"
   ]
  },
  {
   "cell_type": "code",
   "execution_count": 20,
   "metadata": {
    "ExecuteTime": {
     "end_time": "2020-11-14T01:30:44.182590Z",
     "start_time": "2020-11-14T01:30:44.168588Z"
    },
    "id": "fD3nbD_M94Gt"
   },
   "outputs": [],
   "source": [
    "class DCNN(tf.keras.Model):\n",
    "    \n",
    "    def __init__(self,\n",
    "                 vocab_size,\n",
    "                 emb_dim=128, #dimensión de embedding\n",
    "                 nb_filters=50, #cantidad de filtros\n",
    "                 FFN_units=512, #cantidad de neuronas que queremos para redes neuronales densas\n",
    "                 nb_classes=2, #en primer instancia voy a definir como 2 clases pero despues voy a cambiarlo\n",
    "                 dropout_rate=0.1, #% de neurona que quiero apagar. Nos sirve para regularización y evitar el overfitting\n",
    "                 training=False,\n",
    "                 name=\"dcnn\"):\n",
    "        super(DCNN, self).__init__(name=name)\n",
    "        \n",
    "        self.embedding = layers.Embedding(vocab_size,    #embedding va organizando las palabras que tengo en mi corpus\n",
    "                                          emb_dim)\n",
    "        self.bigram = layers.Conv1D(filters=nb_filters,\n",
    "                                    kernel_size=2,\n",
    "                                    padding=\"valid\",\n",
    "                                    activation=\"relu\")\n",
    "        self.trigram = layers.Conv1D(filters=nb_filters,\n",
    "                                     kernel_size=3,\n",
    "                                     padding=\"valid\",\n",
    "                                     activation=\"relu\")\n",
    "        self.fourgram = layers.Conv1D(filters=nb_filters,\n",
    "                                      kernel_size=4,\n",
    "                                      padding=\"valid\",\n",
    "                                      activation=\"relu\")\n",
    "        self.pool = layers.GlobalMaxPool1D() # No tenemos variable de entrenamiento\n",
    "                                             # así que podemos usar la misma capa \n",
    "                                             # para cada paso de pooling\n",
    "        self.dense_1 = layers.Dense(units=FFN_units, activation=\"relu\") #capa de neuronas densas\n",
    "        self.dropout = layers.Dropout(rate=dropout_rate) #capa para regularización \n",
    "        \n",
    "        ####### Capa de salida ###################\n",
    "        if nb_classes == 2:\n",
    "            self.last_dense = layers.Dense(units=1,\n",
    "                                           activation=\"sigmoid\") #en el caso de que sea de dos clases\n",
    "        else:\n",
    "            self.last_dense = layers.Dense(units=nb_classes,\n",
    "                                           activation=\"softmax\") #en caso de que sean mas de dos clases\n",
    "      ##################################\n",
    "    def call(self, inputs, training):  #armando mi red neuronal 3capas de convolución \n",
    "        x = self.embedding(inputs)\n",
    "        x_1 = self.bigram(x)\n",
    "        x_1 = self.pool(x_1)\n",
    "        x_2 = self.trigram(x)\n",
    "        x_2 = self.pool(x_2)\n",
    "        x_3 = self.fourgram(x)\n",
    "        x_3 = self.pool(x_3)\n",
    "        \n",
    "        #concatenando los resultados en un vector y lo introduzco en mi red neuronal densa\n",
    "        merged = tf.concat([x_1, x_2, x_3], axis=-1) # (batch_size, 3 * nb_filters)\n",
    "        merged = self.dense_1(merged)\n",
    "        merged = self.dropout(merged, training)\n",
    "        output = self.last_dense(merged)\n",
    "        \n",
    "        return output"
   ]
  },
  {
   "cell_type": "markdown",
   "metadata": {
    "id": "92XbAZ9E1AMS"
   },
   "source": [
    "# Paso 4: Aplicación"
   ]
  },
  {
   "cell_type": "markdown",
   "metadata": {
    "id": "B8cfYwHME-m0"
   },
   "source": [
    "## Configuración"
   ]
  },
  {
   "cell_type": "code",
   "execution_count": 21,
   "metadata": {
    "ExecuteTime": {
     "end_time": "2020-11-14T01:30:44.198270Z",
     "start_time": "2020-11-14T01:30:44.184588Z"
    },
    "id": "YXwGD-pqFG4n"
   },
   "outputs": [],
   "source": [
    "#definición de parametros para cambiar los de que puse por default\n",
    "\n",
    "VOCAB_SIZE = tokenizer.vocab_size # 65540\n",
    "\n",
    "EMB_DIM = 200\n",
    "NB_FILTERS = 100\n",
    "FFN_UNITS = 256\n",
    "NB_CLASSES = 5 #len(set(train_labels)) #cantidad nros de estrellas diferentes -- cantidad diferente en mi etiqueta \n",
    "\n",
    "DROPOUT_RATE = 0.95 #0.8 #regularización \n",
    "                \n",
    "BATCH_SIZE =32 #32 Reducimos los pesos50\n",
    "NB_EPOCHS = 5 #epocas"
   ]
  },
  {
   "cell_type": "markdown",
   "metadata": {
    "id": "Nddzr1kA7UHC"
   },
   "source": [
    "## Entrenamiento"
   ]
  },
  {
   "cell_type": "code",
   "execution_count": 22,
   "metadata": {
    "ExecuteTime": {
     "end_time": "2020-11-14T01:30:44.260686Z",
     "start_time": "2020-11-14T01:30:44.200271Z"
    },
    "id": "1ETcf5Wl4Q-7"
   },
   "outputs": [
    {
     "name": "stdout",
     "output_type": "stream",
     "text": [
      "WARNING:tensorflow:From C:\\ProgramData\\Anaconda3\\lib\\site-packages\\tensorflow\\python\\keras\\initializers.py:119: calling RandomUniform.__init__ (from tensorflow.python.ops.init_ops) with dtype is deprecated and will be removed in a future version.\n",
      "Instructions for updating:\n",
      "Call initializer instance with the dtype argument instead of passing it to the constructor\n"
     ]
    },
    {
     "name": "stderr",
     "output_type": "stream",
     "text": [
      "WARNING:tensorflow:From C:\\ProgramData\\Anaconda3\\lib\\site-packages\\tensorflow\\python\\keras\\initializers.py:119: calling RandomUniform.__init__ (from tensorflow.python.ops.init_ops) with dtype is deprecated and will be removed in a future version.\n",
      "Instructions for updating:\n",
      "Call initializer instance with the dtype argument instead of passing it to the constructor\n"
     ]
    },
    {
     "name": "stdout",
     "output_type": "stream",
     "text": [
      "WARNING:tensorflow:From C:\\ProgramData\\Anaconda3\\lib\\site-packages\\tensorflow\\python\\ops\\init_ops.py:1251: calling VarianceScaling.__init__ (from tensorflow.python.ops.init_ops) with dtype is deprecated and will be removed in a future version.\n",
      "Instructions for updating:\n",
      "Call initializer instance with the dtype argument instead of passing it to the constructor\n"
     ]
    },
    {
     "name": "stderr",
     "output_type": "stream",
     "text": [
      "WARNING:tensorflow:From C:\\ProgramData\\Anaconda3\\lib\\site-packages\\tensorflow\\python\\ops\\init_ops.py:1251: calling VarianceScaling.__init__ (from tensorflow.python.ops.init_ops) with dtype is deprecated and will be removed in a future version.\n",
      "Instructions for updating:\n",
      "Call initializer instance with the dtype argument instead of passing it to the constructor\n"
     ]
    }
   ],
   "source": [
    "#instanciamos la clase DCNN para actualizar los parametros\n",
    "Dcnn = DCNN(vocab_size=VOCAB_SIZE,\n",
    "            emb_dim=EMB_DIM,\n",
    "            nb_filters=NB_FILTERS,\n",
    "            FFN_units=FFN_UNITS,\n",
    "            nb_classes=NB_CLASSES,\n",
    "            dropout_rate=DROPOUT_RATE)"
   ]
  },
  {
   "cell_type": "code",
   "execution_count": 23,
   "metadata": {
    "ExecuteTime": {
     "end_time": "2020-11-14T01:30:44.275816Z",
     "start_time": "2020-11-14T01:30:44.264688Z"
    },
    "id": "XCuNhMNk4n_u"
   },
   "outputs": [],
   "source": [
    "#Definimos función de pérdida, optimizador y métrica\n",
    "if NB_CLASSES == 2:\n",
    "    Dcnn.compile(loss=\"binary_crossentropy\",\n",
    "                 optimizer=\"adam\",\n",
    "                 metrics=[\"accuracy\"])\n",
    "else:\n",
    "    Dcnn.compile(loss=\"sparse_categorical_crossentropy\",\n",
    "                 optimizer=\"adam\",\n",
    "                 metrics=[\"sparse_categorical_accuracy\"])"
   ]
  },
  {
   "cell_type": "code",
   "execution_count": 24,
   "metadata": {
    "ExecuteTime": {
     "end_time": "2020-11-14T01:30:44.290983Z",
     "start_time": "2020-11-14T01:30:44.277817Z"
    },
    "id": "A1X7h6Bx5Upc"
   },
   "outputs": [],
   "source": [
    "########esta celda es la configuración para guardar el entrenamiento de mi red neuronal##\n",
    "\n",
    "#checkpoint_path = r\"C:\\proyecto\" #ruta donde se guardaria la red entrenada.. deberia estar en tu local!\n",
    "\n",
    "#ckpt = tf.train.Checkpoint(Dcnn=Dcnn)\n",
    "\n",
    "#ckpt_manager = tf.train.CheckpointManager(ckpt, checkpoint_path, max_to_keep=5)\n",
    "\n",
    "#if ckpt_manager.latest_checkpoint:\n",
    "    #ckpt.restore(ckpt_manager.latest_checkpoint)\n",
    "    #print(\"Último checkpoint restaurado!!\")"
   ]
  },
  {
   "cell_type": "code",
   "execution_count": 25,
   "metadata": {
    "ExecuteTime": {
     "end_time": "2020-11-14T01:30:44.306426Z",
     "start_time": "2020-11-14T01:30:44.292426Z"
    }
   },
   "outputs": [
    {
     "data": {
      "text/plain": [
       "array([[  13, 3347, 1525, ...,    0,    0,    0],\n",
       "       [  47,  206,    2, ...,    0,    0,    0],\n",
       "       [  33,    3,    8, ...,    0,    0,    0],\n",
       "       ...,\n",
       "       [   6,   16, 2613, ...,    0,    0,    0],\n",
       "       [  12,   21,    9, ...,    0,    0,    0],\n",
       "       [  14,  165,    4, ...,    0,    0,    0]])"
      ]
     },
     "execution_count": 25,
     "metadata": {},
     "output_type": "execute_result"
    }
   ],
   "source": [
    "#visualización de matriz entrenada\n",
    "train_inputs"
   ]
  },
  {
   "cell_type": "code",
   "execution_count": 26,
   "metadata": {
    "ExecuteTime": {
     "end_time": "2020-11-14T04:22:07.322354Z",
     "start_time": "2020-11-14T01:30:44.308427Z"
    },
    "colab": {
     "base_uri": "https://localhost:8080/",
     "height": 87
    },
    "id": "6eL9EMsa6Igy",
    "outputId": "86ed9057-b489-47cd-d813-f534ce757c8a"
   },
   "outputs": [
    {
     "name": "stdout",
     "output_type": "stream",
     "text": [
      "WARNING:tensorflow:Entity <bound method DCNN.call of <__main__.DCNN object at 0x000001BBCF62D408>> could not be transformed and will be executed as-is. Please report this to the AutgoGraph team. When filing the bug, set the verbosity to 10 (on Linux, `export AUTOGRAPH_VERBOSITY=10`) and attach the full output. Cause: converting <bound method DCNN.call of <__main__.DCNN object at 0x000001BBCF62D408>>: AssertionError: Bad argument number for Name: 3, expecting 4\n"
     ]
    },
    {
     "name": "stderr",
     "output_type": "stream",
     "text": [
      "WARNING:tensorflow:Entity <bound method DCNN.call of <__main__.DCNN object at 0x000001BBCF62D408>> could not be transformed and will be executed as-is. Please report this to the AutgoGraph team. When filing the bug, set the verbosity to 10 (on Linux, `export AUTOGRAPH_VERBOSITY=10`) and attach the full output. Cause: converting <bound method DCNN.call of <__main__.DCNN object at 0x000001BBCF62D408>>: AssertionError: Bad argument number for Name: 3, expecting 4\n"
     ]
    },
    {
     "name": "stdout",
     "output_type": "stream",
     "text": [
      "WARNING: Entity <bound method DCNN.call of <__main__.DCNN object at 0x000001BBCF62D408>> could not be transformed and will be executed as-is. Please report this to the AutgoGraph team. When filing the bug, set the verbosity to 10 (on Linux, `export AUTOGRAPH_VERBOSITY=10`) and attach the full output. Cause: converting <bound method DCNN.call of <__main__.DCNN object at 0x000001BBCF62D408>>: AssertionError: Bad argument number for Name: 3, expecting 4\n",
      "WARNING:tensorflow:Large dropout rate: 0.95 (>0.5). In TensorFlow 2.x, dropout() uses dropout rate instead of keep_prob. Please ensure that this is intended.\n"
     ]
    },
    {
     "name": "stderr",
     "output_type": "stream",
     "text": [
      "WARNING:tensorflow:Large dropout rate: 0.95 (>0.5). In TensorFlow 2.x, dropout() uses dropout rate instead of keep_prob. Please ensure that this is intended.\n"
     ]
    },
    {
     "name": "stdout",
     "output_type": "stream",
     "text": [
      "Epoch 1/5\n",
      "140000/140000 [==============================] - 2071s 15ms/sample - loss: 1.3488 - sparse_categorical_accuracy: 0.3733\n",
      "Epoch 2/5\n",
      "140000/140000 [==============================] - 2051s 15ms/sample - loss: 1.1906 - sparse_categorical_accuracy: 0.4566\n",
      "Epoch 3/5\n",
      "140000/140000 [==============================] - 2050s 15ms/sample - loss: 1.1166 - sparse_categorical_accuracy: 0.4913\n",
      "Epoch 4/5\n",
      "140000/140000 [==============================] - 2053s 15ms/sample - loss: 1.0594 - sparse_categorical_accuracy: 0.5212\n",
      "Epoch 5/5\n",
      "140000/140000 [==============================] - 2057s 15ms/sample - loss: 0.9993 - sparse_categorical_accuracy: 0.5509\n"
     ]
    },
    {
     "data": {
      "text/plain": [
       "<tensorflow.python.keras.callbacks.History at 0x1bbd4e91c88>"
      ]
     },
     "execution_count": 26,
     "metadata": {},
     "output_type": "execute_result"
    }
   ],
   "source": [
    "#Entrenamiento de red neuronal\n",
    "Dcnn.fit(train_inputs,\n",
    "         train_labels,\n",
    "         batch_size=BATCH_SIZE,\n",
    "         epochs=NB_EPOCHS)\n",
    "#ckpt_manager.save() Esta linea es para guardar el entrenamiento"
   ]
  },
  {
   "cell_type": "markdown",
   "metadata": {
    "id": "16Gn6JhJKXDK"
   },
   "source": [
    "\n",
    "## Evaluación"
   ]
  },
  {
   "cell_type": "code",
   "execution_count": 27,
   "metadata": {
    "ExecuteTime": {
     "end_time": "2020-11-14T04:24:26.035514Z",
     "start_time": "2020-11-14T04:22:07.324356Z"
    },
    "id": "Jt2dRZWhKHbT"
   },
   "outputs": [
    {
     "name": "stdout",
     "output_type": "stream",
     "text": [
      "60000/60000 [==============================] - 138s 2ms/sample - loss: 1.1659 - sparse_categorical_accuracy: 0.5224\n",
      "[1.1658917947769165, 0.52236664]\n"
     ]
    }
   ],
   "source": [
    "#Evaluación de mi conjuto test\n",
    "results = Dcnn.evaluate(test_inputs, test_labels, batch_size=BATCH_SIZE )\n",
    "print(results)\n"
   ]
  },
  {
   "cell_type": "markdown",
   "metadata": {},
   "source": [
    "\n",
    "## Conclusión"
   ]
  },
  {
   "cell_type": "markdown",
   "metadata": {},
   "source": [
    "Luego de varias modificaciones de hiperparametros de la configuración de la red se llegó a más de un 50% de acuraccy para la clasificacion multiclase aunque es baja pero antes me daba overfitting. Es evidente que es mejor aplicar un modelo de machine learnig para un problema binario como lo realizado en **DS_Proyecto_04_NLP_CorrilloRomina** ubicado en https://github.com/RomiLuna/proyecto4_DS"
   ]
  }
 ],
 "metadata": {
  "accelerator": "GPU",
  "colab": {
   "collapsed_sections": [],
   "name": "Copy of RNC para NLP.ipynb",
   "provenance": []
  },
  "kernelspec": {
   "display_name": "Python 3",
   "language": "python",
   "name": "python3"
  },
  "language_info": {
   "codemirror_mode": {
    "name": "ipython",
    "version": 3
   },
   "file_extension": ".py",
   "mimetype": "text/x-python",
   "name": "python",
   "nbconvert_exporter": "python",
   "pygments_lexer": "ipython3",
   "version": "3.7.6"
  },
  "toc": {
   "base_numbering": 1,
   "nav_menu": {},
   "number_sections": true,
   "sideBar": true,
   "skip_h1_title": false,
   "title_cell": "Table of Contents",
   "title_sidebar": "Contents",
   "toc_cell": false,
   "toc_position": {},
   "toc_section_display": true,
   "toc_window_display": true
  }
 },
 "nbformat": 4,
 "nbformat_minor": 1
}
